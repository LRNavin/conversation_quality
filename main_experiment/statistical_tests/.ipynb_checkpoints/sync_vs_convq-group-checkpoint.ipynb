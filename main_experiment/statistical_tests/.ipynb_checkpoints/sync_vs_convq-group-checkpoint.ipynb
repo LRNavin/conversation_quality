{
 "cells": [
  {
   "cell_type": "code",
   "execution_count": 1,
   "metadata": {},
   "outputs": [],
   "source": [
    "import sys  \n",
    "sys.path.insert(0, '/Users/navinlr/Desktop/Thesis/code_base/conversation_quality')"
   ]
  },
  {
   "cell_type": "code",
   "execution_count": 7,
   "metadata": {},
   "outputs": [],
   "source": [
    "# from dataset_creation import dataset_creator as data_generator\n",
    "from feature_extract import turntake_extractor as feat_extractor\n",
    "from modeling import dataset_provider as data_gen\n",
    "from dataset_creation import dataset_creator as data_generator\n",
    "\n",
    "import feature_namer_script as feat_namer\n",
    "import constants\n",
    "\n",
    "import seaborn as sns\n",
    "import matplotlib.pyplot as plt\n",
    "import numpy as np\n",
    "import pandas as pd\n",
    "\n",
    "sns.set(rc={'figure.figsize':(11.7,8.27)})"
   ]
  },
  {
   "cell_type": "code",
   "execution_count": 86,
   "metadata": {},
   "outputs": [],
   "source": [
    "# TEST Variables\n",
    "agreeability_thresh=.2\n",
    "missing_data_thresh=50.0 #(in percent)\n",
    "\n",
    "annotators=[\"Divya\", \"Nakul\"]#, \"Swathi\"]\n",
    "zero_mean = False\n",
    "from_store= True\n",
    "filter_missing_data=True\n",
    "transform_features=True\n",
    "add_interactions=False\n",
    "only_involved_pairs=True\n",
    "manifest=\"indiv\"\n",
    "\n",
    "dataset=[constants.features_dataset_path_v7, constants.features_dataset_path_v13] #, constants.features_dataset_path_v13\n",
    "dataset_feat=[feat_namer.get_feature_names_for_dataset_7, feat_namer.get_feature_names_for_dataset_13]"
   ]
  },
  {
   "cell_type": "code",
   "execution_count": 96,
   "metadata": {},
   "outputs": [
    {
     "name": "stdout",
     "output_type": "stream",
     "text": [
      "Generating Dataset for modeling - indiv ConvQ, ...........\n",
      "Number of Groups (After removing missing data) - 85\n",
      "ZERO-MEAN Technique ? - False\n",
      "ZERO-MEAN Technique ? - False\n"
     ]
    },
    {
     "name": "stderr",
     "output_type": "stream",
     "text": [
      "21it [00:00, 205.31it/s]"
     ]
    },
    {
     "name": "stdout",
     "output_type": "stream",
     "text": [
      "Number of Final Data-points (After removing unreliable annotation data) - 179\n"
     ]
    },
    {
     "name": "stderr",
     "output_type": "stream",
     "text": [
      "179it [00:00, 195.35it/s]\n"
     ]
    },
    {
     "name": "stdout",
     "output_type": "stream",
     "text": [
      "Total #Features = 756\n",
      "Generating Dataset for modeling - indiv ConvQ, ...........\n",
      "Number of Groups (After removing missing data) - 85\n",
      "ZERO-MEAN Technique ? - False\n",
      "ZERO-MEAN Technique ? - False\n"
     ]
    },
    {
     "name": "stderr",
     "output_type": "stream",
     "text": [
      "179it [00:00, 938.75it/s]"
     ]
    },
    {
     "name": "stdout",
     "output_type": "stream",
     "text": [
      "Number of Final Data-points (After removing unreliable annotation data) - 179\n",
      "Total #Features = 126\n",
      "Synchrony Feature-Set Size = (179, 882)\n",
      "Total Samples in Analysis - 179\n"
     ]
    },
    {
     "name": "stderr",
     "output_type": "stream",
     "text": [
      "\n"
     ]
    }
   ],
   "source": [
    "# Get Synchrony/Convergence features for IDs (group/ indiv) & respec., Annotations Reader\n",
    "X=[]\n",
    "feature_names=[]\n",
    "for i, curr_dataset in enumerate(dataset):\n",
    "    curr_X, reliable_convqs, reliable_ids = data_gen.get_dataset_for_experiment(dataset=curr_dataset,\n",
    "                                                                        manifest=manifest,\n",
    "                                                                        missing_data_thresh=missing_data_thresh,\n",
    "                                                                        agreeability_thresh=agreeability_thresh,\n",
    "                                                                        annotators=annotators,\n",
    "                                                                        only_involved_pairs=only_involved_pairs,\n",
    "                                                                        zero_mean=zero_mean)\n",
    "    feature_names.extend(dataset_feat[i]())\n",
    "    if len(X) == 0:\n",
    "        X=curr_X\n",
    "    else:\n",
    "        X=np.concatenate((X, curr_X), axis=1)        \n",
    "\n",
    "print(\"Synchrony Feature-Set Size = \" + str(X.shape))\n",
    "print(\"Total Samples in Analysis - \" + str(len(reliable_ids)))"
   ]
  },
  {
   "cell_type": "code",
   "execution_count": 97,
   "metadata": {},
   "outputs": [
    {
     "name": "stdout",
     "output_type": "stream",
     "text": [
      "Transforming Dataset...\n"
     ]
    }
   ],
   "source": [
    "# Transform Features\n",
    "if transform_features:\n",
    "    print(\"Transforming Dataset...\")\n",
    "    from sklearn.preprocessing import StandardScaler\n",
    "    X = StandardScaler().fit_transform(X)\n",
    "#     reliable_convqs = StandardScaler().fit_transform(np.array(reliable_convqs).reshape(-1, 1))"
   ]
  },
  {
   "cell_type": "code",
   "execution_count": 98,
   "metadata": {},
   "outputs": [],
   "source": [
    "# Get groups sizes (for indiv and group)\n",
    "group_sizes = data_generator.get_group_sizes_for_ids(reliable_ids, manifest)"
   ]
  },
  {
   "cell_type": "code",
   "execution_count": 99,
   "metadata": {},
   "outputs": [],
   "source": [
    "#Dataset Prep\n",
    "coord_X = pd.DataFrame(data=X, index=reliable_ids, columns=feature_names) \n",
    "coord_X[\"convq\"] = reliable_convqs\n",
    "coord_X[\"group_sizes\"] = group_sizes\n",
    "# print(coord_X[2:])"
   ]
  },
  {
   "cell_type": "code",
   "execution_count": 100,
   "metadata": {},
   "outputs": [
    {
     "data": {
      "image/png": "[encoded data removed]",
      "text/plain": [
       "<Figure size 842.4x595.44 with 1 Axes>"
      ]
     },
     "metadata": {},
     "output_type": "display_data"
    },
    {
     "name": "stdout",
     "output_type": "stream",
     "text": [
      "W-Stat = 0.7736136317253113\n",
      "P-Value-Stat = 2.394348477826962e-15\n"
     ]
    }
   ],
   "source": [
    "# Plots - Qualitative Analysis\n",
    "sns.distplot(reliable_convqs, kde=True, rug=True)\n",
    "plt.show()\n",
    "\n",
    "from scipy import stats\n",
    "# x = stats.norm.rvs(loc=5, scale=3, size=100)\n",
    "W, p_val = stats.shapiro(reliable_convqs)\n",
    "\n",
    "\n",
    "print(\"W-Stat = \" + str(W))\n",
    "print(\"P-Value-Stat = \" + str(p_val))"
   ]
  },
  {
   "cell_type": "code",
   "execution_count": 101,
   "metadata": {},
   "outputs": [],
   "source": [
    "# Statistical Tests:(Main Question)\n",
    "# Do Turn-Taking features have a significant effect on the Perceived Individual's Experience of Conversation Quality?\n",
    "# TT Features can be categorised into three categories -> Equality, Fluency and Synchronisation\n",
    "#\n",
    "# (Sub Question)\n",
    "# Does Conversation Equality have a significant effect on the Perceived Individual's Experience of Conversation Quality?\n",
    "#  1. Use Features \"#turns\", \"%talk\", \"mean_turn\". \n",
    "#\n",
    "# (Sub Question)\n",
    "# Does Conversation Fluency have a significant effect on the Perceived Individual's Experience of Conversation Quality?\n",
    "# 1. Use Features \"%silence\", \"mean_silence\", \"#bc\". \n",
    "# \n",
    "# (Sub Question)\n",
    "# Does Conversation Synchronisation have a significant effect on the Perceived Individual's Experience of Conversation Quality?\n",
    "# 1. Use Features \"%overlap\", \"#suc_interupt\", \"#un_interupt\". \n",
    "# \n",
    "# For all above questions, after (1), perform below steps,\n",
    "#  2. Fit a Quantile Least Square Regression model on the features vs the convq score.\n",
    "#  3. Analyse p-value significance @ p<0.05\n",
    "#  4. Check the co-efficients for informations."
   ]
  },
  {
   "cell_type": "code",
   "execution_count": 102,
   "metadata": {},
   "outputs": [],
   "source": [
    "final_test_features = list(feature_names)\n",
    "final_test_features.append(\"group_sizes\")\n",
    "final_test_features.append(\"const\")"
   ]
  },
  {
   "cell_type": "code",
   "execution_count": 171,
   "metadata": {},
   "outputs": [
    {
     "name": "stdout",
     "output_type": "stream",
     "text": [
      "#Sync Features = 22\n",
      "#Conv Features = 18\n",
      "#Caus Features = 14\n",
      "#Lag Mimi Features = 18\n",
      "#Led Mimi Features = 18\n",
      "#Total Features = 86\n"
     ]
    }
   ],
   "source": [
    "# Handle MultiCollinearity/Full Rank problem\n",
    "# Temp.Sol -> Use only Magnitude features\n",
    "final_mag_sync_features=[\"const\", \"group_sizes\"]\n",
    "final_mag_conv_features=[\"const\", \"group_sizes\"]\n",
    "final_mag_caus_features=[\"const\", \"group_sizes\"]\n",
    "final_mag_mimi_led_features=[\"const\", \"group_sizes\"]\n",
    "final_mag_mimi_lag_features=[\"const\", \"group_sizes\"]\n",
    "\n",
    "\n",
    "only_mag_features=[\"const\", \"group_sizes\"]\n",
    "\n",
    "for curr_feat in final_test_features:\n",
    "    if \"mag-\" in curr_feat:\n",
    "        if \"-mode\" not in curr_feat and \"-median\" not in curr_feat:\n",
    "            only_mag_features.append(curr_feat)\n",
    "            if \"corr-\" in curr_feat or \"mi-\" in curr_feat:\n",
    "                final_mag_sync_features.append(curr_feat)\n",
    "            elif \"conv-\" in curr_feat:\n",
    "                final_mag_conv_features.append(curr_feat)\n",
    "            elif \"mimicry-\" in curr_feat:\n",
    "                if \"_lag_\" in curr_feat:\n",
    "                    final_mag_mimi_lag_features.append(curr_feat)\n",
    "                else:\n",
    "                    final_mag_mimi_led_features.append(curr_feat)                    \n",
    "            elif \"granger-\" in curr_feat or \"coherence-\" in curr_feat:\n",
    "                final_mag_caus_features.append(curr_feat)\n",
    "        \n",
    "print(\"#Sync Features = \" + str(len(final_mag_sync_features)))\n",
    "print(\"#Conv Features = \" + str(len(final_mag_conv_features)))\n",
    "print(\"#Caus Features = \" + str(len(final_mag_caus_features)))\n",
    "print(\"#Lag Mimi Features = \" + str(len(final_mag_mimi_lag_features)))\n",
    "print(\"#Led Mimi Features = \" + str(len(final_mag_mimi_led_features)))\n",
    "\n",
    "\n",
    "print(\"#Total Features = \" + str(len(only_mag_features)))"
   ]
  },
  {
   "cell_type": "code",
   "execution_count": 173,
   "metadata": {
    "scrolled": false
   },
   "outputs": [
    {
     "name": "stdout",
     "output_type": "stream",
     "text": [
      "significance @ 0.05/3 = 0.02 after Bonferroni correction for 3 tests (eq, fluency, sync)\n",
      "\n",
      "\n",
      "~~~~~~~~~~~~~~~~~~~~~~~ Synchrony Coordination Test ~~~~~~~~~~~~~~~~~~~~~~~\n",
      "                         QuantReg Regression Results                          \n",
      "==============================================================================\n",
      "Dep. Variable:                      y   Pseudo R-squared:               0.1499\n",
      "Model:                       QuantReg   Bandwidth:                      0.2242\n",
      "Method:                 Least Squares   Sparsity:                       0.4753\n",
      "Date:                Wed, 10 Jun 2020   No. Observations:                  179\n",
      "Time:                        11:19:35   Df Residuals:                      157\n",
      "                                        Df Model:                           21\n",
      "===========================================================================================\n",
      "                              coef    std err          t      P>|t|      [0.025      0.975]\n",
      "-------------------------------------------------------------------------------------------\n",
      "const                       4.2756      0.104     41.261      0.000       4.071       4.480\n",
      "group_sizes                -0.0553      0.029     -1.900      0.059      -0.113       0.002\n",
      "mag-min_lagcorr-min        -0.0781      0.194     -0.403      0.688      -0.461       0.305\n",
      "mag-max_lagcorr-min         0.0936      0.153      0.611      0.542      -0.209       0.396\n",
      "mag-argmin_lagcorr-min      0.0275      0.111      0.248      0.804      -0.191       0.246\n",
      "mag-argmax_lagcorr-min     -5.4044      1.265     -4.271      0.000      -7.904      -2.905\n",
      "mag-mi-min                  0.0454      0.092      0.496      0.621      -0.135       0.226\n",
      "mag-min_lagcorr-max        -0.5574      0.259     -2.150      0.033      -1.070      -0.045\n",
      "mag-max_lagcorr-max         0.1744      0.153      1.138      0.257      -0.128       0.477\n",
      "mag-argmin_lagcorr-max     -0.3392      0.105     -3.226      0.002      -0.547      -0.132\n",
      "mag-argmax_lagcorr-max     -2.8550      1.278     -2.235      0.027      -5.379      -0.331\n",
      "mag-mi-max                 -0.0305      0.174     -0.175      0.861      -0.375       0.314\n",
      "mag-min_lagcorr-mean        0.6380      0.393      1.623      0.107      -0.138       1.414\n",
      "mag-max_lagcorr-mean       -0.2341      0.223     -1.051      0.295      -0.674       0.206\n",
      "mag-argmin_lagcorr-mean     0.2663      0.127      2.094      0.038       0.015       0.517\n",
      "mag-argmax_lagcorr-mean     8.3090      2.297      3.617      0.000       3.772      12.846\n",
      "mag-mi-mean                -0.1105      0.188     -0.588      0.557      -0.482       0.261\n",
      "mag-min_lagcorr-var         0.0426      0.050      0.845      0.399      -0.057       0.142\n",
      "mag-max_lagcorr-var        -0.0010      0.064     -0.016      0.987      -0.127       0.125\n",
      "mag-argmin_lagcorr-var      0.1294      0.064      2.025      0.045       0.003       0.256\n",
      "mag-argmax_lagcorr-var     -0.0329      0.043     -0.763      0.447      -0.118       0.052\n",
      "mag-mi-var                  0.0142      0.064      0.222      0.824      -0.112       0.140\n",
      "===========================================================================================\n",
      "\n",
      "\n",
      "~~~~~~~~~~~~~~~~~~~~~~~ Convergence Coordination Test ~~~~~~~~~~~~~~~~~~~~~~~\n",
      "                         QuantReg Regression Results                          \n",
      "==============================================================================\n",
      "Dep. Variable:                      y   Pseudo R-squared:               0.1196\n",
      "Model:                       QuantReg   Bandwidth:                      0.2621\n",
      "Method:                 Least Squares   Sparsity:                       0.4637\n",
      "Date:                Wed, 10 Jun 2020   No. Observations:                  179\n",
      "Time:                        11:19:35   Df Residuals:                      161\n",
      "                                        Df Model:                           17\n",
      "==========================================================================================\n",
      "                             coef    std err          t      P>|t|      [0.025      0.975]\n",
      "------------------------------------------------------------------------------------------\n",
      "const                      4.5811      0.088     52.313      0.000       4.408       4.754\n",
      "group_sizes               -0.1253      0.024     -5.122      0.000      -0.174      -0.077\n",
      "mag-symconv-min            0.3303      0.122      2.703      0.008       0.089       0.572\n",
      "mag-lead_asymconv-min     -0.0826      0.084     -0.985      0.326      -0.248       0.083\n",
      "mag-lag_asymconv-min      -0.1564      0.120     -1.303      0.194      -0.393       0.081\n",
      "mag-globconv-min          -0.7057      0.250     -2.819      0.005      -1.200      -0.211\n",
      "mag-symconv-max           -0.1615      0.139     -1.165      0.246      -0.435       0.112\n",
      "mag-lead_asymconv-max     -0.1885      0.111     -1.706      0.090      -0.407       0.030\n",
      "mag-lag_asymconv-max      -0.1932      0.119     -1.618      0.108      -0.429       0.043\n",
      "mag-globconv-max           0.2485      0.162      1.531      0.128      -0.072       0.569\n",
      "mag-symconv-mean          -0.1910      0.185     -1.032      0.304      -0.556       0.175\n",
      "mag-lead_asymconv-mean     0.2354      0.132      1.786      0.076      -0.025       0.496\n",
      "mag-lag_asymconv-mean      0.3520      0.197      1.789      0.075      -0.037       0.741\n",
      "mag-globconv-mean          0.4277      0.332      1.290      0.199      -0.227       1.083\n",
      "mag-symconv-var            0.1978      0.061      3.259      0.001       0.078       0.318\n",
      "mag-lead_asymconv-var      0.0779      0.048      1.609      0.110      -0.018       0.174\n",
      "mag-lag_asymconv-var       0.0285      0.039      0.732      0.465      -0.048       0.105\n",
      "mag-globconv-var          -0.2380      0.068     -3.519      0.001      -0.372      -0.104\n",
      "==========================================================================================\n",
      "\n",
      "\n",
      "~~~~~~~~~~~~~~~~~~~~~~~ Led Mimicry Coordination Test ~~~~~~~~~~~~~~~~~~~~~~~\n",
      "                         QuantReg Regression Results                          \n",
      "==============================================================================\n",
      "Dep. Variable:                      y   Pseudo R-squared:               0.1110\n",
      "Model:                       QuantReg   Bandwidth:                      0.2404\n",
      "Method:                 Least Squares   Sparsity:                       0.5004\n",
      "Date:                Wed, 10 Jun 2020   No. Observations:                  179\n",
      "Time:                        11:19:35   Df Residuals:                      161\n",
      "                                        Df Model:                           17\n",
      "==============================================================================================\n",
      "                                 coef    std err          t      P>|t|      [0.025      0.975]\n",
      "----------------------------------------------------------------------------------------------\n",
      "const                          4.4635      0.092     48.333      0.000       4.281       4.646\n",
      "group_sizes                   -0.1011      0.026     -3.923      0.000      -0.152      -0.050\n",
      "mag-min_lead_mimicry-min      -0.1514      0.154     -0.981      0.328      -0.456       0.153\n",
      "mag-max_lead_mimicry-min      -0.8002      0.528     -1.516      0.132      -1.843       0.242\n",
      "mag-mean_lead_mimicry-min      0.0258      0.082      0.316      0.752      -0.135       0.187\n",
      "mag-var_lead_mimicry-min       2.5127      1.246      2.017      0.045       0.052       4.973\n",
      "mag-min_lead_mimicry-max       0.2504      0.179      1.399      0.164      -0.103       0.604\n",
      "mag-max_lead_mimicry-max      -0.9949      0.559     -1.780      0.077      -2.099       0.109\n",
      "mag-mean_lead_mimicry-max      0.1058      0.116      0.908      0.365      -0.124       0.336\n",
      "mag-var_lead_mimicry-max       2.1815      1.302      1.676      0.096      -0.389       4.752\n",
      "mag-min_lead_mimicry-mean     -0.0045      0.240     -0.019      0.985      -0.478       0.469\n",
      "mag-max_lead_mimicry-mean      1.8568      0.957      1.941      0.054      -0.032       3.746\n",
      "mag-mean_lead_mimicry-mean    -0.1152      0.152     -0.758      0.449      -0.415       0.185\n",
      "mag-var_lead_mimicry-mean     -4.6915      2.371     -1.979      0.050      -9.373      -0.010\n",
      "mag-min_lead_mimicry-var      -0.2127      0.093     -2.289      0.023      -0.396      -0.029\n",
      "mag-max_lead_mimicry-var       1.0717      1.294      0.828      0.409      -1.484       3.628\n",
      "mag-mean_lead_mimicry-var     -0.0322      0.050     -0.645      0.520      -0.131       0.066\n",
      "mag-var_lead_mimicry-var      -0.6470      1.242     -0.521      0.603      -3.100       1.806\n",
      "==============================================================================================\n",
      "\n",
      "\n",
      "~~~~~~~~~~~~~~~~~~~~~~~ Lag Mimicry Coordination Test ~~~~~~~~~~~~~~~~~~~~~~~\n",
      "                         QuantReg Regression Results                          \n",
      "==============================================================================\n",
      "Dep. Variable:                      y   Pseudo R-squared:               0.1098\n",
      "Model:                       QuantReg   Bandwidth:                      0.2341\n",
      "Method:                 Least Squares   Sparsity:                       0.5051\n",
      "Date:                Wed, 10 Jun 2020   No. Observations:                  179\n",
      "Time:                        11:19:35   Df Residuals:                      161\n",
      "                                        Df Model:                           17\n",
      "=============================================================================================\n",
      "                                coef    std err          t      P>|t|      [0.025      0.975]\n",
      "---------------------------------------------------------------------------------------------\n",
      "const                         4.4662      0.090     49.641      0.000       4.289       4.644\n",
      "group_sizes                  -0.1009      0.025     -4.023      0.000      -0.150      -0.051\n",
      "mag-min_lag_mimicry-min      -0.1479      0.156     -0.950      0.343      -0.455       0.160\n",
      "mag-max_lag_mimicry-min      -1.2762      0.538     -2.374      0.019      -2.338      -0.214\n",
      "mag-mean_lag_mimicry-min      0.0100      0.068      0.147      0.884      -0.125       0.145\n",
      "mag-var_lag_mimicry-min       2.0254      1.132      1.790      0.075      -0.209       4.260\n",
      "mag-min_lag_mimicry-max       0.3624      0.180      2.008      0.046       0.006       0.719\n",
      "mag-max_lag_mimicry-max      -1.5949      0.551     -2.895      0.004      -2.683      -0.507\n",
      "mag-mean_lag_mimicry-max      0.0432      0.118      0.367      0.714      -0.189       0.276\n",
      "mag-var_lag_mimicry-max       1.2472      1.151      1.084      0.280      -1.025       3.520\n",
      "mag-min_lag_mimicry-mean     -0.0866      0.244     -0.355      0.723      -0.568       0.395\n",
      "mag-max_lag_mimicry-mean      2.8599      0.974      2.936      0.004       0.936       4.783\n",
      "mag-mean_lag_mimicry-mean    -0.0533      0.141     -0.379      0.706      -0.331       0.225\n",
      "mag-var_lag_mimicry-mean     -3.4078      2.114     -1.612      0.109      -7.583       0.768\n",
      "mag-min_lag_mimicry-var      -0.2287      0.094     -2.439      0.016      -0.414      -0.044\n",
      "mag-max_lag_mimicry-var       0.2006      1.200      0.167      0.867      -2.170       2.571\n",
      "mag-mean_lag_mimicry-var     -0.0082      0.044     -0.185      0.854      -0.095       0.079\n",
      "mag-var_lag_mimicry-var       0.3012      1.183      0.255      0.799      -2.035       2.638\n",
      "=============================================================================================\n",
      "\n",
      "\n",
      "~~~~~~~~~~~~~~~~~~~~~~~ Causality Coordination Test ~~~~~~~~~~~~~~~~~~~~~~~\n",
      "                         QuantReg Regression Results                          \n",
      "==============================================================================\n",
      "Dep. Variable:                      y   Pseudo R-squared:              0.07424\n",
      "Model:                       QuantReg   Bandwidth:                      0.2924\n",
      "Method:                 Least Squares   Sparsity:                       0.6417\n",
      "Date:                Wed, 10 Jun 2020   No. Observations:                  179\n",
      "Time:                        11:19:35   Df Residuals:                      165\n",
      "                                        Df Model:                           13\n",
      "==========================================================================================\n",
      "                             coef    std err          t      P>|t|      [0.025      0.975]\n",
      "------------------------------------------------------------------------------------------\n",
      "const                      4.6868      0.099     47.190      0.000       4.491       4.883\n",
      "group_sizes               -0.1594      0.027     -5.801      0.000      -0.214      -0.105\n",
      "mag-min_coherence-min     -0.1577      0.105     -1.509      0.133      -0.364       0.049\n",
      "mag-max_coherence-min      0.2046      0.183      1.119      0.265      -0.157       0.566\n",
      "mag-granger-min           -0.0107      0.126     -0.084      0.933      -0.260       0.239\n",
      "mag-min_coherence-max     -0.1293      0.199     -0.650      0.517      -0.522       0.263\n",
      "mag-max_coherence-max      0.4708      0.177      2.655      0.009       0.121       0.821\n",
      "mag-granger-max            0.1436      0.165      0.870      0.386      -0.182       0.469\n",
      "mag-min_coherence-mean     0.2543      0.250      1.017      0.311      -0.239       0.748\n",
      "mag-max_coherence-mean    -0.5848      0.268     -2.181      0.031      -1.114      -0.055\n",
      "mag-granger-mean          -0.0881      0.227     -0.387      0.699      -0.537       0.361\n",
      "mag-min_coherence-var     -0.0549      0.053     -1.034      0.302      -0.160       0.050\n",
      "mag-max_coherence-var     -0.0462      0.077     -0.600      0.550      -0.198       0.106\n",
      "mag-granger-var           -0.0861      0.056     -1.550      0.123      -0.196       0.024\n",
      "==========================================================================================\n",
      "\n",
      "\n"
     ]
    }
   ],
   "source": [
    "# Experiment Below\n",
    "\n",
    "# Ordinary Regression\n",
    "import statsmodels.api as sm\n",
    "import statsmodels.formula.api as smf\n",
    "\n",
    "model_test=sm.regression.quantile_regression.QuantReg#sm.OLS\n",
    "test_X = sm.add_constant(coord_X)\n",
    "\n",
    "max_iter=100000\n",
    "q=0.5\n",
    "vcov=\"iid\"\n",
    "kernel=\"cos\"\n",
    "\n",
    "print(\"significance @ 0.05/3 = 0.02 after Bonferroni correction for 3 tests (eq, fluency, sync)\")\n",
    "print()\n",
    "print()\n",
    "print(\"~~~~~~~~~~~~~~~~~~~~~~~ Synchrony Coordination Test ~~~~~~~~~~~~~~~~~~~~~~~\")\n",
    "model = model_test(reliable_convqs, test_X.loc[:,final_mag_sync_features])\n",
    "results = model.fit(max_iter=max_iter, q=q, vcov=vcov, kernel=kernel)\n",
    "print(results.summary())\n",
    "\n",
    "print()\n",
    "print()\n",
    "\n",
    "print(\"~~~~~~~~~~~~~~~~~~~~~~~ Convergence Coordination Test ~~~~~~~~~~~~~~~~~~~~~~~\")\n",
    "model = model_test(reliable_convqs, test_X.loc[:,final_mag_conv_features])\n",
    "results = model.fit(max_iter=max_iter, q=q, vcov=vcov, kernel=kernel)\n",
    "print(results.summary())\n",
    "print()\n",
    "print()\n",
    "\n",
    "print(\"~~~~~~~~~~~~~~~~~~~~~~~ Led Mimicry Coordination Test ~~~~~~~~~~~~~~~~~~~~~~~\")\n",
    "model = model_test(reliable_convqs, test_X.loc[:,final_mag_mimi_led_features])\n",
    "results = model.fit(max_iter=max_iter, q=q, vcov=vcov, kernel=kernel)\n",
    "print(results.summary())\n",
    "print()\n",
    "print()\n",
    "\n",
    "print(\"~~~~~~~~~~~~~~~~~~~~~~~ Lag Mimicry Coordination Test ~~~~~~~~~~~~~~~~~~~~~~~\")\n",
    "model = model_test(reliable_convqs, test_X.loc[:,final_mag_mimi_lag_features])\n",
    "results = model.fit(max_iter=max_iter, q=q, vcov=vcov, kernel=kernel)\n",
    "print(results.summary())\n",
    "print()\n",
    "print()\n",
    "\n",
    "print(\"~~~~~~~~~~~~~~~~~~~~~~~ Causality Coordination Test ~~~~~~~~~~~~~~~~~~~~~~~\")\n",
    "model = model_test(reliable_convqs, test_X.loc[:,final_mag_caus_features])\n",
    "results = model.fit(max_iter=max_iter, q=q, vcov=vcov, kernel=kernel)\n",
    "print(results.summary())\n",
    "print()\n",
    "print()"
   ]
  },
  {
   "cell_type": "code",
   "execution_count": null,
   "metadata": {
    "scrolled": false
   },
   "outputs": [],
   "source": [
    "# for curr_feat in full_test_feats:\n",
    "#     if curr_feat not in [\"convq\", \"const\"]:\n",
    "#         print(\"~~~~ !!!!!!!!! $$$$$$$$$$$$$$$$$ \" + curr_feat + \"~~~~ !!!!!!!!! $$$$$$$$$$$$$$$$$\")\n",
    "#         model_ols = sm.OLS(X[\"convq\"], sm.add_constant(X[curr_feat])).fit().params\n",
    "#         model_qnt = sm.regression.quantile_regression.QuantReg(X[\"convq\"], sm.add_constant(X[curr_feat])).fit().params\n",
    "#         model_glm_gauss = sm.GLM(X[\"convq\"], sm.add_constant(X[curr_feat])).fit().params\n",
    "\n",
    "#         # scatter-plot data\n",
    "#         ax = X.plot(x='convq', y=curr_feat, kind='scatter', c=\"black\")\n",
    "\n",
    "#         # plot regression line on the same axes, set x-axis limits\n",
    "#         ax.plot(X[\"convq\"].values, model_ols[\"const\"] + model_ols[curr_feat] * X[\"convq\"].values)\n",
    "#         ax.plot(X[\"convq\"].values, model_qnt[\"const\"] + model_qnt[curr_feat] * X[\"convq\"].values)\n",
    "#         ax.legend(['OLS', 'QUANTILE'])\n",
    "#         ax.set_xlim([1, 5])\n",
    "#         plt.show()\n",
    "\n",
    "#         sns.distplot(X[curr_feat], kde=True, rug=True)\n",
    "#         plt.show()\n",
    "\n"
   ]
  },
  {
   "cell_type": "code",
   "execution_count": null,
   "metadata": {},
   "outputs": [],
   "source": []
  }
 ],
 "metadata": {
  "kernelspec": {
   "display_name": "Python 3",
   "language": "python",
   "name": "python3"
  },
  "language_info": {
   "codemirror_mode": {
    "name": "ipython",
    "version": 3
   },
   "file_extension": ".py",
   "mimetype": "text/x-python",
   "name": "python",
   "nbconvert_exporter": "python",
   "pygments_lexer": "ipython3",
   "version": "3.7.5"
  }
 },
 "nbformat": 4,
 "nbformat_minor": 4
}
