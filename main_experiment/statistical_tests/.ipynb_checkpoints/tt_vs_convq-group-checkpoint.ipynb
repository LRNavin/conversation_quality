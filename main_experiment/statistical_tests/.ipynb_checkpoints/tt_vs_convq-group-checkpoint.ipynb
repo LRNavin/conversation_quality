{
 "cells": [
  {
   "cell_type": "code",
   "execution_count": 1,
   "metadata": {},
   "outputs": [],
   "source": [
    "import sys  \n",
    "sys.path.insert(0, '/Users/navinlr/Desktop/Thesis/code_base/conversation_quality')"
   ]
  },
  {
   "cell_type": "code",
   "execution_count": 2,
   "metadata": {},
   "outputs": [
    {
     "name": "stdout",
     "output_type": "stream",
     "text": [
      "Total Groups = 115\n"
     ]
    }
   ],
   "source": [
    "from dataset_creation import dataset_creator as data_generator\n",
    "from feature_extract import turntake_extractor as feat_extractor\n",
    "import constants\n",
    "\n",
    "import seaborn as sns\n",
    "import matplotlib.pyplot as plt\n",
    "import numpy as np\n",
    "import pandas as pd"
   ]
  },
  {
   "cell_type": "code",
   "execution_count": 3,
   "metadata": {},
   "outputs": [],
   "source": [
    "# TEST Variables\n",
    "agreeability_thresh=.2\n",
    "annotators=[\"Divya\", \"Nakul\"]#, \"Swathi\"]\n",
    "zero_mean = False\n",
    "from_store= True\n",
    "filter_missing_data=True\n",
    "indiv_missing_data=['1_018_35', '2_006_15', '2_006_33', '2_011_29', '2_036_35', '2_044_8', '2_044_30', '3_004_37', '3_007_11', '3_052_27', '3_052_28', '3_058_25', '3_060_1', '3_068_15']\n",
    "group_missing_data=['1_018', '2_006', '2_006', '2_011', '2_036', '2_044', '2_044', '3_004', '3_007', '3_052', '3_052', '3_058', '3_060', '3_068']\n",
    "\n",
    "manifest=\"group\"\n",
    "if manifest == \"indiv\":\n",
    "    features = [\"#turns\", \"%talk\", \"mean_turn\", \"mean_silence\", \"%silence\", \"#bc\", \"%overlap\", \"#suc_interupt\", \"#un_interupt\"]\n",
    "    store_file=constants.indiv_tt_X_path\n",
    "    missing_data=indiv_missing_data\n",
    "else:\n",
    "    features = [\"var_#turn\", \"var_dturn\", \"conv_eq\", \"mean_silence\", \"%silence\", \"#bc\", \"%overlap\", \"#suc_interupt\", \"#un_interupt\"]\n",
    "    store_file=constants.group_tt_X_path\n",
    "    missing_data=group_missing_data"
   ]
  },
  {
   "cell_type": "code",
   "execution_count": 4,
   "metadata": {},
   "outputs": [
    {
     "name": "stdout",
     "output_type": "stream",
     "text": [
      "ZERO-MEAN Technique ? - False\n",
      "ZERO-MEAN Technique ? - False\n",
      "Total Groups in Analysis - 81\n"
     ]
    }
   ],
   "source": [
    "# Annotation Reader\n",
    "reliable_ids, reliable_convqs, reliable_kappas = data_generator.get_annotation_realiable_labels(agreeability_thresh, manifest, annotators, zero_mean)\n",
    "print(\"Total Groups in Analysis - \" + str(len(reliable_ids)))"
   ]
  },
  {
   "cell_type": "code",
   "execution_count": 5,
   "metadata": {},
   "outputs": [],
   "source": [
    "# Get Turn-Taking feaures for IDs (group/ indiv)\n",
    "if from_store:\n",
    "    tt_X = pd.read_csv(store_file, sep=',', header=None).values\n",
    "#     tt_X.columns = features\n",
    "#     tt_X.set_index(reliable_ids)\n",
    "else:\n",
    "    tt_X = feat_extractor.get_tt_dataset_feats_for(reliable_ids, features, manifest)"
   ]
  },
  {
   "cell_type": "code",
   "execution_count": 6,
   "metadata": {},
   "outputs": [],
   "source": [
    "# Transform Features\n",
    "from sklearn.preprocessing import StandardScaler\n",
    "tt_X = StandardScaler().fit_transform(tt_X)"
   ]
  },
  {
   "cell_type": "code",
   "execution_count": 7,
   "metadata": {},
   "outputs": [],
   "source": [
    "tt_X = pd.DataFrame(data=tt_X, index=reliable_ids, columns=features) \n",
    "tt_X[\"convq\"] = reliable_convqs"
   ]
  },
  {
   "cell_type": "code",
   "execution_count": 8,
   "metadata": {
    "scrolled": true
   },
   "outputs": [
    {
     "name": "stdout",
     "output_type": "stream",
     "text": [
      "Before Filter: Feature Set -> (81, 10)\n",
      "After Filter: Feature Set -> (74, 10)\n"
     ]
    }
   ],
   "source": [
    "#Filter Dataset - Remove Incompelete Data\n",
    "print(\"Before Filter: Feature Set -> \" + str(tt_X.shape))\n",
    "if filter_missing_data:\n",
    "    final_reliable_ids = [x for x in reliable_ids if x not in missing_data]\n",
    "    tt_X = tt_X[tt_X.index.isin(final_reliable_ids)]\n",
    "print(\"After Filter: Feature Set -> \" + str(tt_X.shape))\n",
    "\n",
    "if not from_store:\n",
    "    # Save Dataset -- tt_X\n",
    "    np.savetxt(store_file, tt_X, delimiter=\",\")"
   ]
  },
  {
   "cell_type": "code",
   "execution_count": 9,
   "metadata": {},
   "outputs": [
    {
     "data": {
      "image/png": "[encoded data removed]",
      "text/plain": [
       "<Figure size 432x288 with 1 Axes>"
      ]
     },
     "metadata": {},
     "output_type": "display_data"
    }
   ],
   "source": [
    "# Plots - Qualitative Analysis\n",
    "sns.distplot(reliable_convqs, kde=True, rug=True)\n",
    "plt.show()"
   ]
  },
  {
   "cell_type": "code",
   "execution_count": 10,
   "metadata": {},
   "outputs": [],
   "source": [
    "test_feats=[\"const\", \"var_#turn\", \"var_dturn\", \"conv_eq\", \"mean_silence\", \"%silence\", \"#bc\", \"%overlap\", \"#suc_interupt\", \"#un_interupt\"]"
   ]
  },
  {
   "cell_type": "code",
   "execution_count": 11,
   "metadata": {},
   "outputs": [
    {
     "name": "stdout",
     "output_type": "stream",
     "text": [
      "                            OLS Regression Results                            \n",
      "==============================================================================\n",
      "Dep. Variable:                  convq   R-squared:                       0.145\n",
      "Model:                            OLS   Adj. R-squared:                  0.025\n",
      "Method:                 Least Squares   F-statistic:                     1.204\n",
      "Date:                Tue, 12 May 2020   Prob (F-statistic):              0.308\n",
      "Time:                        21:09:27   Log-Likelihood:                -72.284\n",
      "No. Observations:                  74   AIC:                             164.6\n",
      "Df Residuals:                      64   BIC:                             187.6\n",
      "Df Model:                           9                                         \n",
      "Covariance Type:            nonrobust                                         \n",
      "=================================================================================\n",
      "                    coef    std err          t      P>|t|      [0.025      0.975]\n",
      "---------------------------------------------------------------------------------\n",
      "const             5.6575      2.233      2.533      0.014       1.196      10.119\n",
      "var_#turn         0.2379      0.335      0.710      0.480      -0.432       0.908\n",
      "var_dturn        -0.0073      0.139     -0.053      0.958      -0.285       0.271\n",
      "conv_eq          14.4176     20.436      0.706      0.483     -26.408      55.243\n",
      "mean_silence     -0.3117      0.121     -2.586      0.012      -0.552      -0.071\n",
      "%silence         -0.0731      0.164     -0.445      0.658      -0.401       0.255\n",
      "#bc              -0.9754      0.764     -1.277      0.206      -2.501       0.550\n",
      "%overlap         -0.1494      0.174     -0.861      0.393      -0.496       0.197\n",
      "#suc_interupt     0.9604      3.802      0.253      0.801      -6.635       8.556\n",
      "#un_interupt      0.6797      1.853      0.367      0.715      -3.023       4.382\n",
      "==============================================================================\n",
      "Omnibus:                       35.763   Durbin-Watson:                   1.759\n",
      "Prob(Omnibus):                  0.000   Jarque-Bera (JB):               90.423\n",
      "Skew:                          -1.588   Prob(JB):                     2.32e-20\n",
      "Kurtosis:                       7.386   Cond. No.                         321.\n",
      "==============================================================================\n",
      "\n",
      "Warnings:\n",
      "[1] Standard Errors assume that the covariance matrix of the errors is correctly specified.\n"
     ]
    }
   ],
   "source": [
    "# Experiment Below\n",
    "\n",
    "# Ordinary Regression\n",
    "import statsmodels.api as sm\n",
    "import statsmodels.formula.api as smf\n",
    "\n",
    "X = sm.add_constant(tt_X)\n",
    "\n",
    "model = sm.OLS(X[\"convq\"], X.loc[:,test_feats])\n",
    "results = model.fit()\n",
    "print(results.summary())"
   ]
  },
  {
   "cell_type": "code",
   "execution_count": 12,
   "metadata": {},
   "outputs": [
    {
     "name": "stdout",
     "output_type": "stream",
     "text": [
      "                         QuantReg Regression Results                          \n",
      "==============================================================================\n",
      "Dep. Variable:                  convq   Pseudo R-squared:               0.1360\n",
      "Model:                       QuantReg   Bandwidth:                      0.4974\n",
      "Method:                 Least Squares   Sparsity:                        1.241\n",
      "Date:                Tue, 12 May 2020   No. Observations:                   74\n",
      "Time:                        21:09:27   Df Residuals:                       64\n",
      "                                        Df Model:                            9\n",
      "=================================================================================\n",
      "                    coef    std err          t      P>|t|      [0.025      0.975]\n",
      "---------------------------------------------------------------------------------\n",
      "const             6.6434      2.059      3.227      0.002       2.530      10.757\n",
      "var_#turn        -0.1576      0.308     -0.511      0.611      -0.774       0.458\n",
      "var_dturn        -0.1238      0.122     -1.017      0.313      -0.367       0.119\n",
      "conv_eq          22.7895     18.726      1.217      0.228     -14.619      60.198\n",
      "mean_silence     -0.3396      0.117     -2.902      0.005      -0.573      -0.106\n",
      "%silence          0.1685      0.145      1.160      0.250      -0.122       0.459\n",
      "#bc              -1.1382      0.628     -1.813      0.075      -2.393       0.116\n",
      "%overlap         -0.1862      0.150     -1.241      0.219      -0.486       0.114\n",
      "#suc_interupt     3.4013      3.072      1.107      0.272      -2.735       9.538\n",
      "#un_interupt     -0.6015      1.585     -0.380      0.706      -3.767       2.564\n",
      "=================================================================================\n"
     ]
    }
   ],
   "source": [
    "# Quantile Regression\n",
    "X = sm.add_constant(tt_X)\n",
    "\n",
    "model = sm.regression.quantile_regression.QuantReg(X[\"convq\"], X.loc[:,test_feats])\n",
    "results = model.fit(q=.4)\n",
    "print(results.summary())"
   ]
  },
  {
   "cell_type": "code",
   "execution_count": 13,
   "metadata": {},
   "outputs": [
    {
     "name": "stdout",
     "output_type": "stream",
     "text": [
      "                 Generalized Linear Model Regression Results                  \n",
      "==============================================================================\n",
      "Dep. Variable:                  convq   No. Observations:                   74\n",
      "Model:                            GLM   Df Residuals:                       64\n",
      "Model Family:                Gaussian   Df Model:                            9\n",
      "Link Function:               identity   Scale:                         0.47755\n",
      "Method:                          IRLS   Log-Likelihood:                -72.284\n",
      "Date:                Tue, 12 May 2020   Deviance:                       30.563\n",
      "Time:                        21:09:27   Pearson chi2:                     30.6\n",
      "No. Iterations:                     3                                         \n",
      "Covariance Type:            nonrobust                                         \n",
      "=================================================================================\n",
      "                    coef    std err          z      P>|z|      [0.025      0.975]\n",
      "---------------------------------------------------------------------------------\n",
      "const             5.6575      2.233      2.533      0.011       1.280      10.035\n",
      "var_#turn         0.2379      0.335      0.710      0.478      -0.419       0.895\n",
      "var_dturn        -0.0073      0.139     -0.053      0.958      -0.280       0.265\n",
      "conv_eq          14.4176     20.436      0.706      0.480     -25.636      54.471\n",
      "mean_silence     -0.3117      0.121     -2.586      0.010      -0.548      -0.076\n",
      "%silence         -0.0731      0.164     -0.445      0.656      -0.395       0.249\n",
      "#bc              -0.9754      0.764     -1.277      0.201      -2.472       0.521\n",
      "%overlap         -0.1494      0.174     -0.861      0.389      -0.490       0.191\n",
      "#suc_interupt     0.9604      3.802      0.253      0.801      -6.492       8.413\n",
      "#un_interupt      0.6797      1.853      0.367      0.714      -2.953       4.312\n",
      "=================================================================================\n"
     ]
    }
   ],
   "source": [
    "# Generalised Linear Regression\n",
    "X = sm.add_constant(tt_X)\n",
    "\n",
    "model = sm.GLM(X[\"convq\"], X.loc[:,test_feats])\n",
    "results = model.fit()\n",
    "print(results.summary())"
   ]
  },
  {
   "cell_type": "code",
   "execution_count": null,
   "metadata": {},
   "outputs": [],
   "source": []
  }
 ],
 "metadata": {
  "kernelspec": {
   "display_name": "Python 3",
   "language": "python",
   "name": "python3"
  },
  "language_info": {
   "codemirror_mode": {
    "name": "ipython",
    "version": 3
   },
   "file_extension": ".py",
   "mimetype": "text/x-python",
   "name": "python",
   "nbconvert_exporter": "python",
   "pygments_lexer": "ipython3",
   "version": "3.7.5"
  }
 },
 "nbformat": 4,
 "nbformat_minor": 4
}
