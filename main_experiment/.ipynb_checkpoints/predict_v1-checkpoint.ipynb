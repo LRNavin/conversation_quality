{
 "cells": [
  {
   "cell_type": "code",
   "execution_count": 1,
   "metadata": {},
   "outputs": [],
   "source": [
    "# Baseline Model\n",
    "\n",
    "# Model - Logistic Reg,\n",
    "# Features -\n",
    "#     * All Channels - Raw, Abs, Mag (8)\n",
    "#     * All Windows  - 1, 3, 5, 10, 15\n",
    "#     * All Indiv    - Stat - Mean, Variance, Spec - PSD 6 bins\n",
    "#     * All Pairwise -\n",
    "#            - Synch - Correl, lag-Correl, MI, mimicry\n",
    "#            - Convr - Sym.Conv, Asym.Conv, Glob.Conv\n",
    "#     * All GroupFeat-\n",
    "#            - Aggreagtion - Min, Max, Mean, Mode, Var\n",
    "#            -\n",
    "# Evaluation - Acc, Conf.Matrix, AUC, Precision, Recall,"
   ]
  },
  {
   "cell_type": "code",
   "execution_count": 2,
   "metadata": {},
   "outputs": [],
   "source": [
    "import sys  \n",
    "sys.path.insert(0, '/Users/navinlr/Desktop/Thesis/code_base/conversation_quality')"
   ]
  },
  {
   "cell_type": "code",
   "execution_count": 3,
   "metadata": {},
   "outputs": [
    {
     "name": "stdout",
     "output_type": "stream",
     "text": [
      "Total Groups = 115\n"
     ]
    },
    {
     "name": "stderr",
     "output_type": "stream",
     "text": [
      "Using TensorFlow backend.\n"
     ]
    }
   ],
   "source": [
    "from modeling import dataset_provider as data_gen\n",
    "import constants\n",
    "\n",
    "from sklearn.linear_model import LogisticRegression, LinearRegression\n",
    "from sklearn.model_selection import train_test_split\n",
    "from sklearn.metrics import confusion_matrix, roc_curve, accuracy_score, mean_squared_error, roc_auc_score\n",
    "from sklearn.decomposition import PCA\n",
    "from sklearn.feature_selection import f_classif\n",
    "from sklearn.preprocessing import StandardScaler, MinMaxScaler\n",
    "from sklearn.model_selection import StratifiedKFold\n",
    "from imblearn import under_sampling \n",
    "from imblearn import over_sampling\n",
    "from imblearn.over_sampling import SMOTE\n",
    "import matplotlib.pyplot as plt\n",
    "\n",
    "import numpy as np\n",
    "import pandas as pd"
   ]
  },
  {
   "cell_type": "code",
   "execution_count": 4,
   "metadata": {},
   "outputs": [],
   "source": [
    "# Variables for baseline\n",
    "random_seed=20\n",
    "manifest=\"indiv\"\n",
    "data_split_per=.40\n",
    "missing_data_thresh=50.0 #(in percent)\n",
    "agreeability_thresh=.2\n",
    "annotators=[\"Divya\", \"Nakul\"]#, \"Swathi\"]\n",
    "only_involved_pairs=True\n",
    "splits=5\n",
    "\n",
    "label_type = \"hard\"\n",
    "model_type = \"log-reg\"\n",
    "\n",
    "dataset=constants.features_dataset_path_v1"
   ]
  },
  {
   "cell_type": "code",
   "execution_count": 67,
   "metadata": {},
   "outputs": [],
   "source": [
    "# Functions \n",
    "def over_sample_data(temp_X, temp_y, method=\"SMOTE\"):\n",
    "    if method == \"SMOTE\":\n",
    "        temp_X, temp_y = SMOTE().fit_resample(temp_X, temp_y)\n",
    "    return temp_X, temp_y\n",
    "\n",
    "def feature_normalize(temp_X, method=\"min-max\"):\n",
    "    # Fit on training set only.\n",
    "    if method == \"min-max\":\n",
    "        normaliser = MinMaxScaler().fit(temp_X)\n",
    "    elif method == \"mean-var\":\n",
    "        normaliser = StandardScaler().fit(temp_X)\n",
    "    return normaliser\n",
    "    \n",
    "def feature_selection(temp_X, temp_y, method=\"anova\"):\n",
    "    top_features = []\n",
    "    if method == \"anova\":\n",
    "        f_values, p_values = f_classif(temp_X, temp_y)\n",
    "        top_features=np.where(np.array(p_values) <= 0.05)[0]\n",
    "#         print(top_features)\n",
    "        print(\"# Top Features = \" + str(len(top_features)))\n",
    "    return top_features\n",
    "\n",
    "def select_required_features(temp_X, required_feats):\n",
    "    temp_X=temp_X[:,required_feats]\n",
    "    print(\"After Feature Selection, Features -> \" + str(temp_X.shape))\n",
    "    return temp_X\n",
    "\n",
    "def dimension_reduction(temp_X, method=\"pca\"):\n",
    "    dim_red_model = None\n",
    "    if method==\"pca\":\n",
    "        dim_red_model = PCA(.95).fit(temp_X)\n",
    "    return dim_red_model\n",
    "    \n",
    "def process_convq_labels(y, label_type=\"soft\"):\n",
    "    print(\"Data-type of labels - \" + str(type(y)))\n",
    "    if label_type==\"soft\":\n",
    "        y=list(np.around(np.array(y),2))\n",
    "    else:\n",
    "        y=list(np.where(np.array(y) <= 0.5, 0, 1))\n",
    "        print(\"ConvQ Classes Distribution : (Total = \"+ str(len(y)) +\")\")\n",
    "        print(\"High Quality Conv = \" + str(sum(y)))\n",
    "        print(\"Low Quality Conv = \" + str(len(y)-sum(y)))\n",
    "    return y\n",
    "\n",
    "def model_convq_manifestation(temp_X, temp_y, model=\"log-reg\"):\n",
    "\n",
    "    if model == \"log-reg\":\n",
    "        model = LogisticRegression(solver='lbfgs', max_iter=1000).fit(temp_X, temp_y)\n",
    "    elif model == \"lin-reg\":\n",
    "        model = LinearRegression().fit(temp_X, temp_y)\n",
    "\n",
    "    return model\n",
    "\n",
    "def analyse_model_params(model):\n",
    "    return True\n",
    "\n",
    "def test_model(temp_X, model):\n",
    "    return model.predict(temp_X)\n",
    "\n",
    "def evaluate_predict(predict_temp_y, test_temp_y, method=accuracy_score):\n",
    "    score = method(test_temp_y, predict_temp_y)\n",
    "    return score"
   ]
  },
  {
   "cell_type": "code",
   "execution_count": 11,
   "metadata": {},
   "outputs": [
    {
     "name": "stdout",
     "output_type": "stream",
     "text": [
      "Generating Dataset for modeling - indiv ConvQ, ...........\n",
      "Number of Groups (After removing missing data) - 85\n"
     ]
    },
    {
     "name": "stderr",
     "output_type": "stream",
     "text": [
      "1it [00:00,  6.88it/s]"
     ]
    },
    {
     "name": "stdout",
     "output_type": "stream",
     "text": [
      "Number of Final Data-points (After removing unreliable annotation data) - 182\n"
     ]
    },
    {
     "name": "stderr",
     "output_type": "stream",
     "text": [
      "182it [00:30,  5.94it/s]\n"
     ]
    }
   ],
   "source": [
    "# Data Read\n",
    "X, y, ids = data_gen.get_dataset_for_experiment(dataset=dataset,\n",
    "                                                    manifest=manifest,\n",
    "                                                    missing_data_thresh=missing_data_thresh,\n",
    "                                                    agreeability_thresh=agreeability_thresh,\n",
    "                                                    annotators=annotators, only_involved_pairs=only_involved_pairs)\n"
   ]
  },
  {
   "cell_type": "code",
   "execution_count": 19,
   "metadata": {},
   "outputs": [
    {
     "name": "stdout",
     "output_type": "stream",
     "text": [
      "Data-type of labels - <class 'list'>\n",
      "ConvQ Classes Distribution : (Total = 182)\n",
      "High Quality Conv = 166\n",
      "Low Quality Conv = 16\n"
     ]
    }
   ],
   "source": [
    "# Label Prep\n",
    "# Hard/Soft Labels\n",
    "y = process_convq_labels(y, label_type)"
   ]
  },
  {
   "cell_type": "code",
   "execution_count": 74,
   "metadata": {},
   "outputs": [
    {
     "name": "stderr",
     "output_type": "stream",
     "text": [
      "/Users/navinlr/opt/anaconda3/envs/conversation_quality/lib/python3.7/site-packages/sklearn/feature_selection/_univariate_selection.py:114: UserWarning: Features [ 1226  1227  1228  1229  1230  1231  1282  1283  1284  1285  1286  1287\n",
      "  1294  1301  1338  1339  1340  1341  1342  1343  1350  1357  1394  1395\n",
      "  1396  1397  1398  1399  5986  5987  5988  5989  5990  5991  6042  6043\n",
      "  6044  6045  6046  6047  6054  6061  6098  6099  6100  6101  6102  6103\n",
      "  6110  6117  6154  6155  6156  6157  6158  6159 10746 10747 10748 10749\n",
      " 10750 10751 10802 10803 10804 10805 10806 10807 10814 10821 10858 10859\n",
      " 10860 10861 10862 10863 10870 10877 10914 10915 10916 10917 10918 10919\n",
      " 15450 15451 15452 15453 15454 15455 15462 15469 15482 15483 15484 15485\n",
      " 15486 15487 15500 15501 15502 15503 15504 15505 15506 15507 15508 15509\n",
      " 15510 15511 15526 15527 15528 15530 15544 15546 15548 15562 15563 15564\n",
      " 15565 15566 15567 15574 15581 15582 15583 15584 15586 15600 15602 15604\n",
      " 15618 15619 15620 15621 15622 15623 15630 15637 15638 15639 15640 15642\n",
      " 15656 15658 15660 15674 15675 15676 15677 15678 15679 20266 20267 20268\n",
      " 20269 20270 20271 20322 20323 20324 20325 20326 20327 20334 20341 20378\n",
      " 20379 20380 20381 20382 20383 20390 20397 20434 20435 20436 20437 20438\n",
      " 20439 25026 25027 25028 25029 25030 25031 25082 25083 25084 25085 25086\n",
      " 25087 25094 25101 25138 25139 25140 25141 25142 25143 25150 25157 25194\n",
      " 25195 25196 25197 25198 25199] are constant.\n",
      "  UserWarning)\n",
      "/Users/navinlr/opt/anaconda3/envs/conversation_quality/lib/python3.7/site-packages/sklearn/feature_selection/_univariate_selection.py:115: RuntimeWarning: invalid value encountered in true_divide\n",
      "  f = msb / msw\n",
      "/Users/navinlr/opt/anaconda3/envs/conversation_quality/lib/python3.7/site-packages/ipykernel_launcher.py:19: RuntimeWarning: invalid value encountered in less_equal\n"
     ]
    },
    {
     "name": "stdout",
     "output_type": "stream",
     "text": [
      "# Top Features = 10028\n",
      "After Feature Selection, Features -> (264, 10028)\n",
      "After Feature Selection, Features -> (37, 10028)\n",
      "Train Data -> Features - (264, 70) and Labels - 264\n",
      "Test  Data -> Features - (37, 70) and Labels - 37\n"
     ]
    },
    {
     "name": "stderr",
     "output_type": "stream",
     "text": [
      "/Users/navinlr/opt/anaconda3/envs/conversation_quality/lib/python3.7/site-packages/sklearn/feature_selection/_univariate_selection.py:114: UserWarning: Features [ 1170  1171  1172  1173  1174  1175  1226  1227  1228  1229  1230  1231\n",
      "  1282  1283  1284  1285  1286  1287  1294  1301  1338  1339  1340  1341\n",
      "  1342  1343  1350  1357  1394  1395  1396  1397  1398  1399  5930  5931\n",
      "  5932  5933  5934  5935  5986  5987  5988  5989  5990  5991  6042  6043\n",
      "  6044  6045  6046  6047  6054  6061  6098  6099  6100  6101  6102  6103\n",
      "  6110  6117  6154  6155  6156  6157  6158  6159 10690 10691 10692 10693\n",
      " 10694 10695 10746 10747 10748 10749 10750 10751 10802 10803 10804 10805\n",
      " 10806 10807 10814 10821 10858 10859 10860 10861 10862 10863 10870 10877\n",
      " 10914 10915 10916 10917 10918 10919 15450 15451 15452 15453 15454 15455\n",
      " 15462 15469 15482 15483 15484 15485 15486 15487 15500 15501 15502 15503\n",
      " 15504 15505 15506 15507 15508 15509 15510 15511 15526 15527 15528 15530\n",
      " 15544 15546 15548 15562 15563 15564 15565 15566 15567 15574 15581 15582\n",
      " 15583 15584 15586 15600 15602 15604 15618 15619 15620 15621 15622 15623\n",
      " 15630 15637 15638 15639 15640 15642 15656 15658 15660 15674 15675 15676\n",
      " 15677 15678 15679 20210 20211 20212 20213 20214 20215 20266 20267 20268\n",
      " 20269 20270 20271 20322 20323 20324 20325 20326 20327 20334 20341 20378\n",
      " 20379 20380 20381 20382 20383 20390 20397 20434 20435 20436 20437 20438\n",
      " 20439 24970 24971 24972 24973 24974 24975 25026 25027 25028 25029 25030\n",
      " 25031 25082 25083 25084 25085 25086 25087 25094 25101 25138 25139 25140\n",
      " 25141 25142 25143 25150 25157 25194 25195 25196 25197 25198 25199] are constant.\n",
      "  UserWarning)\n",
      "/Users/navinlr/opt/anaconda3/envs/conversation_quality/lib/python3.7/site-packages/sklearn/feature_selection/_univariate_selection.py:115: RuntimeWarning: invalid value encountered in true_divide\n",
      "  f = msb / msw\n",
      "/Users/navinlr/opt/anaconda3/envs/conversation_quality/lib/python3.7/site-packages/ipykernel_launcher.py:19: RuntimeWarning: invalid value encountered in less_equal\n"
     ]
    },
    {
     "name": "stdout",
     "output_type": "stream",
     "text": [
      "# Top Features = 11149\n",
      "After Feature Selection, Features -> (266, 11149)\n",
      "After Feature Selection, Features -> (37, 11149)\n",
      "Train Data -> Features - (266, 74) and Labels - 266\n",
      "Test  Data -> Features - (37, 74) and Labels - 37\n"
     ]
    },
    {
     "name": "stderr",
     "output_type": "stream",
     "text": [
      "/Users/navinlr/opt/anaconda3/envs/conversation_quality/lib/python3.7/site-packages/sklearn/feature_selection/_univariate_selection.py:114: UserWarning: Features [ 1226  1227  1228  1229  1230  1231  1282  1283  1284  1285  1286  1287\n",
      "  1294  1301  1338  1339  1340  1341  1342  1343  1350  1357  1394  1395\n",
      "  1396  1397  1398  1399  5986  5987  5988  5989  5990  5991  6042  6043\n",
      "  6044  6045  6046  6047  6054  6061  6098  6099  6100  6101  6102  6103\n",
      "  6110  6117  6154  6155  6156  6157  6158  6159 10746 10747 10748 10749\n",
      " 10750 10751 10802 10803 10804 10805 10806 10807 10814 10821 10858 10859\n",
      " 10860 10861 10862 10863 10870 10877 10914 10915 10916 10917 10918 10919\n",
      " 15450 15451 15452 15453 15454 15455 15462 15469 15482 15483 15484 15485\n",
      " 15486 15487 15500 15501 15502 15503 15504 15505 15506 15507 15508 15509\n",
      " 15510 15511 15518 15525 15526 15527 15528 15529 15530 15531 15538 15539\n",
      " 15544 15545 15546 15547 15548 15549 15556 15557 15562 15563 15564 15565\n",
      " 15566 15567 15574 15581 15582 15583 15584 15585 15586 15587 15594 15595\n",
      " 15600 15601 15602 15603 15604 15605 15612 15613 15618 15619 15620 15621\n",
      " 15622 15623 15630 15637 15638 15639 15640 15641 15642 15643 15650 15651\n",
      " 15656 15657 15658 15659 15660 15661 15668 15669 15674 15675 15676 15677\n",
      " 15678 15679 20266 20267 20268 20269 20270 20271 20322 20323 20324 20325\n",
      " 20326 20327 20334 20341 20378 20379 20380 20381 20382 20383 20390 20397\n",
      " 20434 20435 20436 20437 20438 20439 25026 25027 25028 25029 25030 25031\n",
      " 25082 25083 25084 25085 25086 25087 25094 25101 25138 25139 25140 25141\n",
      " 25142 25143 25150 25157 25194 25195 25196 25197 25198 25199] are constant.\n",
      "  UserWarning)\n",
      "/Users/navinlr/opt/anaconda3/envs/conversation_quality/lib/python3.7/site-packages/sklearn/feature_selection/_univariate_selection.py:115: RuntimeWarning: invalid value encountered in true_divide\n",
      "  f = msb / msw\n",
      "/Users/navinlr/opt/anaconda3/envs/conversation_quality/lib/python3.7/site-packages/ipykernel_launcher.py:19: RuntimeWarning: invalid value encountered in less_equal\n"
     ]
    },
    {
     "name": "stdout",
     "output_type": "stream",
     "text": [
      "# Top Features = 10783\n",
      "After Feature Selection, Features -> (266, 10783)\n",
      "After Feature Selection, Features -> (36, 10783)\n",
      "Train Data -> Features - (266, 72) and Labels - 266\n",
      "Test  Data -> Features - (36, 72) and Labels - 36\n"
     ]
    },
    {
     "name": "stderr",
     "output_type": "stream",
     "text": [
      "/Users/navinlr/opt/anaconda3/envs/conversation_quality/lib/python3.7/site-packages/sklearn/feature_selection/_univariate_selection.py:114: UserWarning: Features [ 1226  1227  1228  1229  1230  1231  1282  1283  1284  1285  1286  1287\n",
      "  1294  1301  1338  1339  1340  1341  1342  1343  1350  1357  1394  1395\n",
      "  1396  1397  1398  1399  5986  5987  5988  5989  5990  5991  6042  6043\n",
      "  6044  6045  6046  6047  6054  6061  6098  6099  6100  6101  6102  6103\n",
      "  6110  6117  6154  6155  6156  6157  6158  6159 10746 10747 10748 10749\n",
      " 10750 10751 10802 10803 10804 10805 10806 10807 10814 10821 10858 10859\n",
      " 10860 10861 10862 10863 10870 10877 10914 10915 10916 10917 10918 10919\n",
      " 15450 15451 15452 15453 15454 15455 15462 15469 15470 15471 15472 15473\n",
      " 15474 15475 15482 15483 15484 15485 15486 15487 15488 15489 15490 15491\n",
      " 15492 15493 15500 15501 15502 15503 15504 15505 15506 15507 15508 15509\n",
      " 15510 15511 15526 15527 15528 15530 15544 15546 15548 15562 15563 15564\n",
      " 15565 15566 15567 15574 15581 15582 15583 15584 15586 15600 15602 15604\n",
      " 15618 15619 15620 15621 15622 15623 15630 15637 15638 15639 15640 15642\n",
      " 15656 15658 15660 15674 15675 15676 15677 15678 15679 20266 20267 20268\n",
      " 20269 20270 20271 20322 20323 20324 20325 20326 20327 20334 20341 20378\n",
      " 20379 20380 20381 20382 20383 20390 20397 20434 20435 20436 20437 20438\n",
      " 20439 25026 25027 25028 25029 25030 25031 25082 25083 25084 25085 25086\n",
      " 25087 25094 25101 25138 25139 25140 25141 25142 25143 25150 25157 25194\n",
      " 25195 25196 25197 25198 25199] are constant.\n",
      "  UserWarning)\n",
      "/Users/navinlr/opt/anaconda3/envs/conversation_quality/lib/python3.7/site-packages/sklearn/feature_selection/_univariate_selection.py:115: RuntimeWarning: invalid value encountered in true_divide\n",
      "  f = msb / msw\n",
      "/Users/navinlr/opt/anaconda3/envs/conversation_quality/lib/python3.7/site-packages/ipykernel_launcher.py:19: RuntimeWarning: invalid value encountered in less_equal\n"
     ]
    },
    {
     "name": "stdout",
     "output_type": "stream",
     "text": [
      "# Top Features = 11988\n",
      "After Feature Selection, Features -> (266, 11988)\n",
      "After Feature Selection, Features -> (36, 11988)\n",
      "Train Data -> Features - (266, 75) and Labels - 266\n",
      "Test  Data -> Features - (36, 75) and Labels - 36\n"
     ]
    },
    {
     "name": "stderr",
     "output_type": "stream",
     "text": [
      "/Users/navinlr/opt/anaconda3/envs/conversation_quality/lib/python3.7/site-packages/sklearn/feature_selection/_univariate_selection.py:114: UserWarning: Features [ 1226  1227  1228  1229  1230  1231  1282  1283  1284  1285  1286  1287\n",
      "  1294  1301  1338  1339  1340  1341  1342  1343  1350  1357  1394  1395\n",
      "  1396  1397  1398  1399  5986  5987  5988  5989  5990  5991  6042  6043\n",
      "  6044  6045  6046  6047  6054  6061  6098  6099  6100  6101  6102  6103\n",
      "  6110  6117  6154  6155  6156  6157  6158  6159 10746 10747 10748 10749\n",
      " 10750 10751 10802 10803 10804 10805 10806 10807 10814 10821 10858 10859\n",
      " 10860 10861 10862 10863 10870 10877 10914 10915 10916 10917 10918 10919\n",
      " 15450 15451 15452 15453 15454 15455 15462 15469 15482 15483 15484 15485\n",
      " 15486 15487 15500 15501 15502 15503 15504 15505 15506 15507 15508 15509\n",
      " 15510 15511 15526 15527 15528 15530 15544 15546 15548 15562 15563 15564\n",
      " 15565 15566 15567 15574 15581 15582 15583 15584 15586 15600 15602 15604\n",
      " 15618 15619 15620 15621 15622 15623 15630 15637 15638 15639 15640 15642\n",
      " 15656 15658 15660 15674 15675 15676 15677 15678 15679 20266 20267 20268\n",
      " 20269 20270 20271 20322 20323 20324 20325 20326 20327 20334 20341 20378\n",
      " 20379 20380 20381 20382 20383 20390 20397 20434 20435 20436 20437 20438\n",
      " 20439 25026 25027 25028 25029 25030 25031 25082 25083 25084 25085 25086\n",
      " 25087 25094 25101 25138 25139 25140 25141 25142 25143 25150 25157 25194\n",
      " 25195 25196 25197 25198 25199] are constant.\n",
      "  UserWarning)\n",
      "/Users/navinlr/opt/anaconda3/envs/conversation_quality/lib/python3.7/site-packages/sklearn/feature_selection/_univariate_selection.py:115: RuntimeWarning: invalid value encountered in true_divide\n",
      "  f = msb / msw\n",
      "/Users/navinlr/opt/anaconda3/envs/conversation_quality/lib/python3.7/site-packages/ipykernel_launcher.py:19: RuntimeWarning: invalid value encountered in less_equal\n"
     ]
    },
    {
     "name": "stdout",
     "output_type": "stream",
     "text": [
      "# Top Features = 9845\n",
      "After Feature Selection, Features -> (266, 9845)\n",
      "After Feature Selection, Features -> (36, 9845)\n",
      "Train Data -> Features - (266, 76) and Labels - 266\n",
      "Test  Data -> Features - (36, 76) and Labels - 36\n"
     ]
    }
   ],
   "source": [
    "#train_X, test_X, train_y, test_y = train_test_split(X, y, test_size=data_split_per, random_state=random_seed)\n",
    "final_conf_matrix = [[0,0],[0,0]]\n",
    "final_auc_score = 0.0\n",
    "\n",
    "skf = StratifiedKFold(n_splits=splits)\n",
    "for train_index, test_index in skf.split(X, y):\n",
    "\n",
    "    # Data Prep\n",
    "    train_X, test_X  = X[train_index], X[test_index]\n",
    "    train_y, test_y  = [y[i] for i in train_index], [y[i] for i in test_index]\n",
    "        \n",
    "    # Transfor Features\n",
    "    normaliser = feature_normalize(train_X, method=\"mean-var\")\n",
    "    # Apply transform to both the training set and the test set.\n",
    "    train_X = normaliser.transform(train_X)\n",
    "    test_X  = normaliser.transform(test_X)\n",
    "    \n",
    "    # SAMPLING\n",
    "    train_X, train_y = over_sample_data(train_X, train_y, method=\"SMOTE\")\n",
    "    \n",
    "    # Feature Selection\n",
    "    top_features = feature_selection(train_X, train_y, method=\"anova\")\n",
    "    train_X = select_required_features(train_X, top_features) \n",
    "    test_X  = select_required_features(test_X, top_features) \n",
    "    \n",
    "    # Dimensionality Reduction\n",
    "    dimension_model = dimension_reduction(train_X, method=\"pca\")\n",
    "    train_X = dimension_model.transform(train_X)\n",
    "    test_X  = dimension_model.transform(test_X)\n",
    "    \n",
    "    print(\"Train Data -> Features - \" + str(train_X.shape) + \" and Labels - \" + str(len(train_y)))\n",
    "    print(\"Test  Data -> Features - \" + str(test_X.shape) + \" and Labels - \" + str(len(test_y)))\n",
    "#     print(sum(train_y))  \n",
    "\n",
    "    # Modelling\n",
    "    model = model_convq_manifestation(train_X, train_y, model_type)\n",
    "    #Predict\n",
    "    predict_y = test_model(test_X, model)        \n",
    "    # Evaluate\n",
    "    conf_matrix = evaluate_predict(predict_y, test_y, confusion_matrix)\n",
    "    auc_score = evaluate_predict(predict_y, test_y, roc_auc_score)\n",
    "    \n",
    "    #Update Cross Validated scores\n",
    "    final_conf_matrix = final_conf_matrix + conf_matrix\n",
    "    final_auc_score = final_auc_score + auc_score\n",
    "\n",
    "final_auc_score = final_auc_score/skf.get_n_splits(X, y)"
   ]
  },
  {
   "cell_type": "code",
   "execution_count": 75,
   "metadata": {},
   "outputs": [
    {
     "name": "stdout",
     "output_type": "stream",
     "text": [
      "~~~~~~~~~~~ Confusion Matrix ~~~~~~~~~~~\n",
      "[[  2  14]\n",
      " [ 20 146]]\n",
      "~~~~~~~~~~~ AUC Score ~~~~~~~~~~~\n",
      "0.5063279857397504\n"
     ]
    }
   ],
   "source": [
    "# Printing Final Score\n",
    "print(\"~~~~~~~~~~~ Confusion Matrix ~~~~~~~~~~~\")\n",
    "print(final_conf_matrix)\n",
    "print(\"~~~~~~~~~~~ AUC Score ~~~~~~~~~~~\")\n",
    "print(final_auc_score)\n"
   ]
  },
  {
   "cell_type": "code",
   "execution_count": null,
   "metadata": {},
   "outputs": [],
   "source": []
  }
 ],
 "metadata": {
  "kernelspec": {
   "display_name": "Python 3",
   "language": "python",
   "name": "python3"
  },
  "language_info": {
   "codemirror_mode": {
    "name": "ipython",
    "version": 3
   },
   "file_extension": ".py",
   "mimetype": "text/x-python",
   "name": "python",
   "nbconvert_exporter": "python",
   "pygments_lexer": "ipython3",
   "version": "3.7.5"
  }
 },
 "nbformat": 4,
 "nbformat_minor": 2
}
