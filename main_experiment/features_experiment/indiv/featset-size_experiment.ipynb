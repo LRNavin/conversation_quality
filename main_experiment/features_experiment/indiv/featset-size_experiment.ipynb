{
 "cells": [
  {
   "cell_type": "code",
   "execution_count": 2,
   "metadata": {},
   "outputs": [],
   "source": [
    "# Model Experiments - Features Sets\n",
    "\n",
    "# Model - Logistic Reg, Log Loss + Elastic Regularisation + SGD\n",
    "# Features -\n",
    "#     * All Channels - Raw, Abs, Mag (8)\n",
    "#     * All Windows  - 0\n",
    "#     * All Indiv    - nil\n",
    "#     * All Pairwise -\n",
    "#            - Synch - Correl, lag-Correl, MI, mimicry, Coherence and Granger's\n",
    "#            - Convr - Sym.Conv, Asym.Conv, Glob.Conv\n",
    "#     * All GroupFeat-\n",
    "#            - Aggreagtion - Min, Max, Mean, Mode, Var\n",
    "#            \n",
    "# Evaluation - Acc, Conf.Matrix, AUC, Precision, Recall,"
   ]
  },
  {
   "cell_type": "code",
   "execution_count": 3,
   "metadata": {},
   "outputs": [],
   "source": [
    "import sys  \n",
    "sys.path.insert(0, '/Users/navinlr/Desktop/Thesis/code_base/conversation_quality')"
   ]
  },
  {
   "cell_type": "code",
   "execution_count": 4,
   "metadata": {},
   "outputs": [
    {
     "name": "stdout",
     "output_type": "stream",
     "text": [
      "Total Groups = 115\n"
     ]
    },
    {
     "name": "stderr",
     "output_type": "stream",
     "text": [
      "/Users/navinlr/opt/anaconda3/envs/conversation_quality/lib/python3.7/site-packages/lightgbm/__init__.py:48: UserWarning: Starting from version 2.2.1, the library file in distribution wheels for macOS is built by the Apple Clang (Xcode_8.3.3) compiler.\n",
      "This means that in case of installing LightGBM from PyPI via the ``pip install lightgbm`` command, you don't need to install the gcc compiler anymore.\n",
      "Instead of that, you need to install the OpenMP library, which is required for running LightGBM on the system with the Apple Clang compiler.\n",
      "You can install the OpenMP library by the following command: ``brew install libomp``.\n",
      "  \"You can install the OpenMP library by the following command: ``brew install libomp``.\", UserWarning)\n",
      "/Users/navinlr/opt/anaconda3/envs/conversation_quality/lib/python3.7/site-packages/outdated/utils.py:18: OutdatedPackageWarning: The package pingouin is out of date. Your version is 0.3.4, the latest is 0.3.5.\n",
      "Set the environment variable OUTDATED_IGNORE=1 to disable these warnings.\n",
      "  **kwargs\n",
      "Using TensorFlow backend.\n"
     ]
    }
   ],
   "source": [
    "from modeling import dataset_provider as data_gen\n",
    "from feature_extract import turntake_extractor as tt_extractor\n",
    "import feature_namer_script as feat_namers\n",
    "import constants\n",
    "\n",
    "from sklearn.linear_model import LogisticRegression, LinearRegression, ElasticNet, SGDClassifier\n",
    "from sklearn.ensemble import AdaBoostClassifier, RandomForestClassifier, GradientBoostingRegressor\n",
    "from sklearn.model_selection import train_test_split\n",
    "from sklearn.metrics import confusion_matrix, roc_curve, accuracy_score, mean_squared_error, roc_auc_score, r2_score, explained_variance_score\n",
    "from sklearn.decomposition import PCA\n",
    "from sklearn.feature_selection import f_classif\n",
    "from sklearn.preprocessing import StandardScaler, MinMaxScaler\n",
    "from sklearn.model_selection import StratifiedKFold\n",
    "from sklearn.metrics import plot_roc_curve\n",
    "from sklearn.feature_selection import SelectKBest, SelectFromModel, RFE, chi2\n",
    "from lightgbm import LGBMClassifier\n",
    "from imblearn import under_sampling \n",
    "from imblearn import over_sampling\n",
    "from sklearn.metrics import auc\n",
    "from imblearn.over_sampling import SMOTE, ADASYN\n",
    "import matplotlib.pyplot as plt\n",
    "from sklearn.manifold import TSNE\n",
    "from sklearn.tree import DecisionTreeClassifier\n",
    "from sklearn.svm import SVC\n",
    "from scipy import stats\n",
    "import seaborn as sns; sns.set()\n",
    "\n",
    "import numpy as np\n",
    "import pandas as pd\n",
    "sns.set(rc={'figure.figsize':(11.7,8.27)})"
   ]
  },
  {
   "cell_type": "code",
   "execution_count": 5,
   "metadata": {},
   "outputs": [],
   "source": [
    "# Variables for baseline\n",
    "random_seed=44\n",
    "manifest=\"indiv\"\n",
    "data_split_per=.40\n",
    "missing_data_thresh=50.0 #(in percent)\n",
    "convq_thresh=3.0\n",
    "agreeability_thresh=.2\n",
    "annotators=[\"Divya\", \"Nakul\"]#, \"Swathi\"]\n",
    "only_involved_pairs=True\n",
    "use_tt_features=False\n",
    "splits = 5\n",
    "store_file=constants.indiv_tt_X_path\n",
    "if manifest==\"group\":\n",
    "    smote_nn = 2\n",
    "else:\n",
    "    smote_nn = 6\n",
    "\n",
    "tt_features = [\"conv_eq\", \"#turns\", \"%talk\", \"mean_turn\", \"mean_silence\", \"%silence\", \"#bc\", \"%overlap\", \"#suc_interupt\", \"#un_interupt\"]\n",
    "\n",
    "label_type = \"hard\"\n",
    "model_type = \"log-elastic\"\n",
    "feat_sel = \"anova\"\n",
    "zero_mean  = False\n",
    "\n",
    "datasets=[constants.features_dataset_path_v7,\n",
    "          constants.features_dataset_path_v13,\n",
    "          \"tt-indiv\"]\n",
    "dataset_feat=[feat_namers.get_feature_names_for_dataset_7,\n",
    "              feat_namers.get_feature_names_for_dataset_13,\n",
    "              feat_namers.get_feature_names_for_tt]"
   ]
  },
  {
   "cell_type": "code",
   "execution_count": 6,
   "metadata": {},
   "outputs": [],
   "source": [
    "# Functions \n",
    "def over_sample_data(temp_X, temp_y, method=\"SMOTE\", k_neighbors=6):\n",
    "    if method == \"SMOTE\":\n",
    "        temp_X, temp_y = SMOTE(k_neighbors=k_neighbors-1, random_state=random_seed).fit_resample(temp_X, temp_y)\n",
    "    return temp_X, temp_y\n",
    "\n",
    "def feature_normalize(temp_X, method=\"min-max\"):\n",
    "    # Fit on training set only.\n",
    "    if method == \"min-max\":\n",
    "        normaliser = MinMaxScaler().fit(temp_X)\n",
    "    elif method == \"mean-var\":\n",
    "        normaliser = StandardScaler().fit(temp_X)\n",
    "    return normaliser\n",
    "    \n",
    "def feature_selection(temp_X, temp_y, method=\"anova\", num_feats=None):\n",
    "    top_features = []\n",
    "    if method == \"anova\":\n",
    "        f_values, p_values = f_classif(temp_X, temp_y)\n",
    "        threshold=np.median(np.absolute(np.array(f_values)))*num_feats\n",
    "        top_features=np.where(np.absolute(np.array(f_values)) >= threshold)[0]\n",
    "#         top_features=np.where(np.absolute(np.array(p_values)) <= 0.5)[0]\n",
    "    elif method == \"tree-based\":\n",
    "        sel_model = SelectFromModel(RandomForestClassifier(n_estimators=100, class_weight='balanced'),\n",
    "                                    max_features=num_feats, threshold=-np.inf).fit(temp_X, temp_y)\n",
    "        top_features = sel_model.get_support(True)\n",
    "    elif method == \"rec-elim\":\n",
    "        sel_model = RFE(estimator=LogisticRegression(solver='lbfgs', max_iter=1000, class_weight='balanced'),\n",
    "                        n_features_to_select=num_feats, step=10000).fit(temp_X, temp_y)\n",
    "        top_features = sel_model.get_support(True)\n",
    "    elif method == \"lgbc\":\n",
    "        lgbc = LGBMClassifier(n_estimators=1000, learning_rate=0.05)\n",
    "        sel_model = SelectFromModel(lgbc, max_features=num_feats, threshold=-np.inf).fit(temp_X, temp_y)\n",
    "        top_features = sel_model.get_support(True)\n",
    "\n",
    "    return top_features\n",
    "\n",
    "def select_required_features(temp_X, required_feats, method=\"anova\"):\n",
    "    if method == \"anova\":\n",
    "        temp_X=temp_X[:,required_feats]\n",
    "#     elif method\n",
    "    return temp_X\n",
    "\n",
    "def dimension_reduction(temp_X, method=\"pca\", threshold_var=0.95):\n",
    "    dim_red_model = None\n",
    "    if method==\"pca\":\n",
    "        dim_red_model = PCA(threshold_var).fit(temp_X)\n",
    "    elif method==\"tsne\":\n",
    "        dim_red_model = TSNE(n_components=2).fit(temp_X)\n",
    "    return dim_red_model\n",
    "    \n",
    "def process_convq_labels(y, label_type=\"soft\"):\n",
    "    print(\"Data-type of labels - \" + str(type(y)))\n",
    "    if label_type==\"soft\":\n",
    "        y=list(np.around(np.array(y),2))\n",
    "    else:\n",
    "        y=list(np.where(np.array(y) <= convq_thresh, 0, 1))\n",
    "        print(\"ConvQ Classes Distribution : (Total = \"+ str(len(y)) +\")\")\n",
    "        print(\"High Quality Conv = \" + str(sum(y)))\n",
    "        print(\"Low Quality Conv = \" + str(len(y)-sum(y)))\n",
    "    return y\n",
    "\n",
    "def model_convq_manifestation(temp_X, temp_y, model=\"log-reg\", fit=True):\n",
    "    \n",
    "    if fit:\n",
    "        if model == \"log-reg\":\n",
    "            model = LogisticRegression(solver='lbfgs', max_iter=1000, class_weight='balanced').fit(temp_X, temp_y)\n",
    "        elif model == \"lin-reg\":\n",
    "            model = LinearRegression().fit(temp_X, temp_y)\n",
    "        elif model == \"adaboost\":\n",
    "            model = AdaBoostClassifier(n_estimators=500).fit(temp_X, temp_y)\n",
    "        elif model == \"dec-tree\":\n",
    "            model = DecisionTreeClassifier(class_weight='balanced').fit(temp_X, temp_y)\n",
    "        elif model == \"rand-for\":\n",
    "            model = RandomForestClassifier(n_estimators=1000, class_weight='balanced').fit(temp_X, temp_y)\n",
    "        elif model == \"svm\":\n",
    "            model = SVC(kernel='poly').fit(temp_X, temp_y)\n",
    "        elif model == \"log-elastic\":\n",
    "            model = SGDClassifier(loss=\"log\", class_weight=\"balanced\", penalty=\"elasticnet\",\n",
    "                                  learning_rate='adaptive', eta0=0.001,\n",
    "                                  max_iter=10000).fit(temp_X, temp_y)\n",
    "        elif model == \"grad-boost-quant\":\n",
    "            model = GradientBoostingRegressor(loss='quantile',n_estimators=1000).fit(temp_X, temp_y)\n",
    "    else:\n",
    "        if model == \"log-reg\":\n",
    "            model = LogisticRegression(solver='lbfgs', max_iter=1000, class_weight='balanced')\n",
    "        elif model == \"lin-reg\":\n",
    "            model = LinearRegression()\n",
    "        elif model == \"adaboost\":\n",
    "            model = AdaBoostClassifier(n_estimators=500)\n",
    "        elif model == \"dec-tree\":\n",
    "            model = DecisionTreeClassifier(class_weight='balanced')\n",
    "        elif model == \"rand-for\":\n",
    "            model = RandomForestClassifier(n_estimators=1000, class_weight='balanced')\n",
    "        elif model == \"svm\":\n",
    "            model = SVC(kernel='poly')\n",
    "        elif model == \"log-elastic\":\n",
    "            model = SGDClassifier(loss=\"log\", max_iter=10000, class_weight='balanced')\n",
    "        elif model == \"grad-boost-quant\":\n",
    "            model = GradientBoostingRegressor(loss='quantile',n_estimators=1000)\n",
    "    return model\n",
    "\n",
    "def get_model_predict_proba(temp_X, model):\n",
    "    return model.predict_proba(temp_X)[::,1]\n",
    "\n",
    "def analyse_model_params(model):\n",
    "    return True\n",
    "\n",
    "def test_model(temp_X, model):\n",
    "    return model.predict(temp_X)\n",
    "\n",
    "def evaluate_predict(test_temp_y, predict_temp_y, method=accuracy_score):\n",
    "    score = method(test_temp_y, predict_temp_y)\n",
    "    return score"
   ]
  },
  {
   "cell_type": "code",
   "execution_count": 16,
   "metadata": {},
   "outputs": [],
   "source": [
    "# Experiment List\n",
    "experiments=[\"Turn-Taking \\n Features\", \"Synchrony \\n Features\",\n",
    "             \"Convergence \\n Features\", \n",
    "             \"Synchrony + \\n Convergence\",\n",
    "             \"Causality \\n Features\",\n",
    "             \"Synchrony + \\n Convergence \\n + Causality \\n (Body Coordination)\",\n",
    "             \"Turn-Taking + \\n Body Coordination\", \n",
    "             \"Turn-Taking + \\n Synchrony + \\n Convergence\"]"
   ]
  },
  {
   "cell_type": "code",
   "execution_count": 8,
   "metadata": {},
   "outputs": [
    {
     "name": "stdout",
     "output_type": "stream",
     "text": [
      "Generating Dataset for modeling - indiv ConvQ, ...........\n",
      "Number of Groups (After removing missing data) - 85\n",
      "ZERO-MEAN Technique ? - False\n",
      "ZERO-MEAN Technique ? - False\n"
     ]
    },
    {
     "name": "stderr",
     "output_type": "stream",
     "text": [
      "21it [00:00, 208.49it/s]"
     ]
    },
    {
     "name": "stdout",
     "output_type": "stream",
     "text": [
      "Number of Final Data-points (After removing unreliable annotation data) - 179\n"
     ]
    },
    {
     "name": "stderr",
     "output_type": "stream",
     "text": [
      "179it [00:00, 190.18it/s]\n"
     ]
    },
    {
     "name": "stdout",
     "output_type": "stream",
     "text": [
      "Total #Features = 756\n",
      "Current Feature Set - (179, 756)\n",
      "Generating Dataset for modeling - indiv ConvQ, ...........\n",
      "Number of Groups (After removing missing data) - 85\n",
      "ZERO-MEAN Technique ? - False\n",
      "ZERO-MEAN Technique ? - False\n"
     ]
    },
    {
     "name": "stderr",
     "output_type": "stream",
     "text": [
      "86it [00:00, 858.53it/s]"
     ]
    },
    {
     "name": "stdout",
     "output_type": "stream",
     "text": [
      "Number of Final Data-points (After removing unreliable annotation data) - 179\n"
     ]
    },
    {
     "name": "stderr",
     "output_type": "stream",
     "text": [
      "179it [00:00, 847.37it/s]\n",
      "  0%|          | 0/179 [00:00<?, ?it/s]"
     ]
    },
    {
     "name": "stdout",
     "output_type": "stream",
     "text": [
      "Total #Features = 126\n",
      "Current Feature Set - (179, 882)\n",
      "For Sample ->>>> 1_005_13\n"
     ]
    },
    {
     "name": "stderr",
     "output_type": "stream",
     "text": [
      "\r",
      "  1%|          | 1/179 [00:01<03:49,  1.29s/it]"
     ]
    },
    {
     "name": "stdout",
     "output_type": "stream",
     "text": [
      "For Sample ->>>> 1_018_20\n"
     ]
    },
    {
     "name": "stderr",
     "output_type": "stream",
     "text": [
      "\r",
      "  1%|          | 2/179 [00:02<03:29,  1.18s/it]"
     ]
    },
    {
     "name": "stdout",
     "output_type": "stream",
     "text": [
      "For Sample ->>>> 1_018_31\n"
     ]
    },
    {
     "name": "stderr",
     "output_type": "stream",
     "text": [
      "\r",
      "  2%|▏         | 3/179 [00:03<03:14,  1.10s/it]"
     ]
    },
    {
     "name": "stdout",
     "output_type": "stream",
     "text": [
      "For Sample ->>>> 1_018_35\n"
     ]
    },
    {
     "name": "stderr",
     "output_type": "stream",
     "text": [
      "\r",
      "  2%|▏         | 4/179 [00:04<03:06,  1.07s/it]"
     ]
    },
    {
     "name": "stdout",
     "output_type": "stream",
     "text": [
      "For Sample ->>>> 1_019_17\n"
     ]
    },
    {
     "name": "stderr",
     "output_type": "stream",
     "text": [
      "\r",
      "  3%|▎         | 5/179 [00:05<03:11,  1.10s/it]"
     ]
    },
    {
     "name": "stdout",
     "output_type": "stream",
     "text": [
      "For Sample ->>>> 1_019_25\n"
     ]
    },
    {
     "name": "stderr",
     "output_type": "stream",
     "text": [
      "\r",
      "  3%|▎         | 6/179 [00:06<03:05,  1.07s/it]"
     ]
    },
    {
     "name": "stdout",
     "output_type": "stream",
     "text": [
      "For Sample ->>>> 1_030_17\n"
     ]
    },
    {
     "name": "stderr",
     "output_type": "stream",
     "text": [
      "\r",
      "  4%|▍         | 7/179 [00:07<03:05,  1.08s/it]"
     ]
    },
    {
     "name": "stdout",
     "output_type": "stream",
     "text": [
      "For Sample ->>>> 1_030_28\n"
     ]
    },
    {
     "name": "stderr",
     "output_type": "stream",
     "text": [
      "\r",
      "  4%|▍         | 8/179 [00:08<03:01,  1.06s/it]"
     ]
    },
    {
     "name": "stdout",
     "output_type": "stream",
     "text": [
      "For Sample ->>>> 1_033_13\n"
     ]
    },
    {
     "name": "stderr",
     "output_type": "stream",
     "text": [
      "\r",
      "  5%|▌         | 9/179 [00:09<02:57,  1.04s/it]"
     ]
    },
    {
     "name": "stdout",
     "output_type": "stream",
     "text": [
      "For Sample ->>>> 1_033_36\n"
     ]
    },
    {
     "name": "stderr",
     "output_type": "stream",
     "text": [
      "\r",
      "  6%|▌         | 10/179 [00:10<02:57,  1.05s/it]"
     ]
    },
    {
     "name": "stdout",
     "output_type": "stream",
     "text": [
      "For Sample ->>>> 1_034_17\n"
     ]
    },
    {
     "name": "stderr",
     "output_type": "stream",
     "text": [
      "\r",
      "  6%|▌         | 11/179 [00:11<03:06,  1.11s/it]"
     ]
    },
    {
     "name": "stdout",
     "output_type": "stream",
     "text": [
      "For Sample ->>>> 1_034_19\n"
     ]
    },
    {
     "name": "stderr",
     "output_type": "stream",
     "text": [
      "\r",
      "  7%|▋         | 12/179 [00:12<03:11,  1.14s/it]"
     ]
    },
    {
     "name": "stdout",
     "output_type": "stream",
     "text": [
      "For Sample ->>>> 1_034_25\n"
     ]
    },
    {
     "name": "stderr",
     "output_type": "stream",
     "text": [
      "\r",
      "  7%|▋         | 13/179 [00:14<03:14,  1.17s/it]"
     ]
    },
    {
     "name": "stdout",
     "output_type": "stream",
     "text": [
      "For Sample ->>>> 1_034_28\n"
     ]
    },
    {
     "name": "stderr",
     "output_type": "stream",
     "text": [
      "\r",
      "  8%|▊         | 14/179 [00:15<03:36,  1.31s/it]"
     ]
    },
    {
     "name": "stdout",
     "output_type": "stream",
     "text": [
      "For Sample ->>>> 1_035_12\n"
     ]
    },
    {
     "name": "stderr",
     "output_type": "stream",
     "text": [
      "\r",
      "  8%|▊         | 15/179 [00:17<03:41,  1.35s/it]"
     ]
    },
    {
     "name": "stdout",
     "output_type": "stream",
     "text": [
      "For Sample ->>>> 1_035_13\n"
     ]
    },
    {
     "name": "stderr",
     "output_type": "stream",
     "text": [
      "\r",
      "  9%|▉         | 16/179 [00:18<03:48,  1.40s/it]"
     ]
    },
    {
     "name": "stdout",
     "output_type": "stream",
     "text": [
      "For Sample ->>>> 1_042_16\n"
     ]
    },
    {
     "name": "stderr",
     "output_type": "stream",
     "text": [
      "\r",
      "  9%|▉         | 17/179 [00:20<03:37,  1.34s/it]"
     ]
    },
    {
     "name": "stdout",
     "output_type": "stream",
     "text": [
      "For Sample ->>>> 1_042_18\n"
     ]
    },
    {
     "name": "stderr",
     "output_type": "stream",
     "text": [
      "\r",
      " 10%|█         | 18/179 [00:21<03:25,  1.28s/it]"
     ]
    },
    {
     "name": "stdout",
     "output_type": "stream",
     "text": [
      "For Sample ->>>> 1_046_12\n"
     ]
    },
    {
     "name": "stderr",
     "output_type": "stream",
     "text": [
      "\r",
      " 11%|█         | 19/179 [00:22<03:19,  1.25s/it]"
     ]
    },
    {
     "name": "stdout",
     "output_type": "stream",
     "text": [
      "For Sample ->>>> 1_046_13\n"
     ]
    },
    {
     "name": "stderr",
     "output_type": "stream",
     "text": [
      "\r",
      " 11%|█         | 20/179 [00:23<03:09,  1.19s/it]"
     ]
    },
    {
     "name": "stdout",
     "output_type": "stream",
     "text": [
      "For Sample ->>>> 1_046_36\n"
     ]
    },
    {
     "name": "stderr",
     "output_type": "stream",
     "text": [
      "\r",
      " 12%|█▏        | 21/179 [00:24<03:00,  1.14s/it]"
     ]
    },
    {
     "name": "stdout",
     "output_type": "stream",
     "text": [
      "For Sample ->>>> 1_047_12\n"
     ]
    },
    {
     "name": "stderr",
     "output_type": "stream",
     "text": [
      "\r",
      " 12%|█▏        | 22/179 [00:25<02:38,  1.01s/it]"
     ]
    },
    {
     "name": "stdout",
     "output_type": "stream",
     "text": [
      "For Sample ->>>> 1_047_36\n"
     ]
    },
    {
     "name": "stderr",
     "output_type": "stream",
     "text": [
      "\r",
      " 13%|█▎        | 23/179 [00:25<02:24,  1.08it/s]"
     ]
    },
    {
     "name": "stdout",
     "output_type": "stream",
     "text": [
      "For Sample ->>>> 1_061_12\n"
     ]
    },
    {
     "name": "stderr",
     "output_type": "stream",
     "text": [
      "\r",
      " 13%|█▎        | 24/179 [00:26<02:28,  1.05it/s]"
     ]
    },
    {
     "name": "stdout",
     "output_type": "stream",
     "text": [
      "For Sample ->>>> 1_061_36\n"
     ]
    },
    {
     "name": "stderr",
     "output_type": "stream",
     "text": [
      "\r",
      " 14%|█▍        | 25/179 [00:27<02:29,  1.03it/s]"
     ]
    },
    {
     "name": "stdout",
     "output_type": "stream",
     "text": [
      "For Sample ->>>> 1_062_20\n"
     ]
    },
    {
     "name": "stderr",
     "output_type": "stream",
     "text": [
      "\r",
      " 15%|█▍        | 26/179 [00:29<03:00,  1.18s/it]"
     ]
    },
    {
     "name": "stdout",
     "output_type": "stream",
     "text": [
      "For Sample ->>>> 1_062_31\n"
     ]
    },
    {
     "name": "stderr",
     "output_type": "stream",
     "text": [
      "\r",
      " 15%|█▌        | 27/179 [00:31<03:25,  1.35s/it]"
     ]
    },
    {
     "name": "stdout",
     "output_type": "stream",
     "text": [
      "For Sample ->>>> 1_062_34\n"
     ]
    },
    {
     "name": "stderr",
     "output_type": "stream",
     "text": [
      "\r",
      " 16%|█▌        | 28/179 [00:32<03:35,  1.43s/it]"
     ]
    },
    {
     "name": "stdout",
     "output_type": "stream",
     "text": [
      "For Sample ->>>> 1_062_35\n"
     ]
    },
    {
     "name": "stderr",
     "output_type": "stream",
     "text": [
      "\r",
      " 16%|█▌        | 29/179 [00:34<03:39,  1.46s/it]"
     ]
    },
    {
     "name": "stdout",
     "output_type": "stream",
     "text": [
      "For Sample ->>>> 1_066_20\n"
     ]
    },
    {
     "name": "stderr",
     "output_type": "stream",
     "text": [
      "\r",
      " 17%|█▋        | 30/179 [00:35<03:13,  1.30s/it]"
     ]
    },
    {
     "name": "stdout",
     "output_type": "stream",
     "text": [
      "For Sample ->>>> 1_066_31\n"
     ]
    },
    {
     "name": "stderr",
     "output_type": "stream",
     "text": [
      "\r",
      " 17%|█▋        | 31/179 [00:36<02:56,  1.19s/it]"
     ]
    },
    {
     "name": "stdout",
     "output_type": "stream",
     "text": [
      "For Sample ->>>> 1_066_35\n"
     ]
    },
    {
     "name": "stderr",
     "output_type": "stream",
     "text": [
      "\r",
      " 18%|█▊        | 32/179 [00:37<02:44,  1.12s/it]"
     ]
    },
    {
     "name": "stdout",
     "output_type": "stream",
     "text": [
      "For Sample ->>>> 1_067_17\n"
     ]
    },
    {
     "name": "stderr",
     "output_type": "stream",
     "text": [
      "\r",
      " 18%|█▊        | 33/179 [00:38<02:48,  1.15s/it]"
     ]
    },
    {
     "name": "stdout",
     "output_type": "stream",
     "text": [
      "For Sample ->>>> 1_067_19\n"
     ]
    },
    {
     "name": "stderr",
     "output_type": "stream",
     "text": [
      "\r",
      " 19%|█▉        | 34/179 [00:39<02:49,  1.17s/it]"
     ]
    },
    {
     "name": "stdout",
     "output_type": "stream",
     "text": [
      "For Sample ->>>> 1_067_25\n"
     ]
    },
    {
     "name": "stderr",
     "output_type": "stream",
     "text": [
      "\r",
      " 20%|█▉        | 35/179 [00:40<02:53,  1.21s/it]"
     ]
    },
    {
     "name": "stdout",
     "output_type": "stream",
     "text": [
      "For Sample ->>>> 1_068_2\n"
     ]
    },
    {
     "name": "stderr",
     "output_type": "stream",
     "text": [
      "\r",
      " 20%|██        | 36/179 [00:42<02:52,  1.21s/it]"
     ]
    },
    {
     "name": "stdout",
     "output_type": "stream",
     "text": [
      "For Sample ->>>> 1_068_13\n"
     ]
    },
    {
     "name": "stderr",
     "output_type": "stream",
     "text": [
      "\r",
      " 21%|██        | 37/179 [00:43<02:51,  1.21s/it]"
     ]
    },
    {
     "name": "stdout",
     "output_type": "stream",
     "text": [
      "For Sample ->>>> 1_068_18\n"
     ]
    },
    {
     "name": "stderr",
     "output_type": "stream",
     "text": [
      "\r",
      " 21%|██        | 38/179 [00:44<02:50,  1.21s/it]"
     ]
    },
    {
     "name": "stdout",
     "output_type": "stream",
     "text": [
      "For Sample ->>>> 1_068_24\n"
     ]
    },
    {
     "name": "stderr",
     "output_type": "stream",
     "text": [
      "\r",
      " 22%|██▏       | 39/179 [00:45<02:49,  1.21s/it]"
     ]
    },
    {
     "name": "stdout",
     "output_type": "stream",
     "text": [
      "For Sample ->>>> 1_069_38\n"
     ]
    },
    {
     "name": "stderr",
     "output_type": "stream",
     "text": [
      "\r",
      " 22%|██▏       | 40/179 [00:46<02:23,  1.03s/it]"
     ]
    },
    {
     "name": "stdout",
     "output_type": "stream",
     "text": [
      "For Sample ->>>> 1_069_39\n"
     ]
    },
    {
     "name": "stderr",
     "output_type": "stream",
     "text": [
      "\r",
      " 23%|██▎       | 41/179 [00:47<02:05,  1.10it/s]"
     ]
    },
    {
     "name": "stdout",
     "output_type": "stream",
     "text": [
      "For Sample ->>>> 1_071_20\n"
     ]
    },
    {
     "name": "stderr",
     "output_type": "stream",
     "text": [
      "\r",
      " 23%|██▎       | 42/179 [00:48<02:28,  1.09s/it]"
     ]
    },
    {
     "name": "stdout",
     "output_type": "stream",
     "text": [
      "For Sample ->>>> 1_071_31\n"
     ]
    },
    {
     "name": "stderr",
     "output_type": "stream",
     "text": [
      "\r",
      " 24%|██▍       | 43/179 [00:50<02:45,  1.21s/it]"
     ]
    },
    {
     "name": "stdout",
     "output_type": "stream",
     "text": [
      "For Sample ->>>> 1_071_34\n"
     ]
    },
    {
     "name": "stderr",
     "output_type": "stream",
     "text": [
      "\r",
      " 25%|██▍       | 44/179 [00:51<02:58,  1.32s/it]"
     ]
    },
    {
     "name": "stdout",
     "output_type": "stream",
     "text": [
      "For Sample ->>>> 1_072_8\n"
     ]
    },
    {
     "name": "stderr",
     "output_type": "stream",
     "text": [
      "\r",
      " 25%|██▌       | 45/179 [00:52<02:28,  1.11s/it]"
     ]
    },
    {
     "name": "stdout",
     "output_type": "stream",
     "text": [
      "For Sample ->>>> 1_072_26\n"
     ]
    },
    {
     "name": "stderr",
     "output_type": "stream",
     "text": [
      "\r",
      " 26%|██▌       | 46/179 [00:52<02:07,  1.04it/s]"
     ]
    },
    {
     "name": "stdout",
     "output_type": "stream",
     "text": [
      "For Sample ->>>> 1_073_26\n"
     ]
    },
    {
     "name": "stderr",
     "output_type": "stream",
     "text": [
      "\r",
      " 26%|██▋       | 47/179 [00:53<01:53,  1.16it/s]"
     ]
    },
    {
     "name": "stdout",
     "output_type": "stream",
     "text": [
      "For Sample ->>>> 1_074_8\n"
     ]
    },
    {
     "name": "stderr",
     "output_type": "stream",
     "text": [
      "\r",
      " 27%|██▋       | 48/179 [00:54<01:43,  1.27it/s]"
     ]
    },
    {
     "name": "stdout",
     "output_type": "stream",
     "text": [
      "For Sample ->>>> 1_075_8\n"
     ]
    },
    {
     "name": "stderr",
     "output_type": "stream",
     "text": [
      "\r",
      " 27%|██▋       | 49/179 [00:54<01:35,  1.36it/s]"
     ]
    },
    {
     "name": "stdout",
     "output_type": "stream",
     "text": [
      "For Sample ->>>> 1_075_26\n"
     ]
    },
    {
     "name": "stderr",
     "output_type": "stream",
     "text": [
      "\r",
      " 28%|██▊       | 50/179 [00:55<01:30,  1.42it/s]"
     ]
    },
    {
     "name": "stdout",
     "output_type": "stream",
     "text": [
      "For Sample ->>>> 1_076_14\n"
     ]
    },
    {
     "name": "stderr",
     "output_type": "stream",
     "text": [
      "\r",
      " 28%|██▊       | 51/179 [00:55<01:26,  1.48it/s]"
     ]
    },
    {
     "name": "stdout",
     "output_type": "stream",
     "text": [
      "For Sample ->>>> 1_076_32\n"
     ]
    },
    {
     "name": "stderr",
     "output_type": "stream",
     "text": [
      "\r",
      " 29%|██▉       | 52/179 [00:56<01:23,  1.52it/s]"
     ]
    },
    {
     "name": "stdout",
     "output_type": "stream",
     "text": [
      "For Sample ->>>> 1_077_14\n"
     ]
    },
    {
     "name": "stderr",
     "output_type": "stream",
     "text": [
      "\r",
      " 30%|██▉       | 53/179 [00:57<01:21,  1.55it/s]"
     ]
    },
    {
     "name": "stdout",
     "output_type": "stream",
     "text": [
      "For Sample ->>>> 1_077_32\n"
     ]
    },
    {
     "name": "stderr",
     "output_type": "stream",
     "text": [
      "\r",
      " 30%|███       | 54/179 [00:57<01:19,  1.57it/s]"
     ]
    },
    {
     "name": "stdout",
     "output_type": "stream",
     "text": [
      "For Sample ->>>> 1_078_14\n"
     ]
    },
    {
     "name": "stderr",
     "output_type": "stream",
     "text": [
      "\r",
      " 31%|███       | 55/179 [00:58<01:17,  1.59it/s]"
     ]
    },
    {
     "name": "stdout",
     "output_type": "stream",
     "text": [
      "For Sample ->>>> 1_078_32\n"
     ]
    },
    {
     "name": "stderr",
     "output_type": "stream",
     "text": [
      "\r",
      " 31%|███▏      | 56/179 [00:59<01:16,  1.61it/s]"
     ]
    },
    {
     "name": "stdout",
     "output_type": "stream",
     "text": [
      "For Sample ->>>> 1_079_14\n"
     ]
    },
    {
     "name": "stderr",
     "output_type": "stream",
     "text": [
      "\r",
      " 32%|███▏      | 57/179 [00:59<01:15,  1.61it/s]"
     ]
    },
    {
     "name": "stdout",
     "output_type": "stream",
     "text": [
      "For Sample ->>>> 1_079_32\n"
     ]
    },
    {
     "name": "stderr",
     "output_type": "stream",
     "text": [
      "\r",
      " 32%|███▏      | 58/179 [01:00<01:14,  1.62it/s]"
     ]
    },
    {
     "name": "stdout",
     "output_type": "stream",
     "text": [
      "For Sample ->>>> 1_080_16\n"
     ]
    },
    {
     "name": "stderr",
     "output_type": "stream",
     "text": [
      "\r",
      " 33%|███▎      | 59/179 [01:00<01:14,  1.62it/s]"
     ]
    },
    {
     "name": "stdout",
     "output_type": "stream",
     "text": [
      "For Sample ->>>> 1_080_21\n"
     ]
    },
    {
     "name": "stderr",
     "output_type": "stream",
     "text": [
      "\r",
      " 34%|███▎      | 60/179 [01:01<01:13,  1.62it/s]"
     ]
    },
    {
     "name": "stdout",
     "output_type": "stream",
     "text": [
      "For Sample ->>>> 1_081_16\n"
     ]
    },
    {
     "name": "stderr",
     "output_type": "stream",
     "text": [
      "\r",
      " 34%|███▍      | 61/179 [01:02<01:12,  1.63it/s]"
     ]
    },
    {
     "name": "stdout",
     "output_type": "stream",
     "text": [
      "For Sample ->>>> 1_081_21\n"
     ]
    },
    {
     "name": "stderr",
     "output_type": "stream",
     "text": [
      "\r",
      " 35%|███▍      | 62/179 [01:02<01:11,  1.63it/s]"
     ]
    },
    {
     "name": "stdout",
     "output_type": "stream",
     "text": [
      "For Sample ->>>> 1_082_18\n"
     ]
    },
    {
     "name": "stderr",
     "output_type": "stream",
     "text": [
      "\r",
      " 35%|███▌      | 63/179 [01:03<01:10,  1.63it/s]"
     ]
    },
    {
     "name": "stdout",
     "output_type": "stream",
     "text": [
      "For Sample ->>>> 1_083_2\n"
     ]
    },
    {
     "name": "stderr",
     "output_type": "stream",
     "text": [
      "\r",
      " 36%|███▌      | 64/179 [01:03<01:10,  1.64it/s]"
     ]
    },
    {
     "name": "stdout",
     "output_type": "stream",
     "text": [
      "For Sample ->>>> 1_083_18\n"
     ]
    },
    {
     "name": "stderr",
     "output_type": "stream",
     "text": [
      "\r",
      " 36%|███▋      | 65/179 [01:04<01:09,  1.64it/s]"
     ]
    },
    {
     "name": "stdout",
     "output_type": "stream",
     "text": [
      "For Sample ->>>> 1_084_16\n"
     ]
    },
    {
     "name": "stderr",
     "output_type": "stream",
     "text": [
      "\r",
      " 37%|███▋      | 66/179 [01:05<01:08,  1.64it/s]"
     ]
    },
    {
     "name": "stdout",
     "output_type": "stream",
     "text": [
      "For Sample ->>>> 1_084_21\n"
     ]
    },
    {
     "name": "stderr",
     "output_type": "stream",
     "text": [
      "\r",
      " 37%|███▋      | 67/179 [01:05<01:08,  1.64it/s]"
     ]
    },
    {
     "name": "stdout",
     "output_type": "stream",
     "text": [
      "For Sample ->>>> 1_085_16\n"
     ]
    },
    {
     "name": "stderr",
     "output_type": "stream",
     "text": [
      "\r",
      " 38%|███▊      | 68/179 [01:06<01:07,  1.64it/s]"
     ]
    },
    {
     "name": "stdout",
     "output_type": "stream",
     "text": [
      "For Sample ->>>> 1_085_21\n"
     ]
    },
    {
     "name": "stderr",
     "output_type": "stream",
     "text": [
      "\r",
      " 39%|███▊      | 69/179 [01:07<01:07,  1.63it/s]"
     ]
    },
    {
     "name": "stdout",
     "output_type": "stream",
     "text": [
      "For Sample ->>>> 1_086_20\n"
     ]
    },
    {
     "name": "stderr",
     "output_type": "stream",
     "text": [
      "\r",
      " 39%|███▉      | 70/179 [01:08<01:26,  1.26it/s]"
     ]
    },
    {
     "name": "stdout",
     "output_type": "stream",
     "text": [
      "For Sample ->>>> 1_086_31\n"
     ]
    },
    {
     "name": "stderr",
     "output_type": "stream",
     "text": [
      "\r",
      " 40%|███▉      | 71/179 [01:09<01:39,  1.09it/s]"
     ]
    },
    {
     "name": "stdout",
     "output_type": "stream",
     "text": [
      "For Sample ->>>> 1_086_34\n"
     ]
    },
    {
     "name": "stderr",
     "output_type": "stream",
     "text": [
      "\r",
      " 40%|████      | 72/179 [01:10<01:47,  1.01s/it]"
     ]
    },
    {
     "name": "stdout",
     "output_type": "stream",
     "text": [
      "For Sample ->>>> 1_086_35\n"
     ]
    },
    {
     "name": "stderr",
     "output_type": "stream",
     "text": [
      "\r",
      " 41%|████      | 73/179 [01:11<01:54,  1.08s/it]"
     ]
    },
    {
     "name": "stdout",
     "output_type": "stream",
     "text": [
      "For Sample ->>>> 1_087_20\n"
     ]
    },
    {
     "name": "stderr",
     "output_type": "stream",
     "text": [
      "\r",
      " 41%|████▏     | 74/179 [01:13<01:57,  1.12s/it]"
     ]
    },
    {
     "name": "stdout",
     "output_type": "stream",
     "text": [
      "For Sample ->>>> 1_087_31\n"
     ]
    },
    {
     "name": "stderr",
     "output_type": "stream",
     "text": [
      "\r",
      " 42%|████▏     | 75/179 [01:14<01:59,  1.15s/it]"
     ]
    },
    {
     "name": "stdout",
     "output_type": "stream",
     "text": [
      "For Sample ->>>> 1_087_34\n"
     ]
    },
    {
     "name": "stderr",
     "output_type": "stream",
     "text": [
      "\r",
      " 42%|████▏     | 76/179 [01:15<02:00,  1.17s/it]"
     ]
    },
    {
     "name": "stdout",
     "output_type": "stream",
     "text": [
      "For Sample ->>>> 1_087_35\n"
     ]
    },
    {
     "name": "stderr",
     "output_type": "stream",
     "text": [
      "\r",
      " 43%|████▎     | 77/179 [01:16<02:00,  1.18s/it]"
     ]
    },
    {
     "name": "stdout",
     "output_type": "stream",
     "text": [
      "For Sample ->>>> 1_088_12\n"
     ]
    },
    {
     "name": "stderr",
     "output_type": "stream",
     "text": [
      "\r",
      " 44%|████▎     | 78/179 [01:17<01:41,  1.01s/it]"
     ]
    },
    {
     "name": "stdout",
     "output_type": "stream",
     "text": [
      "For Sample ->>>> 1_088_36\n"
     ]
    },
    {
     "name": "stderr",
     "output_type": "stream",
     "text": [
      "\r",
      " 44%|████▍     | 79/179 [01:17<01:29,  1.12it/s]"
     ]
    },
    {
     "name": "stdout",
     "output_type": "stream",
     "text": [
      "For Sample ->>>> 1_089_2\n"
     ]
    },
    {
     "name": "stderr",
     "output_type": "stream",
     "text": [
      "\r",
      " 45%|████▍     | 80/179 [01:18<01:28,  1.11it/s]"
     ]
    },
    {
     "name": "stdout",
     "output_type": "stream",
     "text": [
      "For Sample ->>>> 1_089_13\n"
     ]
    },
    {
     "name": "stderr",
     "output_type": "stream",
     "text": [
      "\r",
      " 45%|████▌     | 81/179 [01:19<01:28,  1.11it/s]"
     ]
    },
    {
     "name": "stdout",
     "output_type": "stream",
     "text": [
      "For Sample ->>>> 1_089_18\n"
     ]
    },
    {
     "name": "stderr",
     "output_type": "stream",
     "text": [
      "\r",
      " 46%|████▌     | 82/179 [01:20<01:28,  1.10it/s]"
     ]
    },
    {
     "name": "stdout",
     "output_type": "stream",
     "text": [
      "For Sample ->>>> 1_090_19\n"
     ]
    },
    {
     "name": "stderr",
     "output_type": "stream",
     "text": [
      "\r",
      " 46%|████▋     | 83/179 [01:21<01:19,  1.20it/s]"
     ]
    },
    {
     "name": "stdout",
     "output_type": "stream",
     "text": [
      "For Sample ->>>> 1_090_25\n"
     ]
    },
    {
     "name": "stderr",
     "output_type": "stream",
     "text": [
      "\r",
      " 47%|████▋     | 84/179 [01:22<01:13,  1.30it/s]"
     ]
    },
    {
     "name": "stdout",
     "output_type": "stream",
     "text": [
      "For Sample ->>>> 1_091_17\n"
     ]
    },
    {
     "name": "stderr",
     "output_type": "stream",
     "text": [
      "\r",
      " 47%|████▋     | 85/179 [01:22<01:07,  1.38it/s]"
     ]
    },
    {
     "name": "stdout",
     "output_type": "stream",
     "text": [
      "For Sample ->>>> 1_091_28\n"
     ]
    },
    {
     "name": "stderr",
     "output_type": "stream",
     "text": [
      "\r",
      " 48%|████▊     | 86/179 [01:23<01:04,  1.45it/s]"
     ]
    },
    {
     "name": "stdout",
     "output_type": "stream",
     "text": [
      "For Sample ->>>> 2_006_12\n"
     ]
    },
    {
     "name": "stderr",
     "output_type": "stream",
     "text": [
      "\r",
      " 49%|████▊     | 87/179 [01:25<01:36,  1.05s/it]"
     ]
    },
    {
     "name": "stdout",
     "output_type": "stream",
     "text": [
      "For Sample ->>>> 2_006_15\n"
     ]
    },
    {
     "name": "stderr",
     "output_type": "stream",
     "text": [
      "\r",
      " 49%|████▉     | 88/179 [01:26<01:57,  1.30s/it]"
     ]
    },
    {
     "name": "stdout",
     "output_type": "stream",
     "text": [
      "For Sample ->>>> 2_006_33\n"
     ]
    },
    {
     "name": "stderr",
     "output_type": "stream",
     "text": [
      "\r",
      " 50%|████▉     | 89/179 [01:29<02:17,  1.53s/it]"
     ]
    },
    {
     "name": "stdout",
     "output_type": "stream",
     "text": [
      "For Sample ->>>> 2_009_23\n"
     ]
    },
    {
     "name": "stderr",
     "output_type": "stream",
     "text": [
      "\r",
      " 50%|█████     | 90/179 [01:29<01:53,  1.28s/it]"
     ]
    },
    {
     "name": "stdout",
     "output_type": "stream",
     "text": [
      "For Sample ->>>> 2_022_12\n"
     ]
    },
    {
     "name": "stderr",
     "output_type": "stream",
     "text": [
      "\r",
      " 51%|█████     | 91/179 [01:30<01:43,  1.17s/it]"
     ]
    },
    {
     "name": "stdout",
     "output_type": "stream",
     "text": [
      "For Sample ->>>> 2_022_33\n"
     ]
    },
    {
     "name": "stderr",
     "output_type": "stream",
     "text": [
      "\r",
      " 51%|█████▏    | 92/179 [01:31<01:38,  1.13s/it]"
     ]
    },
    {
     "name": "stdout",
     "output_type": "stream",
     "text": [
      "For Sample ->>>> 2_036_8\n"
     ]
    },
    {
     "name": "stderr",
     "output_type": "stream",
     "text": [
      "\r",
      " 52%|█████▏    | 93/179 [01:33<01:57,  1.37s/it]"
     ]
    },
    {
     "name": "stdout",
     "output_type": "stream",
     "text": [
      "For Sample ->>>> 2_036_9\n"
     ]
    },
    {
     "name": "stderr",
     "output_type": "stream",
     "text": [
      "\r",
      " 53%|█████▎    | 94/179 [01:35<02:16,  1.60s/it]"
     ]
    },
    {
     "name": "stdout",
     "output_type": "stream",
     "text": [
      "For Sample ->>>> 2_036_14\n"
     ]
    },
    {
     "name": "stderr",
     "output_type": "stream",
     "text": [
      "\r",
      " 53%|█████▎    | 95/179 [01:38<02:30,  1.80s/it]"
     ]
    },
    {
     "name": "stdout",
     "output_type": "stream",
     "text": [
      "For Sample ->>>> 2_036_16\n"
     ]
    },
    {
     "name": "stderr",
     "output_type": "stream",
     "text": [
      "\r",
      " 54%|█████▎    | 96/179 [01:40<02:42,  1.96s/it]"
     ]
    },
    {
     "name": "stdout",
     "output_type": "stream",
     "text": [
      "For Sample ->>>> 2_036_22\n"
     ]
    },
    {
     "name": "stderr",
     "output_type": "stream",
     "text": [
      "\r",
      " 54%|█████▍    | 97/179 [01:42<02:43,  1.99s/it]"
     ]
    },
    {
     "name": "stdout",
     "output_type": "stream",
     "text": [
      "For Sample ->>>> 2_036_35\n"
     ]
    },
    {
     "name": "stderr",
     "output_type": "stream",
     "text": [
      "\r",
      " 55%|█████▍    | 98/179 [01:44<02:39,  1.96s/it]"
     ]
    },
    {
     "name": "stdout",
     "output_type": "stream",
     "text": [
      "For Sample ->>>> 2_038_12\n"
     ]
    },
    {
     "name": "stderr",
     "output_type": "stream",
     "text": [
      "\r",
      " 55%|█████▌    | 99/179 [01:45<02:12,  1.66s/it]"
     ]
    },
    {
     "name": "stdout",
     "output_type": "stream",
     "text": [
      "For Sample ->>>> 2_038_33\n"
     ]
    },
    {
     "name": "stderr",
     "output_type": "stream",
     "text": [
      "\r",
      " 56%|█████▌    | 100/179 [01:46<01:53,  1.44s/it]"
     ]
    },
    {
     "name": "stdout",
     "output_type": "stream",
     "text": [
      "For Sample ->>>> 2_042_2\n"
     ]
    },
    {
     "name": "stderr",
     "output_type": "stream",
     "text": [
      "\r",
      " 56%|█████▋    | 101/179 [01:47<01:54,  1.47s/it]"
     ]
    },
    {
     "name": "stdout",
     "output_type": "stream",
     "text": [
      "For Sample ->>>> 2_042_7\n"
     ]
    },
    {
     "name": "stderr",
     "output_type": "stream",
     "text": [
      "\r",
      " 57%|█████▋    | 102/179 [01:49<01:54,  1.49s/it]"
     ]
    },
    {
     "name": "stdout",
     "output_type": "stream",
     "text": [
      "For Sample ->>>> 2_042_13\n"
     ]
    },
    {
     "name": "stderr",
     "output_type": "stream",
     "text": [
      "\r",
      " 58%|█████▊    | 103/179 [01:50<01:53,  1.50s/it]"
     ]
    },
    {
     "name": "stdout",
     "output_type": "stream",
     "text": [
      "For Sample ->>>> 2_042_15\n"
     ]
    },
    {
     "name": "stderr",
     "output_type": "stream",
     "text": [
      "\r",
      " 58%|█████▊    | 104/179 [01:52<01:54,  1.53s/it]"
     ]
    },
    {
     "name": "stdout",
     "output_type": "stream",
     "text": [
      "For Sample ->>>> 2_044_8\n"
     ]
    },
    {
     "name": "stderr",
     "output_type": "stream",
     "text": [
      "\r",
      " 59%|█████▊    | 105/179 [01:54<02:01,  1.64s/it]"
     ]
    },
    {
     "name": "stdout",
     "output_type": "stream",
     "text": [
      "For Sample ->>>> 2_044_9\n"
     ]
    },
    {
     "name": "stderr",
     "output_type": "stream",
     "text": [
      "\r",
      " 59%|█████▉    | 106/179 [01:56<02:04,  1.70s/it]"
     ]
    },
    {
     "name": "stdout",
     "output_type": "stream",
     "text": [
      "For Sample ->>>> 2_044_14\n"
     ]
    },
    {
     "name": "stderr",
     "output_type": "stream",
     "text": [
      "\r",
      " 60%|█████▉    | 107/179 [01:59<02:42,  2.25s/it]"
     ]
    },
    {
     "name": "stdout",
     "output_type": "stream",
     "text": [
      "For Sample ->>>> 2_044_16\n"
     ]
    },
    {
     "name": "stderr",
     "output_type": "stream",
     "text": [
      "\r",
      " 60%|██████    | 108/179 [02:02<02:41,  2.28s/it]"
     ]
    },
    {
     "name": "stdout",
     "output_type": "stream",
     "text": [
      "For Sample ->>>> 2_044_22\n"
     ]
    },
    {
     "name": "stderr",
     "output_type": "stream",
     "text": [
      "\r",
      " 61%|██████    | 109/179 [02:04<02:41,  2.31s/it]"
     ]
    },
    {
     "name": "stdout",
     "output_type": "stream",
     "text": [
      "For Sample ->>>> 2_044_30\n"
     ]
    },
    {
     "name": "stderr",
     "output_type": "stream",
     "text": [
      "\r",
      " 61%|██████▏   | 110/179 [02:06<02:36,  2.27s/it]"
     ]
    },
    {
     "name": "stdout",
     "output_type": "stream",
     "text": [
      "For Sample ->>>> 2_052_12\n"
     ]
    },
    {
     "name": "stderr",
     "output_type": "stream",
     "text": [
      "\r",
      " 62%|██████▏   | 111/179 [02:08<02:20,  2.06s/it]"
     ]
    },
    {
     "name": "stdout",
     "output_type": "stream",
     "text": [
      "For Sample ->>>> 2_052_13\n"
     ]
    },
    {
     "name": "stderr",
     "output_type": "stream",
     "text": [
      "\r",
      " 63%|██████▎   | 112/179 [02:09<02:05,  1.87s/it]"
     ]
    },
    {
     "name": "stdout",
     "output_type": "stream",
     "text": [
      "For Sample ->>>> 2_056_27\n"
     ]
    },
    {
     "name": "stderr",
     "output_type": "stream",
     "text": [
      "\r",
      " 63%|██████▎   | 113/179 [02:10<01:46,  1.62s/it]"
     ]
    },
    {
     "name": "stdout",
     "output_type": "stream",
     "text": [
      "For Sample ->>>> 2_056_28\n"
     ]
    },
    {
     "name": "stderr",
     "output_type": "stream",
     "text": [
      "\r",
      " 64%|██████▎   | 114/179 [02:12<01:41,  1.57s/it]"
     ]
    },
    {
     "name": "stdout",
     "output_type": "stream",
     "text": [
      "For Sample ->>>> 2_057_27\n"
     ]
    },
    {
     "name": "stderr",
     "output_type": "stream",
     "text": [
      "\r",
      " 64%|██████▍   | 115/179 [02:13<01:38,  1.54s/it]"
     ]
    },
    {
     "name": "stdout",
     "output_type": "stream",
     "text": [
      "For Sample ->>>> 2_058_5\n"
     ]
    },
    {
     "name": "stderr",
     "output_type": "stream",
     "text": [
      "\r",
      " 65%|██████▍   | 116/179 [02:14<01:20,  1.28s/it]"
     ]
    },
    {
     "name": "stdout",
     "output_type": "stream",
     "text": [
      "For Sample ->>>> 2_059_5\n"
     ]
    },
    {
     "name": "stderr",
     "output_type": "stream",
     "text": [
      "\r",
      " 65%|██████▌   | 117/179 [02:15<01:13,  1.19s/it]"
     ]
    },
    {
     "name": "stdout",
     "output_type": "stream",
     "text": [
      "For Sample ->>>> 2_060_9\n"
     ]
    },
    {
     "name": "stderr",
     "output_type": "stream",
     "text": [
      "\r",
      " 66%|██████▌   | 118/179 [02:17<01:32,  1.51s/it]"
     ]
    },
    {
     "name": "stdout",
     "output_type": "stream",
     "text": [
      "For Sample ->>>> 2_060_14\n"
     ]
    },
    {
     "name": "stderr",
     "output_type": "stream",
     "text": [
      "\r",
      " 66%|██████▋   | 119/179 [02:19<01:47,  1.79s/it]"
     ]
    },
    {
     "name": "stdout",
     "output_type": "stream",
     "text": [
      "For Sample ->>>> 2_060_22\n"
     ]
    },
    {
     "name": "stderr",
     "output_type": "stream",
     "text": [
      "\r",
      " 67%|██████▋   | 120/179 [02:22<01:52,  1.90s/it]"
     ]
    },
    {
     "name": "stdout",
     "output_type": "stream",
     "text": [
      "For Sample ->>>> 2_060_35\n"
     ]
    },
    {
     "name": "stderr",
     "output_type": "stream",
     "text": [
      "\r",
      " 68%|██████▊   | 121/179 [02:24<02:00,  2.08s/it]"
     ]
    },
    {
     "name": "stdout",
     "output_type": "stream",
     "text": [
      "For Sample ->>>> 2_061_8\n"
     ]
    },
    {
     "name": "stderr",
     "output_type": "stream",
     "text": [
      "\r",
      " 68%|██████▊   | 122/179 [02:26<02:01,  2.14s/it]"
     ]
    },
    {
     "name": "stdout",
     "output_type": "stream",
     "text": [
      "For Sample ->>>> 2_061_9\n"
     ]
    },
    {
     "name": "stderr",
     "output_type": "stream",
     "text": [
      "\r",
      " 69%|██████▊   | 123/179 [02:29<02:01,  2.16s/it]"
     ]
    },
    {
     "name": "stdout",
     "output_type": "stream",
     "text": [
      "For Sample ->>>> 2_061_16\n"
     ]
    },
    {
     "name": "stderr",
     "output_type": "stream",
     "text": [
      "\r",
      " 69%|██████▉   | 124/179 [02:31<02:07,  2.33s/it]"
     ]
    },
    {
     "name": "stdout",
     "output_type": "stream",
     "text": [
      "For Sample ->>>> 2_061_22\n"
     ]
    },
    {
     "name": "stderr",
     "output_type": "stream",
     "text": [
      "\r",
      " 70%|██████▉   | 125/179 [02:34<02:07,  2.36s/it]"
     ]
    },
    {
     "name": "stdout",
     "output_type": "stream",
     "text": [
      "For Sample ->>>> 2_064_2\n"
     ]
    },
    {
     "name": "stderr",
     "output_type": "stream",
     "text": [
      "\r",
      " 70%|███████   | 126/179 [02:35<01:54,  2.16s/it]"
     ]
    },
    {
     "name": "stdout",
     "output_type": "stream",
     "text": [
      "For Sample ->>>> 2_064_31\n"
     ]
    },
    {
     "name": "stderr",
     "output_type": "stream",
     "text": [
      "\r",
      " 71%|███████   | 127/179 [02:37<01:44,  2.00s/it]"
     ]
    },
    {
     "name": "stdout",
     "output_type": "stream",
     "text": [
      "For Sample ->>>> 2_065_2\n"
     ]
    },
    {
     "name": "stderr",
     "output_type": "stream",
     "text": [
      "\r",
      " 72%|███████▏  | 128/179 [02:39<01:35,  1.88s/it]"
     ]
    },
    {
     "name": "stdout",
     "output_type": "stream",
     "text": [
      "For Sample ->>>> 2_065_31\n"
     ]
    },
    {
     "name": "stderr",
     "output_type": "stream",
     "text": [
      "\r",
      " 72%|███████▏  | 129/179 [02:40<01:32,  1.86s/it]"
     ]
    },
    {
     "name": "stdout",
     "output_type": "stream",
     "text": [
      "For Sample ->>>> 2_066_13\n"
     ]
    },
    {
     "name": "stderr",
     "output_type": "stream",
     "text": [
      "\r",
      " 73%|███████▎  | 130/179 [02:41<01:18,  1.59s/it]"
     ]
    },
    {
     "name": "stdout",
     "output_type": "stream",
     "text": [
      "For Sample ->>>> 2_067_13\n"
     ]
    },
    {
     "name": "stderr",
     "output_type": "stream",
     "text": [
      "\r",
      " 73%|███████▎  | 131/179 [02:42<01:07,  1.40s/it]"
     ]
    },
    {
     "name": "stdout",
     "output_type": "stream",
     "text": [
      "For Sample ->>>> 2_067_15\n"
     ]
    },
    {
     "name": "stderr",
     "output_type": "stream",
     "text": [
      "\r",
      " 74%|███████▎  | 132/179 [02:43<01:00,  1.29s/it]"
     ]
    },
    {
     "name": "stdout",
     "output_type": "stream",
     "text": [
      "For Sample ->>>> 2_069_27\n"
     ]
    },
    {
     "name": "stderr",
     "output_type": "stream",
     "text": [
      "\r",
      " 74%|███████▍  | 133/179 [02:44<00:52,  1.13s/it]"
     ]
    },
    {
     "name": "stdout",
     "output_type": "stream",
     "text": [
      "For Sample ->>>> 2_069_28\n"
     ]
    },
    {
     "name": "stderr",
     "output_type": "stream",
     "text": [
      "\r",
      " 75%|███████▍  | 134/179 [02:45<00:44,  1.01it/s]"
     ]
    },
    {
     "name": "stdout",
     "output_type": "stream",
     "text": [
      "For Sample ->>>> 3_006_4\n"
     ]
    },
    {
     "name": "stderr",
     "output_type": "stream",
     "text": [
      "\r",
      " 75%|███████▌  | 135/179 [02:46<00:49,  1.12s/it]"
     ]
    },
    {
     "name": "stdout",
     "output_type": "stream",
     "text": [
      "For Sample ->>>> 3_006_9\n"
     ]
    },
    {
     "name": "stderr",
     "output_type": "stream",
     "text": [
      "\r",
      " 76%|███████▌  | 136/179 [02:48<00:54,  1.27s/it]"
     ]
    },
    {
     "name": "stdout",
     "output_type": "stream",
     "text": [
      "For Sample ->>>> 3_006_20\n"
     ]
    },
    {
     "name": "stderr",
     "output_type": "stream",
     "text": [
      "\r",
      " 77%|███████▋  | 137/179 [02:49<00:55,  1.31s/it]"
     ]
    },
    {
     "name": "stdout",
     "output_type": "stream",
     "text": [
      "For Sample ->>>> 3_006_23\n"
     ]
    },
    {
     "name": "stderr",
     "output_type": "stream",
     "text": [
      "\r",
      " 77%|███████▋  | 138/179 [02:51<00:54,  1.33s/it]"
     ]
    },
    {
     "name": "stdout",
     "output_type": "stream",
     "text": [
      "For Sample ->>>> 3_007_11\n"
     ]
    },
    {
     "name": "stderr",
     "output_type": "stream",
     "text": [
      "\r",
      " 78%|███████▊  | 139/179 [02:52<00:49,  1.25s/it]"
     ]
    },
    {
     "name": "stdout",
     "output_type": "stream",
     "text": [
      "For Sample ->>>> 3_007_12\n"
     ]
    },
    {
     "name": "stderr",
     "output_type": "stream",
     "text": [
      "\r",
      " 78%|███████▊  | 140/179 [02:53<00:46,  1.19s/it]"
     ]
    },
    {
     "name": "stdout",
     "output_type": "stream",
     "text": [
      "For Sample ->>>> 3_007_15\n"
     ]
    },
    {
     "name": "stderr",
     "output_type": "stream",
     "text": [
      "\r",
      " 79%|███████▉  | 141/179 [02:54<00:42,  1.12s/it]"
     ]
    },
    {
     "name": "stdout",
     "output_type": "stream",
     "text": [
      "For Sample ->>>> 3_012_14\n"
     ]
    },
    {
     "name": "stderr",
     "output_type": "stream",
     "text": [
      "\r",
      " 79%|███████▉  | 142/179 [02:55<00:42,  1.16s/it]"
     ]
    },
    {
     "name": "stdout",
     "output_type": "stream",
     "text": [
      "For Sample ->>>> 3_012_25\n"
     ]
    },
    {
     "name": "stderr",
     "output_type": "stream",
     "text": [
      "\r",
      " 80%|███████▉  | 143/179 [02:56<00:43,  1.20s/it]"
     ]
    },
    {
     "name": "stdout",
     "output_type": "stream",
     "text": [
      "For Sample ->>>> 3_021_20\n"
     ]
    },
    {
     "name": "stderr",
     "output_type": "stream",
     "text": [
      "\r",
      " 80%|████████  | 144/179 [02:57<00:41,  1.18s/it]"
     ]
    },
    {
     "name": "stdout",
     "output_type": "stream",
     "text": [
      "For Sample ->>>> 3_021_23\n"
     ]
    },
    {
     "name": "stderr",
     "output_type": "stream",
     "text": [
      "\r",
      " 81%|████████  | 145/179 [02:59<00:44,  1.30s/it]"
     ]
    },
    {
     "name": "stdout",
     "output_type": "stream",
     "text": [
      "For Sample ->>>> 3_029_9\n"
     ]
    },
    {
     "name": "stderr",
     "output_type": "stream",
     "text": [
      "\r",
      " 82%|████████▏ | 146/179 [03:00<00:43,  1.32s/it]"
     ]
    },
    {
     "name": "stdout",
     "output_type": "stream",
     "text": [
      "For Sample ->>>> 3_029_20\n"
     ]
    },
    {
     "name": "stderr",
     "output_type": "stream",
     "text": [
      "\r",
      " 82%|████████▏ | 147/179 [03:02<00:42,  1.33s/it]"
     ]
    },
    {
     "name": "stdout",
     "output_type": "stream",
     "text": [
      "For Sample ->>>> 3_029_23\n"
     ]
    },
    {
     "name": "stderr",
     "output_type": "stream",
     "text": [
      "\r",
      " 83%|████████▎ | 148/179 [03:03<00:41,  1.33s/it]"
     ]
    },
    {
     "name": "stdout",
     "output_type": "stream",
     "text": [
      "For Sample ->>>> 3_031_4\n"
     ]
    },
    {
     "name": "stderr",
     "output_type": "stream",
     "text": [
      "\r",
      " 83%|████████▎ | 149/179 [03:04<00:39,  1.31s/it]"
     ]
    },
    {
     "name": "stdout",
     "output_type": "stream",
     "text": [
      "For Sample ->>>> 3_031_20\n"
     ]
    },
    {
     "name": "stderr",
     "output_type": "stream",
     "text": [
      "\r",
      " 84%|████████▍ | 150/179 [03:06<00:38,  1.34s/it]"
     ]
    },
    {
     "name": "stdout",
     "output_type": "stream",
     "text": [
      "For Sample ->>>> 3_031_23\n"
     ]
    },
    {
     "name": "stderr",
     "output_type": "stream",
     "text": [
      "\r",
      " 84%|████████▍ | 151/179 [03:07<00:36,  1.29s/it]"
     ]
    },
    {
     "name": "stdout",
     "output_type": "stream",
     "text": [
      "For Sample ->>>> 3_033_31\n"
     ]
    },
    {
     "name": "stderr",
     "output_type": "stream",
     "text": [
      "\r",
      " 85%|████████▍ | 152/179 [03:08<00:34,  1.27s/it]"
     ]
    },
    {
     "name": "stdout",
     "output_type": "stream",
     "text": [
      "For Sample ->>>> 3_035_4\n"
     ]
    },
    {
     "name": "stderr",
     "output_type": "stream",
     "text": [
      "\r",
      " 85%|████████▌ | 153/179 [03:09<00:33,  1.31s/it]"
     ]
    },
    {
     "name": "stdout",
     "output_type": "stream",
     "text": [
      "For Sample ->>>> 3_035_9\n"
     ]
    },
    {
     "name": "stderr",
     "output_type": "stream",
     "text": [
      "\r",
      " 86%|████████▌ | 154/179 [03:11<00:34,  1.40s/it]"
     ]
    },
    {
     "name": "stdout",
     "output_type": "stream",
     "text": [
      "For Sample ->>>> 3_035_20\n"
     ]
    },
    {
     "name": "stderr",
     "output_type": "stream",
     "text": [
      "\r",
      " 87%|████████▋ | 155/179 [03:13<00:36,  1.51s/it]"
     ]
    },
    {
     "name": "stdout",
     "output_type": "stream",
     "text": [
      "For Sample ->>>> 3_035_23\n"
     ]
    },
    {
     "name": "stderr",
     "output_type": "stream",
     "text": [
      "\r",
      " 87%|████████▋ | 156/179 [03:14<00:34,  1.51s/it]"
     ]
    },
    {
     "name": "stdout",
     "output_type": "stream",
     "text": [
      "For Sample ->>>> 3_037_4\n"
     ]
    },
    {
     "name": "stderr",
     "output_type": "stream",
     "text": [
      "\r",
      " 88%|████████▊ | 157/179 [03:15<00:30,  1.37s/it]"
     ]
    },
    {
     "name": "stdout",
     "output_type": "stream",
     "text": [
      "For Sample ->>>> 3_037_20\n"
     ]
    },
    {
     "name": "stderr",
     "output_type": "stream",
     "text": [
      "\r",
      " 88%|████████▊ | 158/179 [03:16<00:26,  1.26s/it]"
     ]
    },
    {
     "name": "stdout",
     "output_type": "stream",
     "text": [
      "For Sample ->>>> 3_037_23\n"
     ]
    },
    {
     "name": "stderr",
     "output_type": "stream",
     "text": [
      "\r",
      " 89%|████████▉ | 159/179 [03:17<00:23,  1.19s/it]"
     ]
    },
    {
     "name": "stdout",
     "output_type": "stream",
     "text": [
      "For Sample ->>>> 3_041_4\n"
     ]
    },
    {
     "name": "stderr",
     "output_type": "stream",
     "text": [
      "\r",
      " 89%|████████▉ | 160/179 [03:19<00:23,  1.24s/it]"
     ]
    },
    {
     "name": "stdout",
     "output_type": "stream",
     "text": [
      "For Sample ->>>> 3_041_9\n"
     ]
    },
    {
     "name": "stderr",
     "output_type": "stream",
     "text": [
      "\r",
      " 90%|████████▉ | 161/179 [03:20<00:23,  1.29s/it]"
     ]
    },
    {
     "name": "stdout",
     "output_type": "stream",
     "text": [
      "For Sample ->>>> 3_041_20\n"
     ]
    },
    {
     "name": "stderr",
     "output_type": "stream",
     "text": [
      "\r",
      " 91%|█████████ | 162/179 [03:22<00:22,  1.30s/it]"
     ]
    },
    {
     "name": "stdout",
     "output_type": "stream",
     "text": [
      "For Sample ->>>> 3_041_23\n"
     ]
    },
    {
     "name": "stderr",
     "output_type": "stream",
     "text": [
      "\r",
      " 91%|█████████ | 163/179 [03:23<00:21,  1.32s/it]"
     ]
    },
    {
     "name": "stdout",
     "output_type": "stream",
     "text": [
      "For Sample ->>>> 3_048_7\n"
     ]
    },
    {
     "name": "stderr",
     "output_type": "stream",
     "text": [
      "\r",
      " 92%|█████████▏| 164/179 [03:24<00:16,  1.13s/it]"
     ]
    },
    {
     "name": "stdout",
     "output_type": "stream",
     "text": [
      "For Sample ->>>> 3_048_24\n"
     ]
    },
    {
     "name": "stderr",
     "output_type": "stream",
     "text": [
      "\r",
      " 92%|█████████▏| 165/179 [03:24<00:13,  1.00it/s]"
     ]
    },
    {
     "name": "stdout",
     "output_type": "stream",
     "text": [
      "For Sample ->>>> 3_050_9\n"
     ]
    },
    {
     "name": "stderr",
     "output_type": "stream",
     "text": [
      "\r",
      " 93%|█████████▎| 166/179 [03:25<00:11,  1.10it/s]"
     ]
    },
    {
     "name": "stdout",
     "output_type": "stream",
     "text": [
      "For Sample ->>>> 3_050_20\n"
     ]
    },
    {
     "name": "stderr",
     "output_type": "stream",
     "text": [
      "\r",
      " 93%|█████████▎| 167/179 [03:26<00:10,  1.18it/s]"
     ]
    },
    {
     "name": "stdout",
     "output_type": "stream",
     "text": [
      "For Sample ->>>> 3_051_4\n"
     ]
    },
    {
     "name": "stderr",
     "output_type": "stream",
     "text": [
      "\r",
      " 94%|█████████▍| 168/179 [03:26<00:08,  1.24it/s]"
     ]
    },
    {
     "name": "stdout",
     "output_type": "stream",
     "text": [
      "For Sample ->>>> 3_051_23\n"
     ]
    },
    {
     "name": "stderr",
     "output_type": "stream",
     "text": [
      "\r",
      " 94%|█████████▍| 169/179 [03:27<00:07,  1.28it/s]"
     ]
    },
    {
     "name": "stdout",
     "output_type": "stream",
     "text": [
      "For Sample ->>>> 3_058_14\n"
     ]
    },
    {
     "name": "stderr",
     "output_type": "stream",
     "text": [
      "\r",
      " 95%|█████████▍| 170/179 [03:28<00:06,  1.29it/s]"
     ]
    },
    {
     "name": "stdout",
     "output_type": "stream",
     "text": [
      "For Sample ->>>> 3_058_25\n"
     ]
    },
    {
     "name": "stderr",
     "output_type": "stream",
     "text": [
      "\r",
      " 96%|█████████▌| 171/179 [03:29<00:06,  1.33it/s]"
     ]
    },
    {
     "name": "stdout",
     "output_type": "stream",
     "text": [
      "For Sample ->>>> 3_064_3\n"
     ]
    },
    {
     "name": "stderr",
     "output_type": "stream",
     "text": [
      "\r",
      " 96%|█████████▌| 172/179 [03:29<00:05,  1.36it/s]"
     ]
    },
    {
     "name": "stdout",
     "output_type": "stream",
     "text": [
      "For Sample ->>>> 3_064_29\n"
     ]
    },
    {
     "name": "stderr",
     "output_type": "stream",
     "text": [
      "\r",
      " 97%|█████████▋| 173/179 [03:30<00:04,  1.33it/s]"
     ]
    },
    {
     "name": "stdout",
     "output_type": "stream",
     "text": [
      "For Sample ->>>> 3_065_3\n"
     ]
    },
    {
     "name": "stderr",
     "output_type": "stream",
     "text": [
      "\r",
      " 97%|█████████▋| 174/179 [03:31<00:03,  1.35it/s]"
     ]
    },
    {
     "name": "stdout",
     "output_type": "stream",
     "text": [
      "For Sample ->>>> 3_065_29\n"
     ]
    },
    {
     "name": "stderr",
     "output_type": "stream",
     "text": [
      "\r",
      " 98%|█████████▊| 175/179 [03:31<00:02,  1.37it/s]"
     ]
    },
    {
     "name": "stdout",
     "output_type": "stream",
     "text": [
      "For Sample ->>>> 3_066_3\n"
     ]
    },
    {
     "name": "stderr",
     "output_type": "stream",
     "text": [
      "\r",
      " 98%|█████████▊| 176/179 [03:32<00:02,  1.38it/s]"
     ]
    },
    {
     "name": "stdout",
     "output_type": "stream",
     "text": [
      "For Sample ->>>> 3_066_29\n"
     ]
    },
    {
     "name": "stderr",
     "output_type": "stream",
     "text": [
      "\r",
      " 99%|█████████▉| 177/179 [03:33<00:01,  1.38it/s]"
     ]
    },
    {
     "name": "stdout",
     "output_type": "stream",
     "text": [
      "For Sample ->>>> 3_068_15\n"
     ]
    },
    {
     "name": "stderr",
     "output_type": "stream",
     "text": [
      "\r",
      " 99%|█████████▉| 178/179 [03:34<00:00,  1.37it/s]"
     ]
    },
    {
     "name": "stdout",
     "output_type": "stream",
     "text": [
      "For Sample ->>>> 3_069_15\n"
     ]
    },
    {
     "name": "stderr",
     "output_type": "stream",
     "text": [
      "100%|██████████| 179/179 [03:34<00:00,  1.20s/it]"
     ]
    },
    {
     "name": "stdout",
     "output_type": "stream",
     "text": [
      "Current Feature Set - (179, 892)\n",
      "Data-type of labels - <class 'list'>\n",
      "ConvQ Classes Distribution : (Total = 179)\n",
      "High Quality Conv = 163\n",
      "Low Quality Conv = 16\n"
     ]
    },
    {
     "name": "stderr",
     "output_type": "stream",
     "text": [
      "\n"
     ]
    }
   ],
   "source": [
    "# Data Read\n",
    "auc_experiment_dict={}\n",
    "X=[]\n",
    "feat_namer=[]\n",
    "for w, curr_dataset in enumerate(datasets):\n",
    "    \n",
    "    if \"tt\" in curr_dataset:\n",
    "        curr_X = tt_extractor.get_tt_dataset_feats_for(ids, tt_features, manifest)\n",
    "    else:\n",
    "        curr_X, y, ids = data_gen.get_dataset_for_experiment(dataset=curr_dataset,\n",
    "                                                            manifest=manifest,\n",
    "                                                            missing_data_thresh=missing_data_thresh,\n",
    "                                                            agreeability_thresh=agreeability_thresh,\n",
    "                                                            annotators=annotators,\n",
    "                                                            only_involved_pairs=only_involved_pairs,\n",
    "                                                            zero_mean=zero_mean)\n",
    "    \n",
    "    if len(X) == 0:\n",
    "        X=curr_X\n",
    "        feat_namer=dataset_feat[w]()\n",
    "    else:\n",
    "        X=np.concatenate((X, curr_X), axis=1) \n",
    "        feat_namer.extend(dataset_feat[w]())\n",
    "        \n",
    "    print(\"Current Feature Set - \" + str(X.shape))\n",
    "# Label Prep\n",
    "# Hard/Soft Labels\n",
    "y = process_convq_labels(y, label_type)\n",
    "\n",
    "features_df=pd.DataFrame(np.array(X), columns=feat_namer)"
   ]
  },
  {
   "cell_type": "code",
   "execution_count": 9,
   "metadata": {},
   "outputs": [
    {
     "name": "stdout",
     "output_type": "stream",
     "text": [
      "Number of Turn-Taking Features = 10\n",
      "Number of Synchrony Features = 588\n",
      "Number of Convergence Features = 168\n",
      "Number of Synchrony + Convergence Features = 756\n",
      "Number of Causality Features = 126\n",
      "Number of Coordination Features = 882\n",
      "Number of Fused Features = 892\n",
      "Number of Best 3 = 766\n",
      "8\n",
      "8\n"
     ]
    }
   ],
   "source": [
    "# TT Gather\n",
    "tt_feats=[]\n",
    "for f in feat_namer:\n",
    "    if \"tt-\" in f or \"#un_interupt\" in f:\n",
    "        tt_feats.extend([f])\n",
    "\n",
    "# Sync Gather\n",
    "sync_feats=[]\n",
    "for f in feat_namer:\n",
    "    if \"corr-\" in f or \"mi-\" in f or \"mimicry-\" in f:\n",
    "        sync_feats.extend([f])\n",
    "\n",
    "# Conv Gather\n",
    "conv_feats=[]\n",
    "for f in feat_namer:\n",
    "    if \"conv-\" in f:\n",
    "        conv_feats.extend([f])\n",
    "\n",
    "#Sync + Conv\n",
    "sync_conv_feats=list(sync_feats)\n",
    "sync_conv_feats.extend(conv_feats)\n",
    "        \n",
    "# Caus Gather\n",
    "caus_feats=[]\n",
    "for f in feat_namer:\n",
    "    if \"granger-\" in f or \"coherence-\" in f:\n",
    "        caus_feats.extend([f])\n",
    "        \n",
    "# ALL-Sync Gather\n",
    "all_sync_feats=list(sync_feats)\n",
    "all_sync_feats.extend(conv_feats)\n",
    "all_sync_feats.extend(caus_feats)\n",
    "\n",
    "# Fuse Gather\n",
    "fused_feats=list(all_sync_feats)\n",
    "fused_feats.extend(tt_feats)\n",
    "\n",
    "# TT + Sync + Conv Gather\n",
    "b3_feats=list(sync_feats)\n",
    "b3_feats.extend(conv_feats)\n",
    "b3_feats.extend(tt_feats)\n",
    " \n",
    "print(\"Number of Turn-Taking Features = \" + str(len(tt_feats)))\n",
    "print(\"Number of Synchrony Features = \" + str(len(sync_feats)))\n",
    "print(\"Number of Convergence Features = \" + str(len(conv_feats)))\n",
    "print(\"Number of Synchrony + Convergence Features = \" + str(len(sync_conv_feats)))\n",
    "\n",
    "print(\"Number of Causality Features = \" + str(len(caus_feats)))\n",
    "\n",
    "print(\"Number of Coordination Features = \" + str(len(all_sync_feats)))\n",
    "\n",
    "print(\"Number of Fused Features = \" + str(len(fused_feats)))\n",
    "print(\"Number of Best 3 = \" + str(len(b3_feats)))\n",
    "\n",
    "\n",
    "feat_stack=[tt_feats,\n",
    "            sync_feats,\n",
    "            conv_feats,\n",
    "            sync_conv_feats,\n",
    "            caus_feats,\n",
    "            all_sync_feats,\n",
    "            fused_feats,\n",
    "            b3_feats]\n",
    "\n",
    "print(len(feat_stack))\n",
    "print(len(experiments))"
   ]
  },
  {
   "cell_type": "code",
   "execution_count": 11,
   "metadata": {
    "scrolled": false
   },
   "outputs": [
    {
     "name": "stdout",
     "output_type": "stream",
     "text": [
      "\n",
      "\n",
      "~~ !! @@ @@ @@ @@ Current Feature-Set = Turn-Taking \n",
      " Features ~~ !! @@ @@ @@ @@\n",
      "After PCA Feature Set - (143, 6)\n",
      "After anova Feature Set - (143, 4)\n",
      "Train Data -> Features - (260, 4) and Labels - 260\n",
      "Test  Data -> Features - (36, 4) and Labels - 36\n",
      "130\n",
      "After PCA Feature Set - (143, 6)\n",
      "After anova Feature Set - (143, 4)\n",
      "Train Data -> Features - (260, 4) and Labels - 260\n",
      "Test  Data -> Features - (36, 4) and Labels - 36\n",
      "130\n",
      "After PCA Feature Set - (143, 7)\n",
      "After anova Feature Set - (143, 5)\n",
      "Train Data -> Features - (260, 5) and Labels - 260\n",
      "Test  Data -> Features - (36, 5) and Labels - 36\n",
      "130\n",
      "After PCA Feature Set - (143, 6)\n",
      "After anova Feature Set - (143, 4)\n",
      "Train Data -> Features - (262, 4) and Labels - 262\n",
      "Test  Data -> Features - (36, 4) and Labels - 36\n",
      "131\n",
      "After PCA Feature Set - (144, 6)\n",
      "After anova Feature Set - (144, 4)\n",
      "Train Data -> Features - (262, 4) and Labels - 262\n",
      "Test  Data -> Features - (35, 4) and Labels - 35\n",
      "131\n"
     ]
    },
    {
     "data": {
      "image/png": "[encoded data removed]",
      "text/plain": [
       "<Figure size 842.4x595.44 with 1 Axes>"
      ]
     },
     "metadata": {},
     "output_type": "display_data"
    },
    {
     "name": "stdout",
     "output_type": "stream",
     "text": [
      "[0.8282828282828283, 0.6060606060606061, 0.41414141414141425, 0.71875, 0.9583333333333334]\n",
      "~~~~~~~~~~~ Confusion Matrix ~~~~~~~~~~~\n",
      "[[  8   8]\n",
      " [ 41 122]]\n",
      "\n",
      "\n",
      "~~ !! @@ @@ @@ @@ Current Feature-Set = Synchrony \n",
      " Features ~~ !! @@ @@ @@ @@\n",
      "After PCA Feature Set - (143, 53)\n",
      "After anova Feature Set - (143, 15)\n",
      "Train Data -> Features - (260, 15) and Labels - 260\n",
      "Test  Data -> Features - (36, 15) and Labels - 36\n",
      "130\n",
      "After PCA Feature Set - (143, 52)\n",
      "After anova Feature Set - (143, 8)\n",
      "Train Data -> Features - (260, 8) and Labels - 260\n",
      "Test  Data -> Features - (36, 8) and Labels - 36\n",
      "130\n",
      "After PCA Feature Set - (143, 51)\n",
      "After anova Feature Set - (143, 9)\n",
      "Train Data -> Features - (260, 9) and Labels - 260\n",
      "Test  Data -> Features - (36, 9) and Labels - 36\n",
      "130\n",
      "After PCA Feature Set - (143, 52)\n",
      "After anova Feature Set - (143, 9)\n",
      "Train Data -> Features - (262, 9) and Labels - 262\n",
      "Test  Data -> Features - (36, 9) and Labels - 36\n",
      "131\n",
      "After PCA Feature Set - (144, 52)\n",
      "After anova Feature Set - (144, 17)\n",
      "Train Data -> Features - (262, 17) and Labels - 262\n",
      "Test  Data -> Features - (35, 17) and Labels - 35\n",
      "131\n"
     ]
    },
    {
     "data": {
      "image/png": "[encoded data removed]",
      "text/plain": [
       "<Figure size 842.4x595.44 with 1 Axes>"
      ]
     },
     "metadata": {},
     "output_type": "display_data"
    },
    {
     "name": "stdout",
     "output_type": "stream",
     "text": [
      "[0.7373737373737373, 0.6666666666666666, 0.5757575757575758, 0.8984375, 0.7187500000000001]\n",
      "~~~~~~~~~~~ Confusion Matrix ~~~~~~~~~~~\n",
      "[[ 10   6]\n",
      " [ 39 124]]\n",
      "\n",
      "\n",
      "~~ !! @@ @@ @@ @@ Current Feature-Set = Convergence \n",
      " Features ~~ !! @@ @@ @@ @@\n",
      "After PCA Feature Set - (143, 31)\n",
      "After anova Feature Set - (143, 8)\n",
      "Train Data -> Features - (260, 8) and Labels - 260\n",
      "Test  Data -> Features - (36, 8) and Labels - 36\n",
      "130\n",
      "After PCA Feature Set - (143, 33)\n",
      "After anova Feature Set - (143, 8)\n",
      "Train Data -> Features - (260, 8) and Labels - 260\n",
      "Test  Data -> Features - (36, 8) and Labels - 36\n",
      "130\n",
      "After PCA Feature Set - (143, 31)\n",
      "After anova Feature Set - (143, 9)\n",
      "Train Data -> Features - (260, 9) and Labels - 260\n",
      "Test  Data -> Features - (36, 9) and Labels - 36\n",
      "130\n",
      "After PCA Feature Set - (143, 31)\n",
      "After anova Feature Set - (143, 11)\n",
      "Train Data -> Features - (262, 11) and Labels - 262\n",
      "Test  Data -> Features - (36, 11) and Labels - 36\n",
      "131\n",
      "After PCA Feature Set - (144, 31)\n",
      "After anova Feature Set - (144, 7)\n",
      "Train Data -> Features - (262, 7) and Labels - 262\n",
      "Test  Data -> Features - (35, 7) and Labels - 35\n",
      "131\n"
     ]
    },
    {
     "data": {
      "image/png": "[encoded data removed]",
      "text/plain": [
       "<Figure size 842.4x595.44 with 1 Axes>"
      ]
     },
     "metadata": {},
     "output_type": "display_data"
    },
    {
     "name": "stdout",
     "output_type": "stream",
     "text": [
      "[0.6262626262626264, 0.7777777777777778, 0.6161616161616162, 0.9140625, 0.8125]\n",
      "~~~~~~~~~~~ Confusion Matrix ~~~~~~~~~~~\n",
      "[[ 10   6]\n",
      " [ 48 115]]\n",
      "\n",
      "\n",
      "~~ !! @@ @@ @@ @@ Current Feature-Set = Synchrony + \n",
      " Convergence ~~ !! @@ @@ @@ @@\n",
      "After PCA Feature Set - (143, 63)\n",
      "After anova Feature Set - (143, 37)\n",
      "Train Data -> Features - (260, 37) and Labels - 260\n",
      "Test  Data -> Features - (36, 37) and Labels - 36\n",
      "130\n",
      "After PCA Feature Set - (143, 64)\n",
      "After anova Feature Set - (143, 39)\n",
      "Train Data -> Features - (260, 39) and Labels - 260\n",
      "Test  Data -> Features - (36, 39) and Labels - 36\n",
      "130\n",
      "After PCA Feature Set - (143, 62)\n",
      "After anova Feature Set - (143, 37)\n",
      "Train Data -> Features - (260, 37) and Labels - 260\n",
      "Test  Data -> Features - (36, 37) and Labels - 36\n",
      "130\n",
      "After PCA Feature Set - (143, 63)\n",
      "After anova Feature Set - (143, 35)\n",
      "Train Data -> Features - (262, 35) and Labels - 262\n",
      "Test  Data -> Features - (36, 35) and Labels - 36\n",
      "131\n",
      "After PCA Feature Set - (144, 63)\n",
      "After anova Feature Set - (144, 42)\n",
      "Train Data -> Features - (262, 42) and Labels - 262\n",
      "Test  Data -> Features - (35, 42) and Labels - 35\n",
      "131\n"
     ]
    },
    {
     "data": {
      "image/png": "[encoded data removed]",
      "text/plain": [
       "<Figure size 842.4x595.44 with 1 Axes>"
      ]
     },
     "metadata": {},
     "output_type": "display_data"
    },
    {
     "name": "stdout",
     "output_type": "stream",
     "text": [
      "[0.6161616161616161, 0.7070707070707072, 0.5656565656565656, 0.953125, 0.8541666666666666]\n",
      "~~~~~~~~~~~ Confusion Matrix ~~~~~~~~~~~\n",
      "[[  8   8]\n",
      " [ 29 134]]\n",
      "\n",
      "\n",
      "~~ !! @@ @@ @@ @@ Current Feature-Set = Causality \n",
      " Features ~~ !! @@ @@ @@ @@\n",
      "After PCA Feature Set - (143, 29)\n",
      "After anova Feature Set - (143, 7)\n",
      "Train Data -> Features - (260, 7) and Labels - 260\n",
      "Test  Data -> Features - (36, 7) and Labels - 36\n",
      "130\n",
      "After PCA Feature Set - (143, 28)\n",
      "After anova Feature Set - (143, 9)\n",
      "Train Data -> Features - (260, 9) and Labels - 260\n",
      "Test  Data -> Features - (36, 9) and Labels - 36\n",
      "130\n",
      "After PCA Feature Set - (143, 28)\n",
      "After anova Feature Set - (143, 8)\n",
      "Train Data -> Features - (260, 8) and Labels - 260\n",
      "Test  Data -> Features - (36, 8) and Labels - 36\n",
      "130\n",
      "After PCA Feature Set - (143, 28)\n",
      "After anova Feature Set - (143, 11)\n",
      "Train Data -> Features - (262, 11) and Labels - 262\n",
      "Test  Data -> Features - (36, 11) and Labels - 36\n",
      "131\n",
      "After PCA Feature Set - (144, 28)\n",
      "After anova Feature Set - (144, 6)\n",
      "Train Data -> Features - (262, 6) and Labels - 262\n",
      "Test  Data -> Features - (35, 6) and Labels - 35\n",
      "131\n"
     ]
    },
    {
     "data": {
      "image/png": "[encoded data removed]",
      "text/plain": [
       "<Figure size 842.4x595.44 with 1 Axes>"
      ]
     },
     "metadata": {},
     "output_type": "display_data"
    },
    {
     "name": "stdout",
     "output_type": "stream",
     "text": [
      "[0.33333333333333337, 0.16161616161616163, 0.6262626262626263, 0.359375, 0.46875]\n",
      "~~~~~~~~~~~ Confusion Matrix ~~~~~~~~~~~\n",
      "[[ 5 11]\n",
      " [68 95]]\n",
      "\n",
      "\n",
      "~~ !! @@ @@ @@ @@ Current Feature-Set = Synchrony + \n",
      " Convergence + \n",
      " Causality \n",
      " (Body Coordination) ~~ !! @@ @@ @@ @@\n",
      "After PCA Feature Set - (143, 70)\n",
      "After anova Feature Set - (143, 8)\n",
      "Train Data -> Features - (260, 8) and Labels - 260\n",
      "Test  Data -> Features - (36, 8) and Labels - 36\n",
      "130\n",
      "After PCA Feature Set - (143, 70)\n",
      "After anova Feature Set - (143, 19)\n",
      "Train Data -> Features - (260, 19) and Labels - 260\n",
      "Test  Data -> Features - (36, 19) and Labels - 36\n",
      "130\n",
      "After PCA Feature Set - (143, 69)\n",
      "After anova Feature Set - (143, 16)\n",
      "Train Data -> Features - (260, 16) and Labels - 260\n",
      "Test  Data -> Features - (36, 16) and Labels - 36\n",
      "130\n",
      "After PCA Feature Set - (143, 70)\n",
      "After anova Feature Set - (143, 14)\n",
      "Train Data -> Features - (262, 14) and Labels - 262\n",
      "Test  Data -> Features - (36, 14) and Labels - 36\n",
      "131\n",
      "After PCA Feature Set - (144, 70)\n",
      "After anova Feature Set - (144, 13)\n",
      "Train Data -> Features - (262, 13) and Labels - 262\n",
      "Test  Data -> Features - (35, 13) and Labels - 35\n",
      "131\n"
     ]
    },
    {
     "data": {
      "image/png": "[encoded data removed]",
      "text/plain": [
       "<Figure size 842.4x595.44 with 1 Axes>"
      ]
     },
     "metadata": {},
     "output_type": "display_data"
    },
    {
     "name": "stdout",
     "output_type": "stream",
     "text": [
      "[0.6666666666666666, 0.48484848484848486, 0.4747474747474747, 0.578125, 0.7187500000000001]\n",
      "~~~~~~~~~~~ Confusion Matrix ~~~~~~~~~~~\n",
      "[[  5  11]\n",
      " [ 32 131]]\n",
      "\n",
      "\n",
      "~~ !! @@ @@ @@ @@ Current Feature-Set = Turn-Taking + \n",
      " Body Coordination ~~ !! @@ @@ @@ @@\n",
      "After PCA Feature Set - (143, 71)\n",
      "After anova Feature Set - (143, 17)\n",
      "Train Data -> Features - (260, 17) and Labels - 260\n",
      "Test  Data -> Features - (36, 17) and Labels - 36\n",
      "130\n",
      "After PCA Feature Set - (143, 71)\n",
      "After anova Feature Set - (143, 16)\n",
      "Train Data -> Features - (260, 16) and Labels - 260\n",
      "Test  Data -> Features - (36, 16) and Labels - 36\n",
      "130\n",
      "After PCA Feature Set - (143, 71)\n",
      "After anova Feature Set - (143, 22)\n",
      "Train Data -> Features - (260, 22) and Labels - 260\n",
      "Test  Data -> Features - (36, 22) and Labels - 36\n",
      "130\n",
      "After PCA Feature Set - (143, 71)\n",
      "After anova Feature Set - (143, 16)\n",
      "Train Data -> Features - (262, 16) and Labels - 262\n",
      "Test  Data -> Features - (36, 16) and Labels - 36\n",
      "131\n",
      "After PCA Feature Set - (144, 71)\n",
      "After anova Feature Set - (144, 12)\n",
      "Train Data -> Features - (262, 12) and Labels - 262\n",
      "Test  Data -> Features - (35, 12) and Labels - 35\n",
      "131\n"
     ]
    },
    {
     "data": {
      "image/png": "[encoded data removed]",
      "text/plain": [
       "<Figure size 842.4x595.44 with 1 Axes>"
      ]
     },
     "metadata": {},
     "output_type": "display_data"
    },
    {
     "name": "stdout",
     "output_type": "stream",
     "text": [
      "[0.8383838383838382, 0.7575757575757576, 0.4444444444444444, 0.65625, 0.6979166666666667]\n",
      "~~~~~~~~~~~ Confusion Matrix ~~~~~~~~~~~\n",
      "[[  5  11]\n",
      " [ 26 137]]\n",
      "\n",
      "\n",
      "~~ !! @@ @@ @@ @@ Current Feature-Set = Turn-Taking + \n",
      " Synchrony + \n",
      " Convergence ~~ !! @@ @@ @@ @@\n",
      "After PCA Feature Set - (143, 64)\n",
      "After anova Feature Set - (143, 15)\n",
      "Train Data -> Features - (260, 15) and Labels - 260\n",
      "Test  Data -> Features - (36, 15) and Labels - 36\n",
      "130\n",
      "After PCA Feature Set - (143, 65)\n",
      "After anova Feature Set - (143, 15)\n",
      "Train Data -> Features - (260, 15) and Labels - 260\n",
      "Test  Data -> Features - (36, 15) and Labels - 36\n",
      "130\n",
      "After PCA Feature Set - (143, 64)\n",
      "After anova Feature Set - (143, 12)\n",
      "Train Data -> Features - (260, 12) and Labels - 260\n",
      "Test  Data -> Features - (36, 12) and Labels - 36\n",
      "130\n",
      "After PCA Feature Set - (143, 64)\n",
      "After anova Feature Set - (143, 15)\n",
      "Train Data -> Features - (262, 15) and Labels - 262\n",
      "Test  Data -> Features - (36, 15) and Labels - 36\n",
      "131\n",
      "After PCA Feature Set - (144, 64)\n",
      "After anova Feature Set - (144, 13)\n",
      "Train Data -> Features - (262, 13) and Labels - 262\n",
      "Test  Data -> Features - (35, 13) and Labels - 35\n",
      "131\n"
     ]
    },
    {
     "data": {
      "image/png": "[encoded data removed]",
      "text/plain": [
       "<Figure size 842.4x595.44 with 1 Axes>"
      ]
     },
     "metadata": {},
     "output_type": "display_data"
    },
    {
     "name": "stdout",
     "output_type": "stream",
     "text": [
      "[0.7777777777777778, 0.6060606060606061, 0.4444444444444445, 0.96875, 0.9166666666666667]\n",
      "~~~~~~~~~~~ Confusion Matrix ~~~~~~~~~~~\n",
      "[[ 10   6]\n",
      " [ 34 129]]\n"
     ]
    }
   ],
   "source": [
    "feat_sel_threshold=[0.5, 3, 3, 0.5, 3, 3, 3, 3]\n",
    "auc_experiment_dict={}\n",
    "\n",
    "for f, curr_stack in enumerate(feat_stack):\n",
    "#     print(features_df)\n",
    "    experiment_feats=curr_stack\n",
    "    \n",
    "    print()\n",
    "    print()\n",
    "    print(\"~~ !! @@ @@ @@ @@ Current Feature-Set = \" + str(experiments[f]) + \" ~~ !! @@ @@ @@ @@\")\n",
    "\n",
    "    final_conf_matrix = [[0,0],[0,0]]\n",
    "    final_auc_score = 0.0\n",
    "    final_r_squared = 0.0\n",
    "    final_expl_vari = 0.0\n",
    "    iterative_auc = 0.0\n",
    "    final_predict = []\n",
    "    final_pred_prob = []\n",
    "    final_label = []\n",
    "    cv_auc_scores = []\n",
    "\n",
    "\n",
    "    tprs = []\n",
    "    aucs = []\n",
    "    mean_fpr = np.linspace(0, 1, 100)\n",
    "\n",
    "    fig, ax = plt.subplots()\n",
    "\n",
    "    # Setup Features \n",
    "    X=features_df.loc[:,experiment_feats].values\n",
    "    \n",
    "    skf = StratifiedKFold(n_splits=5)\n",
    "    for i, (train_index, test_index) in enumerate(skf.split(X, y)):\n",
    "\n",
    "        # Data Prep\n",
    "        train_X, test_X  = X[train_index], X[test_index]\n",
    "        train_y, test_y  = [y[i] for i in train_index], [y[i] for i in test_index]\n",
    "\n",
    "        # Transform Features\n",
    "        normaliser = feature_normalize(train_X, method=\"mean-var\")\n",
    "        # Apply transform to both the training set and the test set.\n",
    "        train_X = normaliser.transform(train_X)\n",
    "        test_X  = normaliser.transform(test_X)\n",
    "\n",
    "        # Dimensionality Reduction\n",
    "        dimension_model = dimension_reduction(train_X, method=\"pca\")\n",
    "        train_X = dimension_model.transform(train_X)\n",
    "        test_X  = dimension_model.transform(test_X)\n",
    "\n",
    "        print(\"After \" + \"PCA\" + \" Feature Set - \" + str(train_X.shape))\n",
    "\n",
    "        # Feature Selection\n",
    "        top_features = feature_selection(train_X, train_y, method=feat_sel, num_feats=feat_sel_threshold[f])\n",
    "        train_X = select_required_features(train_X, top_features) \n",
    "        test_X  = select_required_features(test_X, top_features) \n",
    "\n",
    "        print(\"After \" + feat_sel + \" Feature Set - \" + str(train_X.shape))\n",
    "\n",
    "\n",
    "        # SAMPLING\n",
    "        train_X, train_y = over_sample_data(train_X, train_y, method=\"SMOTE\", k_neighbors=smote_nn)\n",
    "\n",
    "        print(\"Train Data -> Features - \" + str(train_X.shape) + \" and Labels - \" + str(len(train_y)))\n",
    "        print(\"Test  Data -> Features - \" + str(test_X.shape) + \" and Labels - \" + str(len(test_y)))\n",
    "        print(str(sum(train_y))) \n",
    "\n",
    "        # Modelling\n",
    "        classifier         = model_convq_manifestation(train_X, train_y, model_type, fit=True)        \n",
    "        predict_y          = test_model(test_X, classifier) \n",
    "\n",
    "\n",
    "        final_conf_matrix = final_conf_matrix + evaluate_predict(test_y, predict_y, confusion_matrix)\n",
    "\n",
    "        # CV ROC Plot\n",
    "        viz = plot_roc_curve(classifier, test_X, test_y,\n",
    "                         name='ROC fold {}'.format(i+1),\n",
    "                         alpha=0.3, lw=2, linestyle='--', color='b', ax=ax)\n",
    "        interp_tpr = np.interp(mean_fpr, viz.fpr, viz.tpr)\n",
    "        interp_tpr[0] = 0.0\n",
    "        tprs.append(interp_tpr)\n",
    "        aucs.append(viz.roc_auc)\n",
    "\n",
    "    ax.plot([0, 1], [0, 1], linestyle='--', lw=2, color='r',\n",
    "            label='Chance', alpha=.8)\n",
    "\n",
    "    mean_tpr = np.mean(tprs, axis=0)\n",
    "    mean_tpr[-1] = 1.0\n",
    "    mean_auc = auc(mean_fpr, mean_tpr)\n",
    "    std_auc = np.std(aucs)\n",
    "    ax.plot(mean_fpr, mean_tpr, color='cornflowerblue',\n",
    "            label=r'Mean ROC (AUC = %0.2f $\\pm$ %0.2f)' % (mean_auc, std_auc),\n",
    "            lw=4, alpha=1.0)\n",
    "\n",
    "    std_tpr = np.std(tprs, axis=0)\n",
    "    tprs_upper = np.minimum(mean_tpr + std_tpr, 1)\n",
    "    tprs_lower = np.maximum(mean_tpr - std_tpr, 0)\n",
    "    ax.fill_between(mean_fpr, tprs_lower, tprs_upper, color='grey', alpha=.1,\n",
    "                    label=r'$\\pm$ 1 std. dev.')\n",
    "\n",
    "    ax.set(xlim=[-0.05, 1.05], ylim=[-0.05, 1.05],\n",
    "           title=\"Receiver Operating Characteristic\")\n",
    "    ax.legend(loc=\"lower right\")\n",
    "    \n",
    "    plt.ylabel('True Positive Rate', fontsize=20)\n",
    "    plt.xlabel('False Positive Rate', fontsize=20)\n",
    "    plt.tick_params(labelsize=15)\n",
    "    \n",
    "    plt.show()\n",
    "\n",
    "    print(aucs)\n",
    "    auc_experiment_dict[experiments[f]]=aucs\n",
    "    print(\"~~~~~~~~~~~ Confusion Matrix ~~~~~~~~~~~\")\n",
    "    print(final_conf_matrix)"
   ]
  },
  {
   "cell_type": "code",
   "execution_count": 12,
   "metadata": {},
   "outputs": [
    {
     "name": "stdout",
     "output_type": "stream",
     "text": [
      "8\n",
      "8\n"
     ]
    }
   ],
   "source": [
    "all_values=[]\n",
    "all_keys=[]\n",
    "print(len(auc_experiment_dict.keys()))\n",
    "print(len(experiments))\n",
    "for i, k in enumerate(auc_experiment_dict.keys()):\n",
    "    val=auc_experiment_dict[k]\n",
    "#     if i !=0:\n",
    "#         val=[x+.1 for x in val]\n",
    "    all_values.extend(val)\n",
    "    text=experiments[i]\n",
    "\n",
    "    all_keys.extend([text] * 5)\n",
    "\n",
    "experiment_results=pd.DataFrame(\n",
    "    {'values': all_values,\n",
    "     'type': all_keys\n",
    "    })"
   ]
  },
  {
   "cell_type": "code",
   "execution_count": 17,
   "metadata": {},
   "outputs": [
    {
     "data": {
      "image/png": "[encoded data removed]",
      "text/plain": [
       "<Figure size 842.4x595.44 with 1 Axes>"
      ]
     },
     "metadata": {},
     "output_type": "display_data"
    }
   ],
   "source": [
    "ax = sns.boxplot(x=\"type\", y=\"values\", data=experiment_results, palette=sns.light_palette(\"cornflowerblue\", reverse=True, n_colors=12))\n",
    "\n",
    "plt.ylabel('AUC Distrbution \\n (5 Fold Cross-Validation)', fontsize=20)\n",
    "plt.xlabel('Feature Set Type', fontsize=20)\n",
    "plt.tick_params(labelsize=12)\n",
    "\n",
    "# ax.plot(y=0.5, linestyle='--', lw=2, color='r', label='Chance', alpha=.8)\n",
    "\n",
    "plt.axhline(0.5, linestyle='--', lw=2, color='r', label='Chance', alpha=.8)\n",
    "\n",
    "# Might need to loop through the list if there are multiple lines on the plot\n",
    "# ax.lines[0].set_linestyle(\"--\")\n",
    "# plt.plot(0.5)\n",
    "plt.legend(loc=\"lower right\")\n",
    "\n",
    "\n",
    "plt.show()"
   ]
  },
  {
   "cell_type": "code",
   "execution_count": null,
   "metadata": {},
   "outputs": [],
   "source": []
  },
  {
   "cell_type": "code",
   "execution_count": null,
   "metadata": {},
   "outputs": [],
   "source": []
  }
 ],
 "metadata": {
  "kernelspec": {
   "display_name": "Python 3",
   "language": "python",
   "name": "python3"
  },
  "language_info": {
   "codemirror_mode": {
    "name": "ipython",
    "version": 3
   },
   "file_extension": ".py",
   "mimetype": "text/x-python",
   "name": "python",
   "nbconvert_exporter": "python",
   "pygments_lexer": "ipython3",
   "version": "3.7.5"
  }
 },
 "nbformat": 4,
 "nbformat_minor": 2
}
