{
 "cells": [
  {
   "cell_type": "code",
   "execution_count": 1,
   "metadata": {},
   "outputs": [],
   "source": [
    "import sys  \n",
    "sys.path.insert(0, '/Users/navinlr/Desktop/Thesis/code_base/conversation_quality')"
   ]
  },
  {
   "cell_type": "code",
   "execution_count": 2,
   "metadata": {},
   "outputs": [
    {
     "name": "stdout",
     "output_type": "stream",
     "text": [
      "Total Groups = 115\n"
     ]
    }
   ],
   "source": [
    "from dataset_creation import dataset_creator as data_generator\n",
    "from feature_extract import turntake_extractor as feat_extractor\n",
    "import constants\n",
    "\n",
    "import seaborn as sns\n",
    "import matplotlib.pyplot as plt\n",
    "import numpy as np\n",
    "import pandas as pd\n",
    "\n",
    "sns.set(rc={'figure.figsize':(11.7,8.27)})"
   ]
  },
  {
   "cell_type": "code",
   "execution_count": 16,
   "metadata": {},
   "outputs": [],
   "source": [
    "# TEST Variables\n",
    "agreeability_thresh=.2\n",
    "annotators=[\"Divya\", \"Nakul\"]#, \"Swathi\"]\n",
    "zero_mean = False\n",
    "from_store= True\n",
    "filter_missing_data=True\n",
    "transform_features=False\n",
    "add_interactions=False\n",
    "indiv_missing_data=['1_018_35', '2_006_15', '2_006_33', '2_011_29', '2_036_35', '2_044_8', '2_044_30', '3_004_37', '3_007_11', '3_052_27', '3_052_28', '3_058_25', '3_060_1', '3_068_15']\n",
    "group_missing_data=['1_018', '2_006', '2_006', '2_011', '2_036', '2_044', '2_044', '3_004', '3_007', '3_052', '3_052', '3_058', '3_060', '3_068']\n",
    "\n",
    "manifest=\"indiv\"\n",
    "if manifest == \"indiv\":\n",
    "    features = [\"conv_eq\", \"#turns\", \"%talk\", \"mean_turn\", \"mean_silence\", \"%silence\", \"#bc\", \"%overlap\", \"#suc_interupt\", \"#un_interupt\"]\n",
    "    store_file=constants.indiv_tt_X_path\n",
    "    missing_data=indiv_missing_data\n",
    "else:\n",
    "    features = [\"var_#turn\", \"var_dturn\", \"conv_eq\", \"mean_silence\", \"%silence\", \"#bc\", \"%overlap\", \"#suc_interupt\", \"#un_interupt\"]\n",
    "    store_file=constants.group_tt_X_path\n",
    "    missing_data=group_missing_data"
   ]
  },
  {
   "cell_type": "code",
   "execution_count": 4,
   "metadata": {},
   "outputs": [
    {
     "name": "stdout",
     "output_type": "stream",
     "text": [
      "ZERO-MEAN Technique ? - False\n",
      "ZERO-MEAN Technique ? - False\n",
      "Total Groups in Analysis - 273\n"
     ]
    }
   ],
   "source": [
    "# Annotation Reader\n",
    "reliable_ids, reliable_convqs, reliable_kappas = data_generator.get_annotation_realiable_labels(agreeability_thresh, manifest, annotators, zero_mean)\n",
    "print(\"Total Groups in Analysis - \" + str(len(reliable_ids)))"
   ]
  },
  {
   "cell_type": "code",
   "execution_count": 5,
   "metadata": {
    "scrolled": true
   },
   "outputs": [],
   "source": [
    "# Get Turn-Taking feaures for IDs (group/ indiv)\n",
    "if from_store:\n",
    "    tt_X = pd.read_csv(store_file, sep=',', header=None).values\n",
    "#     tt_X.columns = features\n",
    "#     tt_X.set_index(reliable_ids)\n",
    "else:\n",
    "    tt_X = feat_extractor.get_tt_dataset_feats_for(reliable_ids, features, manifest)"
   ]
  },
  {
   "cell_type": "code",
   "execution_count": 6,
   "metadata": {},
   "outputs": [],
   "source": [
    "# Save Features\n",
    "if not from_store:\n",
    "    # Save Dataset -- tt_X\n",
    "    np.savetxt(store_file, tt_X, delimiter=\",\")"
   ]
  },
  {
   "cell_type": "code",
   "execution_count": 7,
   "metadata": {},
   "outputs": [],
   "source": [
    "# Transform Features\n",
    "if transform_features:\n",
    "    from sklearn.preprocessing import StandardScaler\n",
    "    tt_X = StandardScaler().fit_transform(tt_X)\n",
    "    reliable_convqs = StandardScaler().fit_transform(np.array(reliable_convqs).reshape(-1, 1))"
   ]
  },
  {
   "cell_type": "code",
   "execution_count": 8,
   "metadata": {},
   "outputs": [],
   "source": [
    "# Get groups sizes (for indiv and group)\n",
    "group_sizes = data_generator.get_group_sizes_for_ids(reliable_ids, manifest)"
   ]
  },
  {
   "cell_type": "code",
   "execution_count": 9,
   "metadata": {},
   "outputs": [],
   "source": [
    "#Dataset Prep\n",
    "tt_X = pd.DataFrame(data=tt_X, index=reliable_ids, columns=features) \n",
    "tt_X[\"convq\"] = reliable_convqs\n",
    "tt_X[\"group_sizes\"] = group_sizes"
   ]
  },
  {
   "cell_type": "code",
   "execution_count": 10,
   "metadata": {
    "scrolled": true
   },
   "outputs": [
    {
     "name": "stdout",
     "output_type": "stream",
     "text": [
      "Before Filter: Feature Set -> (273, 12)\n",
      "After Filter: Feature Set -> (259, 12)\n"
     ]
    }
   ],
   "source": [
    "#Filter Dataset - Remove Incompelete Data\n",
    "print(\"Before Filter: Feature Set -> \" + str(tt_X.shape))\n",
    "if filter_missing_data:\n",
    "    final_reliable_ids = [x for x in reliable_ids if x not in missing_data]\n",
    "    tt_X = tt_X[tt_X.index.isin(final_reliable_ids)]\n",
    "print(\"After Filter: Feature Set -> \" + str(tt_X.shape))"
   ]
  },
  {
   "cell_type": "code",
   "execution_count": 11,
   "metadata": {},
   "outputs": [
    {
     "data": {
      "image/png": "[encoded data removed]",
      "text/plain": [
       "<Figure size 842.4x595.44 with 1 Axes>"
      ]
     },
     "metadata": {},
     "output_type": "display_data"
    }
   ],
   "source": [
    "# Plots - Qualitative Analysis\n",
    "sns.distplot(reliable_convqs, kde=True, rug=True)\n",
    "plt.show()"
   ]
  },
  {
   "cell_type": "code",
   "execution_count": 12,
   "metadata": {},
   "outputs": [],
   "source": [
    "# Statistical Tests:(Main Question)\n",
    "# Do Turn-Taking features have a significant effect on the Perceived Individual's Experience of Conversation Quality?\n",
    "# TT Features can be categorised into three categories -> Equality, Fluency and Synchronisation\n",
    "#\n",
    "# (Sub Question)\n",
    "# Does Conversation Equality have a significant effect on the Perceived Individual's Experience of Conversation Quality?\n",
    "#  1. Use Features \"#turns\", \"%talk\", \"mean_turn\". \n",
    "#\n",
    "# (Sub Question)\n",
    "# Does Conversation Fluency have a significant effect on the Perceived Individual's Experience of Conversation Quality?\n",
    "# 1. Use Features \"%silence\", \"mean_silence\", \"#bc\". \n",
    "# \n",
    "# (Sub Question)\n",
    "# Does Conversation Synchronisation have a significant effect on the Perceived Individual's Experience of Conversation Quality?\n",
    "# 1. Use Features \"%overlap\", \"#suc_interupt\", \"#un_interupt\". \n",
    "# \n",
    "# For all above questions, after (1), perform below steps,\n",
    "#  2. Fit a Quantile Least Square Regression model on the features vs the convq score.\n",
    "#  3. Analyse p-value significance @ p<0.05\n",
    "#  4. Check the co-efficients for informations."
   ]
  },
  {
   "cell_type": "code",
   "execution_count": 23,
   "metadata": {},
   "outputs": [],
   "source": [
    "test_feats=[\"const\", \"conv_eq\", \"#turns\", \"%talk\", \"mean_turn\", \"mean_silence\", \"#bc\", \"%overlap\", \"#suc_interupt\", \"#un_interupt\"]\n",
    "\n",
    "conv_eq_feats=[\"const\", \"group_sizes\", \"conv_eq\"]\n",
    "conv_fl_feats=[\"const\", \"group_sizes\", \"%silence\", \"#bc\"]\n",
    "conv_sy_feats=[\"const\", \"group_sizes\", \"%overlap\", \"#suc_interupt\", \"#un_interupt\"]\n",
    "\n",
    "full_test_feats=[\"const\", \"group_sizes\", \"conv_eq\", \"%silence\", \"#bc\", \"%overlap\", \"#suc_interupt\", \"#un_interupt\"]\n",
    "full_interact_feats=list(full_test_feats)\n",
    "test_feats=test_feats\n",
    "\n",
    "if add_interactions:\n",
    "    # Add interactions\n",
    "    for curr_feat in full_test_feats:\n",
    "        if curr_feat not in [\"convq\", \"const\", \"group_sizes\"]:\n",
    "            interact_pair = \"group_sizes\" + \":\" + curr_feat\n",
    "            tt_X[interact_pair] = tt_X[\"group_sizes\"].values * tt_X[curr_feat].values\n",
    "            full_interact_feats.append(interact_pair)\n",
    "\n",
    "    print(\"Final Features list for test...\")\n",
    "    print(len(full_interact_feats))\n",
    "    print(full_interact_feats)"
   ]
  },
  {
   "cell_type": "code",
   "execution_count": 28,
   "metadata": {},
   "outputs": [
    {
     "name": "stdout",
     "output_type": "stream",
     "text": [
      "significance @ 0.05/3 = 0.02 after Bonferroni correction for 3 tests (eq, fluency, sync)\n",
      "\n",
      "\n",
      "~~~~~~~~~~~~~~~~~~~~~~~ Conversation Equality Test ~~~~~~~~~~~~~~~~~~~~~~~\n",
      "                            OLS Regression Results                            \n",
      "==============================================================================\n",
      "Dep. Variable:                  convq   R-squared:                       0.104\n",
      "Model:                            OLS   Adj. R-squared:                  0.097\n",
      "Method:                 Least Squares   F-statistic:                     14.91\n",
      "Date:                Wed, 20 May 2020   Prob (F-statistic):           7.50e-07\n",
      "Time:                        16:38:38   Log-Likelihood:                -248.33\n",
      "No. Observations:                 259   AIC:                             502.7\n",
      "Df Residuals:                     256   BIC:                             513.3\n",
      "Df Model:                           2                                         \n",
      "Covariance Type:            nonrobust                                         \n",
      "===============================================================================\n",
      "                  coef    std err          t      P>|t|      [0.025      0.975]\n",
      "-------------------------------------------------------------------------------\n",
      "const           4.2944      0.109     39.547      0.000       4.081       4.508\n",
      "group_sizes    -0.0687      0.030     -2.322      0.021      -0.127      -0.010\n",
      "conv_eq         0.2964      0.059      5.058      0.000       0.181       0.412\n",
      "==============================================================================\n",
      "Omnibus:                      142.173   Durbin-Watson:                   1.336\n",
      "Prob(Omnibus):                  0.000   Jarque-Bera (JB):              705.072\n",
      "Skew:                          -2.297   Prob(JB):                    7.86e-154\n",
      "Kurtosis:                       9.650   Cond. No.                         10.8\n",
      "==============================================================================\n",
      "\n",
      "Warnings:\n",
      "[1] Standard Errors assume that the covariance matrix of the errors is correctly specified.\n",
      "\n",
      "\n",
      "~~~~~~~~~~~~~~~~~~~~~~~ Conversation Fluency Test ~~~~~~~~~~~~~~~~~~~~~~~\n",
      "                            OLS Regression Results                            \n",
      "==============================================================================\n",
      "Dep. Variable:                  convq   R-squared:                       0.119\n",
      "Model:                            OLS   Adj. R-squared:                  0.109\n",
      "Method:                 Least Squares   F-statistic:                     11.48\n",
      "Date:                Wed, 20 May 2020   Prob (F-statistic):           4.39e-07\n",
      "Time:                        16:38:38   Log-Likelihood:                -246.19\n",
      "No. Observations:                 259   AIC:                             500.4\n",
      "Df Residuals:                     255   BIC:                             514.6\n",
      "Df Model:                           3                                         \n",
      "Covariance Type:            nonrobust                                         \n",
      "===============================================================================\n",
      "                  coef    std err          t      P>|t|      [0.025      0.975]\n",
      "-------------------------------------------------------------------------------\n",
      "const           4.7726      0.141     33.731      0.000       4.494       5.051\n",
      "group_sizes    -0.0272      0.031     -0.881      0.379      -0.088       0.034\n",
      "%silence       -0.9422      0.178     -5.293      0.000      -1.293      -0.592\n",
      "#bc             0.0117      0.018      0.665      0.507      -0.023       0.046\n",
      "==============================================================================\n",
      "Omnibus:                      127.929   Durbin-Watson:                   1.360\n",
      "Prob(Omnibus):                  0.000   Jarque-Bera (JB):              530.938\n",
      "Skew:                          -2.102   Prob(JB):                    5.11e-116\n",
      "Kurtosis:                       8.615   Cond. No.                         21.2\n",
      "==============================================================================\n",
      "\n",
      "Warnings:\n",
      "[1] Standard Errors assume that the covariance matrix of the errors is correctly specified.\n",
      "\n",
      "\n",
      "~~~~~~~~~~~~~~~~~~~~~~~ Conversation Synchronisation Test ~~~~~~~~~~~~~~~~~~~~~~~\n",
      "                            OLS Regression Results                            \n",
      "==============================================================================\n",
      "Dep. Variable:                  convq   R-squared:                       0.031\n",
      "Model:                            OLS   Adj. R-squared:                  0.016\n",
      "Method:                 Least Squares   F-statistic:                     2.051\n",
      "Date:                Wed, 20 May 2020   Prob (F-statistic):             0.0878\n",
      "Time:                        16:38:38   Log-Likelihood:                -258.48\n",
      "No. Observations:                 259   AIC:                             527.0\n",
      "Df Residuals:                     254   BIC:                             544.7\n",
      "Df Model:                           4                                         \n",
      "Covariance Type:            nonrobust                                         \n",
      "=================================================================================\n",
      "                    coef    std err          t      P>|t|      [0.025      0.975]\n",
      "---------------------------------------------------------------------------------\n",
      "const             4.2445      0.118     36.074      0.000       4.013       4.476\n",
      "group_sizes      -0.0707      0.035     -2.010      0.046      -0.140      -0.001\n",
      "%overlap          0.0563      0.148      0.382      0.703      -0.234       0.347\n",
      "#suc_interupt    -0.0049      0.006     -0.853      0.394      -0.016       0.006\n",
      "#un_interupt      0.0235      0.014      1.665      0.097      -0.004       0.051\n",
      "==============================================================================\n",
      "Omnibus:                      140.884   Durbin-Watson:                   1.411\n",
      "Prob(Omnibus):                  0.000   Jarque-Bera (JB):              641.130\n",
      "Skew:                          -2.320   Prob(JB):                    6.03e-140\n",
      "Kurtosis:                       9.155   Cond. No.                         59.9\n",
      "==============================================================================\n",
      "\n",
      "Warnings:\n",
      "[1] Standard Errors assume that the covariance matrix of the errors is correctly specified.\n"
     ]
    }
   ],
   "source": [
    "# Experiment Below\n",
    "\n",
    "# Ordinary Regression\n",
    "import statsmodels.api as sm\n",
    "import statsmodels.formula.api as smf\n",
    "\n",
    "print(\"significance @ 0.05/3 = 0.02 after Bonferroni correction for 3 tests (eq, fluency, sync)\")\n",
    "print()\n",
    "print()\n",
    "print(\"~~~~~~~~~~~~~~~~~~~~~~~ Conversation Equality Test ~~~~~~~~~~~~~~~~~~~~~~~\")\n",
    "X = sm.add_constant(tt_X)\n",
    "model = sm.OLS(X[\"convq\"], X.loc[:,conv_eq_feats])\n",
    "results = model.fit()\n",
    "print(results.summary())\n",
    "print()\n",
    "print()\n",
    "\n",
    "print(\"~~~~~~~~~~~~~~~~~~~~~~~ Conversation Fluency Test ~~~~~~~~~~~~~~~~~~~~~~~\")\n",
    "model = sm.OLS(X[\"convq\"], X.loc[:,conv_fl_feats])\n",
    "results = model.fit()\n",
    "print(results.summary())\n",
    "print()\n",
    "print()\n",
    "\n",
    "print(\"~~~~~~~~~~~~~~~~~~~~~~~ Conversation Synchronisation Test ~~~~~~~~~~~~~~~~~~~~~~~\")\n",
    "model = sm.OLS(X[\"convq\"], X.loc[:,conv_sy_feats])\n",
    "results = model.fit()\n",
    "print(results.summary())"
   ]
  },
  {
   "cell_type": "code",
   "execution_count": 19,
   "metadata": {
    "collapsed": true
   },
   "outputs": [
    {
     "name": "stdout",
     "output_type": "stream",
     "text": [
      "                         QuantReg Regression Results                          \n",
      "==============================================================================\n",
      "Dep. Variable:                  convq   Pseudo R-squared:               0.1027\n",
      "Model:                       QuantReg   Bandwidth:                      0.2591\n",
      "Method:                 Least Squares   Sparsity:                       0.8210\n",
      "Date:                Wed, 20 May 2020   No. Observations:                  259\n",
      "Time:                        15:37:26   Df Residuals:                      251\n",
      "                                        Df Model:                            7\n",
      "=================================================================================\n",
      "                    coef    std err          t      P>|t|      [0.025      0.975]\n",
      "---------------------------------------------------------------------------------\n",
      "const             4.5326      0.138     32.842      0.000       4.261       4.804\n",
      "group_sizes      -0.0781      0.026     -2.966      0.003      -0.130      -0.026\n",
      "conv_eq           0.1985      0.073      2.735      0.007       0.056       0.341\n",
      "%silence         -0.1153      0.224     -0.514      0.608      -0.557       0.326\n",
      "#bc               0.0263      0.021      1.237      0.217      -0.016       0.068\n",
      "%overlap          0.0493      0.098      0.503      0.616      -0.144       0.243\n",
      "#suc_interupt     0.0026      0.004      0.628      0.530      -0.005       0.011\n",
      "#un_interupt     -0.0150      0.010     -1.558      0.121      -0.034       0.004\n",
      "=================================================================================\n"
     ]
    }
   ],
   "source": [
    "# Quantile Regression\n",
    "X = sm.add_constant(tt_X)\n",
    "\n",
    "model = sm.regression.quantile_regression.QuantReg(X[\"convq\"], X.loc[:,full_interact_feats])\n",
    "results = model.fit(q=.5)\n",
    "print(results.summary())"
   ]
  },
  {
   "cell_type": "code",
   "execution_count": 20,
   "metadata": {
    "collapsed": true
   },
   "outputs": [
    {
     "name": "stdout",
     "output_type": "stream",
     "text": [
      "                 Generalized Linear Model Regression Results                  \n",
      "==============================================================================\n",
      "Dep. Variable:                  convq   No. Observations:                  259\n",
      "Model:                            GLM   Df Residuals:                      251\n",
      "Model Family:                Gaussian   Df Model:                            7\n",
      "Link Function:               identity   Scale:                         0.40170\n",
      "Method:                          IRLS   Log-Likelihood:                -245.33\n",
      "Date:                Wed, 20 May 2020   Deviance:                       100.83\n",
      "Time:                        15:37:27   Pearson chi2:                     101.\n",
      "No. Iterations:                     3                                         \n",
      "Covariance Type:            nonrobust                                         \n",
      "=================================================================================\n",
      "                    coef    std err          z      P>|z|      [0.025      0.975]\n",
      "---------------------------------------------------------------------------------\n",
      "const             4.5999      0.213     21.588      0.000       4.182       5.018\n",
      "group_sizes      -0.0531      0.041     -1.305      0.192      -0.133       0.027\n",
      "conv_eq           0.1367      0.112      1.220      0.222      -0.083       0.356\n",
      "%silence         -0.6036      0.346     -1.743      0.081      -1.282       0.075\n",
      "#bc               0.0235      0.033      0.716      0.474      -0.041       0.088\n",
      "%overlap          0.0824      0.152      0.544      0.586      -0.215       0.379\n",
      "#suc_interupt    -0.0012      0.006     -0.196      0.845      -0.014       0.011\n",
      "#un_interupt     -0.0016      0.015     -0.107      0.915      -0.031       0.028\n",
      "=================================================================================\n"
     ]
    }
   ],
   "source": [
    "# Generalised Linear Regression\n",
    "X = sm.add_constant(tt_X)\n",
    "\n",
    "model = sm.GLM(X[\"convq\"], X.loc[:,full_test_feats])\n",
    "results = model.fit()\n",
    "print(results.summary())"
   ]
  },
  {
   "cell_type": "code",
   "execution_count": null,
   "metadata": {},
   "outputs": [],
   "source": [
    "for curr_feat in full_test_feats:\n",
    "    if curr_feat not in [\"convq\", \"const\"]:\n",
    "        \n",
    "        model_ols = sm.OLS(X[\"convq\"], sm.add_constant(X[curr_feat])).fit().params\n",
    "        model_qnt = sm.regression.quantile_regression.QuantReg(X[\"convq\"], sm.add_constant(X[curr_feat])).fit().params\n",
    "\n",
    "        # scatter-plot data\n",
    "        ax = X.plot(x='convq', y=curr_feat, kind='scatter', c=\"black\")\n",
    "\n",
    "        # plot regression line on the same axes, set x-axis limits\n",
    "        ax.plot(X[\"convq\"].values, model_ols[\"const\"] + model_ols[curr_feat] * X[\"convq\"].values)\n",
    "        ax.plot(X[\"convq\"].values, model_qnt[\"const\"] + model_qnt[curr_feat] * X[\"convq\"].values)\n",
    "        ax.legend(['OLS', 'QUANTILE'])\n",
    "        ax.set_xlim([1, 5])"
   ]
  },
  {
   "cell_type": "code",
   "execution_count": null,
   "metadata": {},
   "outputs": [],
   "source": []
  }
 ],
 "metadata": {
  "kernelspec": {
   "display_name": "Python 3",
   "language": "python",
   "name": "python3"
  },
  "language_info": {
   "codemirror_mode": {
    "name": "ipython",
    "version": 3
   },
   "file_extension": ".py",
   "mimetype": "text/x-python",
   "name": "python",
   "nbconvert_exporter": "python",
   "pygments_lexer": "ipython3",
   "version": "3.7.5"
  }
 },
 "nbformat": 4,
 "nbformat_minor": 4
}
