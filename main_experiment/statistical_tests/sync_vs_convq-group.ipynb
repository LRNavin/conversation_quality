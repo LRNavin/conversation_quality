{
 "cells": [
  {
   "cell_type": "code",
   "execution_count": 1,
   "metadata": {},
   "outputs": [],
   "source": [
    "import sys  \n",
    "sys.path.insert(0, '/Users/navinlr/Desktop/Thesis/code_base/conversation_quality')"
   ]
  },
  {
   "cell_type": "code",
   "execution_count": 2,
   "metadata": {},
   "outputs": [
    {
     "name": "stdout",
     "output_type": "stream",
     "text": [
      "Total Groups = 115\n"
     ]
    }
   ],
   "source": [
    "# from dataset_creation import dataset_creator as data_generator\n",
    "from feature_extract import turntake_extractor as feat_extractor\n",
    "from modeling import dataset_provider as data_gen\n",
    "from dataset_creation import dataset_creator as data_generator\n",
    "\n",
    "import feature_namer_script as feat_namer\n",
    "import constants\n",
    "\n",
    "import seaborn as sns\n",
    "import matplotlib.pyplot as plt\n",
    "import numpy as np\n",
    "import pandas as pd\n",
    "\n",
    "sns.set(rc={'figure.figsize':(11.7,8.27)})"
   ]
  },
  {
   "cell_type": "code",
   "execution_count": 3,
   "metadata": {},
   "outputs": [],
   "source": [
    "# TEST Variables\n",
    "agreeability_thresh=.2\n",
    "missing_data_thresh=50.0 #(in percent)\n",
    "\n",
    "annotators=[\"Divya\", \"Nakul\"]#, \"Swathi\"]\n",
    "zero_mean = False\n",
    "from_store= True\n",
    "filter_missing_data=True\n",
    "transform_features=True\n",
    "add_interactions=False\n",
    "only_involved_pairs=True\n",
    "manifest=\"group\"\n",
    "\n",
    "dataset=[constants.features_dataset_path_v7, constants.features_dataset_path_v13] #, constants.features_dataset_path_v13\n",
    "dataset_feat=[feat_namer.get_feature_names_for_dataset_7, feat_namer.get_feature_names_for_dataset_13]"
   ]
  },
  {
   "cell_type": "code",
   "execution_count": 4,
   "metadata": {},
   "outputs": [
    {
     "name": "stdout",
     "output_type": "stream",
     "text": [
      "Generating Dataset for modeling - group ConvQ, ...........\n",
      "Number of Groups (After removing missing data) - 85\n",
      "ZERO-MEAN Technique ? - False\n",
      "ZERO-MEAN Technique ? - False\n"
     ]
    },
    {
     "name": "stderr",
     "output_type": "stream",
     "text": [
      "22it [00:00, 218.91it/s]"
     ]
    },
    {
     "name": "stdout",
     "output_type": "stream",
     "text": [
      "Number of Final Data-points (After removing unreliable annotation data) - 58\n",
      "Dataset for modeling ConvQ Generated !!!!!!\n"
     ]
    },
    {
     "name": "stderr",
     "output_type": "stream",
     "text": [
      "58it [00:00, 210.06it/s]\n"
     ]
    },
    {
     "name": "stdout",
     "output_type": "stream",
     "text": [
      "Total #Features = 756\n",
      "Generating Dataset for modeling - group ConvQ, ...........\n",
      "Number of Groups (After removing missing data) - 85\n",
      "ZERO-MEAN Technique ? - False\n",
      "ZERO-MEAN Technique ? - False\n"
     ]
    },
    {
     "name": "stderr",
     "output_type": "stream",
     "text": [
      "58it [00:00, 886.11it/s]"
     ]
    },
    {
     "name": "stdout",
     "output_type": "stream",
     "text": [
      "Number of Final Data-points (After removing unreliable annotation data) - 58\n",
      "Dataset for modeling ConvQ Generated !!!!!!\n",
      "Total #Features = 126\n",
      "Synchrony Feature-Set Size = (58, 882)\n",
      "Total Samples in Analysis - 58\n"
     ]
    },
    {
     "name": "stderr",
     "output_type": "stream",
     "text": [
      "\n"
     ]
    }
   ],
   "source": [
    "# Get Synchrony/Convergence features for IDs (group/ indiv) & respec., Annotations Reader\n",
    "X=[]\n",
    "feature_names=[]\n",
    "for i, curr_dataset in enumerate(dataset):\n",
    "    curr_X, reliable_convqs, reliable_ids = data_gen.get_dataset_for_experiment(dataset=curr_dataset,\n",
    "                                                                        manifest=manifest,\n",
    "                                                                        missing_data_thresh=missing_data_thresh,\n",
    "                                                                        agreeability_thresh=agreeability_thresh,\n",
    "                                                                        annotators=annotators,\n",
    "                                                                        only_involved_pairs=only_involved_pairs,\n",
    "                                                                        zero_mean=zero_mean)\n",
    "    feature_names.extend(dataset_feat[i]())\n",
    "    if len(X) == 0:\n",
    "        X=curr_X\n",
    "    else:\n",
    "        X=np.concatenate((X, curr_X), axis=1)        \n",
    "\n",
    "print(\"Synchrony Feature-Set Size = \" + str(X.shape))\n",
    "print(\"Total Samples in Analysis - \" + str(len(reliable_ids)))"
   ]
  },
  {
   "cell_type": "code",
   "execution_count": 5,
   "metadata": {},
   "outputs": [
    {
     "name": "stdout",
     "output_type": "stream",
     "text": [
      "Transforming Dataset...\n"
     ]
    }
   ],
   "source": [
    "# Transform Features\n",
    "if transform_features:\n",
    "    print(\"Transforming Dataset...\")\n",
    "    from sklearn.preprocessing import StandardScaler\n",
    "    X = StandardScaler().fit_transform(X)\n",
    "#     reliable_convqs = StandardScaler().fit_transform(np.array(reliable_convqs).reshape(-1, 1))"
   ]
  },
  {
   "cell_type": "code",
   "execution_count": 6,
   "metadata": {},
   "outputs": [],
   "source": [
    "# Get groups sizes (for indiv and group)\n",
    "group_sizes = data_generator.get_group_sizes_for_ids(reliable_ids, manifest)"
   ]
  },
  {
   "cell_type": "code",
   "execution_count": 7,
   "metadata": {},
   "outputs": [],
   "source": [
    "#Dataset Prep\n",
    "coord_X = pd.DataFrame(data=X, index=reliable_ids, columns=feature_names) \n",
    "coord_X[\"convq\"] = reliable_convqs\n",
    "coord_X[\"group_sizes\"] = group_sizes\n",
    "# print(coord_X[2:])"
   ]
  },
  {
   "cell_type": "code",
   "execution_count": 8,
   "metadata": {},
   "outputs": [
    {
     "data": {
      "image/png": "[encoded data removed]",
      "text/plain": [
       "<Figure size 842.4x595.44 with 1 Axes>"
      ]
     },
     "metadata": {},
     "output_type": "display_data"
    },
    {
     "name": "stdout",
     "output_type": "stream",
     "text": [
      "W-Stat = 0.9050574898719788\n",
      "P-Value-Stat = 0.00025824207114055753\n"
     ]
    }
   ],
   "source": [
    "# Plots - Qualitative Analysis\n",
    "sns.distplot(reliable_convqs, kde=True, rug=True)\n",
    "plt.show()\n",
    "\n",
    "from scipy import stats\n",
    "# x = stats.norm.rvs(loc=5, scale=3, size=100)\n",
    "W, p_val = stats.shapiro(reliable_convqs)\n",
    "\n",
    "\n",
    "print(\"W-Stat = \" + str(W))\n",
    "print(\"P-Value-Stat = \" + str(p_val))"
   ]
  },
  {
   "cell_type": "code",
   "execution_count": 9,
   "metadata": {},
   "outputs": [],
   "source": [
    "# Statistical Tests:(Main Question)\n",
    "# Do Turn-Taking features have a significant effect on the Perceived Individual's Experience of Conversation Quality?\n",
    "# TT Features can be categorised into three categories -> Equality, Fluency and Synchronisation\n",
    "#\n",
    "# (Sub Question)\n",
    "# Does Conversation Equality have a significant effect on the Perceived Individual's Experience of Conversation Quality?\n",
    "#  1. Use Features \"#turns\", \"%talk\", \"mean_turn\". \n",
    "#\n",
    "# (Sub Question)\n",
    "# Does Conversation Fluency have a significant effect on the Perceived Individual's Experience of Conversation Quality?\n",
    "# 1. Use Features \"%silence\", \"mean_silence\", \"#bc\". \n",
    "# \n",
    "# (Sub Question)\n",
    "# Does Conversation Synchronisation have a significant effect on the Perceived Individual's Experience of Conversation Quality?\n",
    "# 1. Use Features \"%overlap\", \"#suc_interupt\", \"#un_interupt\". \n",
    "# \n",
    "# For all above questions, after (1), perform below steps,\n",
    "#  2. Fit a Quantile Least Square Regression model on the features vs the convq score.\n",
    "#  3. Analyse p-value significance @ p<0.05\n",
    "#  4. Check the co-efficients for informations."
   ]
  },
  {
   "cell_type": "code",
   "execution_count": 10,
   "metadata": {},
   "outputs": [],
   "source": [
    "final_test_features = list(feature_names)\n",
    "final_test_features.append(\"group_sizes\")\n",
    "final_test_features.append(\"const\")"
   ]
  },
  {
   "cell_type": "code",
   "execution_count": 49,
   "metadata": {},
   "outputs": [
    {
     "name": "stdout",
     "output_type": "stream",
     "text": [
      "#Sync Features = 26\n",
      "#Conv Features = 18\n",
      "#Caus Features = 14\n",
      "#Lag Mimi Features = 18\n",
      "#Led Mimi Features = 18\n",
      "#Total Features = 86\n"
     ]
    }
   ],
   "source": [
    "# Handle MultiCollinearity/Full Rank problem\n",
    "# Temp.Sol -> Use only Magnitude features\n",
    "final_mag_sync_features=[\"const\", \"group_sizes\"]\n",
    "final_mag_conv_features=[\"const\", \"group_sizes\"]\n",
    "final_mag_caus_features=[\"const\", \"group_sizes\"]\n",
    "final_mag_mimi_led_features=[\"const\", \"group_sizes\"]\n",
    "final_mag_mimi_lag_features=[\"const\", \"group_sizes\"]\n",
    "\n",
    "\n",
    "only_mag_features=[\"const\", \"group_sizes\"]\n",
    "\n",
    "for curr_feat in final_test_features:\n",
    "    if \"mag-\" in curr_feat:\n",
    "        if \"-mode\" not in curr_feat and \"-median\" not in curr_feat:\n",
    "            only_mag_features.append(curr_feat)\n",
    "            if \"corr-\" in curr_feat or \"mi-\" in curr_feat:\n",
    "                final_mag_sync_features.append(curr_feat)\n",
    "            elif \"conv-\" in curr_feat:\n",
    "                final_mag_conv_features.append(curr_feat)\n",
    "            elif \"mimicry-\" in curr_feat:\n",
    "                if \"_lag_\" in curr_feat:\n",
    "                    final_mag_mimi_lag_features.append(curr_feat)\n",
    "                else:\n",
    "                    final_mag_mimi_led_features.append(curr_feat)                    \n",
    "            elif \"granger-\" in curr_feat or \"coherence-\" in curr_feat:\n",
    "                final_mag_caus_features.append(curr_feat)\n",
    "        \n",
    "print(\"#Sync Features = \" + str(len(final_mag_sync_features)))\n",
    "print(\"#Conv Features = \" + str(len(final_mag_conv_features)))\n",
    "print(\"#Caus Features = \" + str(len(final_mag_caus_features)))\n",
    "print(\"#Lag Mimi Features = \" + str(len(final_mag_mimi_lag_features)))\n",
    "print(\"#Led Mimi Features = \" + str(len(final_mag_mimi_led_features)))\n",
    "\n",
    "\n",
    "print(\"#Total Features = \" + str(len(only_mag_features)))"
   ]
  },
  {
   "cell_type": "code",
   "execution_count": 50,
   "metadata": {
    "scrolled": false
   },
   "outputs": [
    {
     "name": "stdout",
     "output_type": "stream",
     "text": [
      "significance @ 0.05/3 = 0.02 after Bonferroni correction for 3 tests (eq, fluency, sync)\n",
      "\n",
      "\n",
      "~~~~~~~~~~~~~~~~~~~~~~~ Synchrony Coordination Test ~~~~~~~~~~~~~~~~~~~~~~~\n",
      "                            OLS Regression Results                            \n",
      "==============================================================================\n",
      "Dep. Variable:                      y   R-squared:                       0.501\n",
      "Model:                            OLS   Adj. R-squared:                  0.211\n",
      "Method:                 Least Squares   F-statistic:                     1.724\n",
      "Date:                Fri, 12 Jun 2020   Prob (F-statistic):             0.0735\n",
      "Time:                        10:20:20   Log-Likelihood:                -28.630\n",
      "No. Observations:                  58   AIC:                             101.3\n",
      "Df Residuals:                      36   BIC:                             146.6\n",
      "Df Model:                          21                                         \n",
      "Covariance Type:            nonrobust                                         \n",
      "===========================================================================================\n",
      "                              coef    std err          t      P>|t|      [0.025      0.975]\n",
      "-------------------------------------------------------------------------------------------\n",
      "const                       5.0339      0.507      9.938      0.000       4.007       6.061\n",
      "group_sizes                -0.3666      0.166     -2.215      0.033      -0.702      -0.031\n",
      "mag-corr-min               -0.1816      0.300     -0.605      0.549      -0.790       0.427\n",
      "mag-min_lagcorr-min         2.6954      1.441      1.870      0.070      -0.228       5.619\n",
      "mag-max_lagcorr-min        -0.9965      1.189     -0.838      0.407      -3.408       1.415\n",
      "mag-argmin_lagcorr-min   7.849e-16   8.91e-16      0.881      0.384   -1.02e-15    2.59e-15\n",
      "mag-argmax_lagcorr-min      0.8809      1.068      0.824      0.415      -1.286       3.048\n",
      "mag-mi-min                 -0.2857      0.707     -0.404      0.689      -1.720       1.148\n",
      "mag-corr-max                2.0609      0.708      2.909      0.006       0.624       3.498\n",
      "mag-min_lagcorr-max         0.3161      0.705      0.448      0.657      -1.114       1.746\n",
      "mag-max_lagcorr-max        -1.0725      1.119     -0.958      0.344      -3.343       1.198\n",
      "mag-argmin_lagcorr-max      0.2844      0.091      3.136      0.003       0.100       0.468\n",
      "mag-argmax_lagcorr-max     -0.3084      1.069     -0.288      0.775      -2.477       1.860\n",
      "mag-mi-max                  0.1908      0.819      0.233      0.817      -1.470       1.851\n",
      "mag-corr-mean              -1.1928      0.498     -2.395      0.022      -2.203      -0.183\n",
      "mag-min_lagcorr-mean       -3.2111      2.016     -1.593      0.120      -7.299       0.877\n",
      "mag-max_lagcorr-mean        1.6796      1.709      0.983      0.332      -1.787       5.146\n",
      "mag-argmin_lagcorr-mean     0.2844      0.091      3.136      0.003       0.100       0.468\n",
      "mag-argmax_lagcorr-mean     0.2844      0.091      3.136      0.003       0.100       0.468\n",
      "mag-mi-mean                -0.0820      0.675     -0.121      0.904      -1.451       1.287\n",
      "mag-corr-var               -0.7302      0.294     -2.486      0.018      -1.326      -0.135\n",
      "mag-min_lagcorr-var         1.0006      0.438      2.283      0.028       0.112       1.889\n",
      "mag-max_lagcorr-var        -0.0597      0.325     -0.184      0.855      -0.719       0.600\n",
      "mag-argmin_lagcorr-var     -1.3494      0.401     -3.366      0.002      -2.163      -0.536\n",
      "mag-argmax_lagcorr-var      0.1303      0.226      0.577      0.568      -0.328       0.588\n",
      "mag-mi-var                 -0.1973      0.421     -0.468      0.643      -1.052       0.658\n",
      "==============================================================================\n",
      "Omnibus:                       21.866   Durbin-Watson:                   2.196\n",
      "Prob(Omnibus):                  0.000   Jarque-Bera (JB):               38.743\n",
      "Skew:                          -1.220   Prob(JB):                     3.86e-09\n",
      "Kurtosis:                       6.175   Cond. No.                     1.14e+16\n",
      "==============================================================================\n",
      "\n",
      "Warnings:\n",
      "[1] Standard Errors assume that the covariance matrix of the errors is correctly specified.\n",
      "[2] The smallest eigenvalue is 5.33e-30. This might indicate that there are\n",
      "strong multicollinearity problems or that the design matrix is singular.\n",
      "\n",
      "\n",
      "~~~~~~~~~~~~~~~~~~~~~~~ Convergence Coordination Test ~~~~~~~~~~~~~~~~~~~~~~~\n",
      "                            OLS Regression Results                            \n",
      "==============================================================================\n",
      "Dep. Variable:                      y   R-squared:                       0.184\n",
      "Model:                            OLS   Adj. R-squared:                 -0.058\n",
      "Method:                 Least Squares   F-statistic:                    0.7608\n",
      "Date:                Fri, 12 Jun 2020   Prob (F-statistic):              0.695\n",
      "Time:                        10:20:20   Log-Likelihood:                -42.935\n",
      "No. Observations:                  58   AIC:                             113.9\n",
      "Df Residuals:                      44   BIC:                             142.7\n",
      "Df Model:                          13                                         \n",
      "Covariance Type:            nonrobust                                         \n",
      "==========================================================================================\n",
      "                             coef    std err          t      P>|t|      [0.025      0.975]\n",
      "------------------------------------------------------------------------------------------\n",
      "const                      4.8853      0.467     10.457      0.000       3.944       5.827\n",
      "group_sizes               -0.3176      0.152     -2.091      0.042      -0.624      -0.011\n",
      "mag-symconv-min           -0.1858      0.590     -0.315      0.754      -1.375       1.004\n",
      "mag-lead_asymconv-min     -0.0388      0.245     -0.158      0.875      -0.532       0.455\n",
      "mag-lag_asymconv-min      -0.0388      0.245     -0.158      0.875      -0.532       0.455\n",
      "mag-globconv-min           1.4264      1.466      0.973      0.336      -1.528       4.381\n",
      "mag-symconv-max            0.6607      0.579      1.141      0.260      -0.506       1.828\n",
      "mag-lead_asymconv-max     -0.0964      0.243     -0.397      0.693      -0.586       0.393\n",
      "mag-lag_asymconv-max      -0.0964      0.243     -0.397      0.693      -0.586       0.393\n",
      "mag-globconv-max           1.1391      1.251      0.910      0.368      -1.383       3.661\n",
      "mag-symconv-mean          -0.4885      0.676     -0.723      0.473      -1.850       0.873\n",
      "mag-lead_asymconv-mean     0.0939      0.271      0.347      0.730      -0.452       0.640\n",
      "mag-lag_asymconv-mean      0.0939      0.271      0.347      0.730      -0.452       0.640\n",
      "mag-globconv-mean         -2.3808      2.072     -1.149      0.257      -6.556       1.795\n",
      "mag-symconv-var           -0.3089      0.303     -1.019      0.314      -0.920       0.302\n",
      "mag-lead_asymconv-var      0.0617      0.161      0.384      0.703      -0.262       0.386\n",
      "mag-lag_asymconv-var       0.0617      0.161      0.384      0.703      -0.262       0.386\n",
      "mag-globconv-var           0.1544      0.378      0.408      0.685      -0.608       0.917\n",
      "==============================================================================\n",
      "Omnibus:                       42.491   Durbin-Watson:                   2.182\n",
      "Prob(Omnibus):                  0.000   Jarque-Bera (JB):              140.837\n",
      "Skew:                          -2.111   Prob(JB):                     2.62e-31\n",
      "Kurtosis:                       9.360   Cond. No.                     9.34e+16\n",
      "==============================================================================\n",
      "\n",
      "Warnings:\n",
      "[1] Standard Errors assume that the covariance matrix of the errors is correctly specified.\n",
      "[2] The smallest eigenvalue is 7.81e-32. This might indicate that there are\n",
      "strong multicollinearity problems or that the design matrix is singular.\n",
      "\n",
      "\n",
      "~~~~~~~~~~~~~~~~~~~~~~~ Led Mimicry Coordination Test ~~~~~~~~~~~~~~~~~~~~~~~\n",
      "                            OLS Regression Results                            \n",
      "==============================================================================\n",
      "Dep. Variable:                      y   R-squared:                       0.324\n",
      "Model:                            OLS   Adj. R-squared:                  0.037\n",
      "Method:                 Least Squares   F-statistic:                     1.127\n",
      "Date:                Fri, 12 Jun 2020   Prob (F-statistic):              0.364\n",
      "Time:                        10:20:20   Log-Likelihood:                -37.462\n",
      "No. Observations:                  58   AIC:                             110.9\n",
      "Df Residuals:                      40   BIC:                             148.0\n",
      "Df Model:                          17                                         \n",
      "Covariance Type:            nonrobust                                         \n",
      "==============================================================================================\n",
      "                                 coef    std err          t      P>|t|      [0.025      0.975]\n",
      "----------------------------------------------------------------------------------------------\n",
      "const                          4.7082      0.451     10.434      0.000       3.796       5.620\n",
      "group_sizes                   -0.2592      0.147     -1.767      0.085      -0.556       0.037\n",
      "mag-min_lead_mimicry-min       1.5205      1.232      1.234      0.224      -0.970       4.011\n",
      "mag-max_lead_mimicry-min       0.9498      2.012      0.472      0.639      -3.117       5.016\n",
      "mag-mean_lead_mimicry-min     -0.3531      0.391     -0.902      0.372      -1.144       0.438\n",
      "mag-var_lead_mimicry-min       9.5951      9.905      0.969      0.339     -10.423      29.614\n",
      "mag-min_lead_mimicry-max       0.9112      0.949      0.960      0.343      -1.007       2.829\n",
      "mag-max_lead_mimicry-max       4.3626      4.948      0.882      0.383      -5.638      14.364\n",
      "mag-mean_lead_mimicry-max      0.6338      0.588      1.078      0.288      -0.555       1.822\n",
      "mag-var_lead_mimicry-max      17.1296     12.629      1.356      0.183      -8.395      42.655\n",
      "mag-min_lead_mimicry-mean     -2.1857      1.876     -1.165      0.251      -5.977       1.606\n",
      "mag-max_lead_mimicry-mean     -4.7633      8.025     -0.594      0.556     -20.982      11.456\n",
      "mag-mean_lead_mimicry-mean     0.0312      0.558      0.056      0.956      -1.096       1.159\n",
      "mag-var_lead_mimicry-mean    -25.9536     21.917     -1.184      0.243     -70.250      18.343\n",
      "mag-min_lead_mimicry-var       0.1554      0.660      0.235      0.815      -1.179       1.490\n",
      "mag-max_lead_mimicry-var       7.7527     10.863      0.714      0.480     -14.202      29.708\n",
      "mag-mean_lead_mimicry-var     -0.4139      0.303     -1.365      0.180      -1.027       0.199\n",
      "mag-var_lead_mimicry-var      -3.8942     12.029     -0.324      0.748     -28.205      20.417\n",
      "==============================================================================\n",
      "Omnibus:                       41.390   Durbin-Watson:                   2.187\n",
      "Prob(Omnibus):                  0.000   Jarque-Bera (JB):              147.029\n",
      "Skew:                          -1.991   Prob(JB):                     1.18e-32\n",
      "Kurtosis:                       9.707   Cond. No.                     1.30e+03\n",
      "==============================================================================\n",
      "\n",
      "Warnings:\n",
      "[1] Standard Errors assume that the covariance matrix of the errors is correctly specified.\n",
      "[2] The condition number is large, 1.3e+03. This might indicate that there are\n",
      "strong multicollinearity or other numerical problems.\n",
      "\n",
      "\n",
      "~~~~~~~~~~~~~~~~~~~~~~~ Lag Mimicry Coordination Test ~~~~~~~~~~~~~~~~~~~~~~~\n",
      "                            OLS Regression Results                            \n",
      "==============================================================================\n",
      "Dep. Variable:                      y   R-squared:                       0.324\n",
      "Model:                            OLS   Adj. R-squared:                  0.037\n",
      "Method:                 Least Squares   F-statistic:                     1.127\n",
      "Date:                Fri, 12 Jun 2020   Prob (F-statistic):              0.364\n",
      "Time:                        10:20:20   Log-Likelihood:                -37.462\n",
      "No. Observations:                  58   AIC:                             110.9\n",
      "Df Residuals:                      40   BIC:                             148.0\n",
      "Df Model:                          17                                         \n",
      "Covariance Type:            nonrobust                                         \n",
      "=============================================================================================\n",
      "                                coef    std err          t      P>|t|      [0.025      0.975]\n",
      "---------------------------------------------------------------------------------------------\n",
      "const                         4.7082      0.451     10.434      0.000       3.796       5.620\n",
      "group_sizes                  -0.2592      0.147     -1.767      0.085      -0.556       0.037\n",
      "mag-min_lag_mimicry-min       1.5205      1.232      1.234      0.224      -0.970       4.011\n",
      "mag-max_lag_mimicry-min       0.9498      2.012      0.472      0.639      -3.117       5.016\n",
      "mag-mean_lag_mimicry-min     -0.3531      0.391     -0.902      0.372      -1.144       0.438\n",
      "mag-var_lag_mimicry-min       9.5951      9.905      0.969      0.339     -10.423      29.614\n",
      "mag-min_lag_mimicry-max       0.9112      0.949      0.960      0.343      -1.007       2.829\n",
      "mag-max_lag_mimicry-max       4.3626      4.948      0.882      0.383      -5.638      14.364\n",
      "mag-mean_lag_mimicry-max      0.6338      0.588      1.078      0.288      -0.555       1.822\n",
      "mag-var_lag_mimicry-max      17.1296     12.629      1.356      0.183      -8.395      42.655\n",
      "mag-min_lag_mimicry-mean     -2.1857      1.876     -1.165      0.251      -5.977       1.606\n",
      "mag-max_lag_mimicry-mean     -4.7633      8.025     -0.594      0.556     -20.982      11.456\n",
      "mag-mean_lag_mimicry-mean     0.0312      0.558      0.056      0.956      -1.096       1.159\n",
      "mag-var_lag_mimicry-mean    -25.9536     21.917     -1.184      0.243     -70.250      18.343\n",
      "mag-min_lag_mimicry-var       0.1554      0.660      0.235      0.815      -1.179       1.490\n",
      "mag-max_lag_mimicry-var       7.7527     10.863      0.714      0.480     -14.202      29.708\n",
      "mag-mean_lag_mimicry-var     -0.4139      0.303     -1.365      0.180      -1.027       0.199\n",
      "mag-var_lag_mimicry-var      -3.8942     12.029     -0.324      0.748     -28.205      20.417\n",
      "==============================================================================\n",
      "Omnibus:                       41.390   Durbin-Watson:                   2.187\n",
      "Prob(Omnibus):                  0.000   Jarque-Bera (JB):              147.029\n",
      "Skew:                          -1.991   Prob(JB):                     1.18e-32\n",
      "Kurtosis:                       9.707   Cond. No.                     1.30e+03\n",
      "==============================================================================\n",
      "\n",
      "Warnings:\n",
      "[1] Standard Errors assume that the covariance matrix of the errors is correctly specified.\n",
      "[2] The condition number is large, 1.3e+03. This might indicate that there are\n",
      "strong multicollinearity or other numerical problems.\n",
      "\n",
      "\n",
      "~~~~~~~~~~~~~~~~~~~~~~~ Causality Coordination Test ~~~~~~~~~~~~~~~~~~~~~~~\n",
      "                            OLS Regression Results                            \n",
      "==============================================================================\n",
      "Dep. Variable:                      y   R-squared:                       0.254\n",
      "Model:                            OLS   Adj. R-squared:                  0.034\n",
      "Method:                 Least Squares   F-statistic:                     1.153\n",
      "Date:                Fri, 12 Jun 2020   Prob (F-statistic):              0.344\n",
      "Time:                        10:20:20   Log-Likelihood:                -40.310\n",
      "No. Observations:                  58   AIC:                             108.6\n",
      "Df Residuals:                      44   BIC:                             137.5\n",
      "Df Model:                          13                                         \n",
      "Covariance Type:            nonrobust                                         \n",
      "==========================================================================================\n",
      "                             coef    std err          t      P>|t|      [0.025      0.975]\n",
      "------------------------------------------------------------------------------------------\n",
      "const                      4.7045      0.352     13.375      0.000       3.996       5.413\n",
      "group_sizes               -0.2580      0.113     -2.276      0.028      -0.487      -0.030\n",
      "mag-min_coherence-min     -0.0431      0.381     -0.113      0.910      -0.811       0.725\n",
      "mag-max_coherence-min     -0.1282      0.801     -0.160      0.874      -1.742       1.486\n",
      "mag-granger-min           -0.0390      0.131     -0.299      0.766      -0.302       0.224\n",
      "mag-min_coherence-max      0.1323      0.512      0.258      0.797      -0.900       1.165\n",
      "mag-max_coherence-max      0.1597      0.736      0.217      0.829      -1.324       1.643\n",
      "mag-granger-max            0.1163      0.368      0.316      0.754      -0.626       0.859\n",
      "mag-min_coherence-mean    -0.0384      0.868     -0.044      0.965      -1.788       1.712\n",
      "mag-max_coherence-mean     0.0259      1.250      0.021      0.984      -2.493       2.545\n",
      "mag-granger-mean           0.2500      0.228      1.095      0.279      -0.210       0.710\n",
      "mag-min_coherence-var     -0.1371      0.423     -0.324      0.747      -0.990       0.716\n",
      "mag-max_coherence-var     -0.0441      0.205     -0.216      0.830      -0.457       0.368\n",
      "mag-granger-var           -0.3006      0.257     -1.171      0.248      -0.818       0.217\n",
      "==============================================================================\n",
      "Omnibus:                       39.144   Durbin-Watson:                   2.091\n",
      "Prob(Omnibus):                  0.000   Jarque-Bera (JB):              122.847\n",
      "Skew:                          -1.931   Prob(JB):                     2.11e-27\n",
      "Kurtosis:                       8.994   Cond. No.                         81.7\n",
      "==============================================================================\n",
      "\n",
      "Warnings:\n",
      "[1] Standard Errors assume that the covariance matrix of the errors is correctly specified.\n",
      "\n",
      "\n"
     ]
    }
   ],
   "source": [
    "# Experiment Below\n",
    "\n",
    "# Ordinary Regression\n",
    "import statsmodels.api as sm\n",
    "import statsmodels.formula.api as smf\n",
    "\n",
    "model_test=sm.OLS#sm.regression.quantile_regression.QuantReg#sm.OLS\n",
    "test_X = sm.add_constant(coord_X)\n",
    "\n",
    "max_iter=100000\n",
    "q=0.5\n",
    "vcov=\"iid\"\n",
    "kernel=\"cos\"\n",
    "\n",
    "print(\"significance @ 0.05/3 = 0.02 after Bonferroni correction for 3 tests (eq, fluency, sync)\")\n",
    "print()\n",
    "print()\n",
    "print(\"~~~~~~~~~~~~~~~~~~~~~~~ Synchrony Coordination Test ~~~~~~~~~~~~~~~~~~~~~~~\")\n",
    "model = model_test(reliable_convqs, test_X.loc[:,final_mag_sync_features])\n",
    "results = model.fit(max_iter=max_iter, q=q, vcov=vcov, kernel=kernel)\n",
    "print(results.summary())\n",
    "\n",
    "print()\n",
    "print()\n",
    "\n",
    "print(\"~~~~~~~~~~~~~~~~~~~~~~~ Convergence Coordination Test ~~~~~~~~~~~~~~~~~~~~~~~\")\n",
    "model = model_test(reliable_convqs, test_X.loc[:,final_mag_conv_features])\n",
    "results = model.fit(max_iter=max_iter, q=q, vcov=vcov, kernel=kernel)\n",
    "print(results.summary())\n",
    "print()\n",
    "print()\n",
    "\n",
    "print(\"~~~~~~~~~~~~~~~~~~~~~~~ Led Mimicry Coordination Test ~~~~~~~~~~~~~~~~~~~~~~~\")\n",
    "model = model_test(reliable_convqs, test_X.loc[:,final_mag_mimi_led_features])\n",
    "results = model.fit(max_iter=max_iter, q=q, vcov=vcov, kernel=kernel)\n",
    "print(results.summary())\n",
    "print()\n",
    "print()\n",
    "\n",
    "print(\"~~~~~~~~~~~~~~~~~~~~~~~ Lag Mimicry Coordination Test ~~~~~~~~~~~~~~~~~~~~~~~\")\n",
    "model = model_test(reliable_convqs, test_X.loc[:,final_mag_mimi_lag_features])\n",
    "results = model.fit(max_iter=max_iter, q=q, vcov=vcov, kernel=kernel)\n",
    "print(results.summary())\n",
    "print()\n",
    "print()\n",
    "\n",
    "print(\"~~~~~~~~~~~~~~~~~~~~~~~ Causality Coordination Test ~~~~~~~~~~~~~~~~~~~~~~~\")\n",
    "model = model_test(reliable_convqs, test_X.loc[:,final_mag_caus_features])\n",
    "results = model.fit(max_iter=max_iter, q=q, vcov=vcov, kernel=kernel)\n",
    "print(results.summary())\n",
    "print()\n",
    "print()"
   ]
  },
  {
   "cell_type": "code",
   "execution_count": null,
   "metadata": {},
   "outputs": [],
   "source": []
  }
 ],
 "metadata": {
  "kernelspec": {
   "display_name": "Python 3",
   "language": "python",
   "name": "python3"
  },
  "language_info": {
   "codemirror_mode": {
    "name": "ipython",
    "version": 3
   },
   "file_extension": ".py",
   "mimetype": "text/x-python",
   "name": "python",
   "nbconvert_exporter": "python",
   "pygments_lexer": "ipython3",
   "version": "3.7.5"
  }
 },
 "nbformat": 4,
 "nbformat_minor": 4
}
