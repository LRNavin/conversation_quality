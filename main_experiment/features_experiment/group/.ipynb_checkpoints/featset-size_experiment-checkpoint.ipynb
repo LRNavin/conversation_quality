{
 "cells": [
  {
   "cell_type": "code",
   "execution_count": 1,
   "metadata": {},
   "outputs": [],
   "source": [
    "# Model Experiments - Features Sets\n",
    "\n",
    "# Model - Logistic Reg, Log Loss + Elastic Regularisation + SGD\n",
    "# Features -\n",
    "#     * All Channels - Raw, Abs, Mag (8)\n",
    "#     * All Windows  - 0\n",
    "#     * All Indiv    - nil\n",
    "#     * All Pairwise -\n",
    "#            - Synch - Correl, lag-Correl, MI, mimicry, Coherence and Granger's\n",
    "#            - Convr - Sym.Conv, Asym.Conv, Glob.Conv\n",
    "#     * All GroupFeat-\n",
    "#            - Aggreagtion - Min, Max, Mean, Mode, Var\n",
    "#            \n",
    "# Evaluation - Acc, Conf.Matrix, AUC, Precision, Recall,"
   ]
  },
  {
   "cell_type": "code",
   "execution_count": 2,
   "metadata": {},
   "outputs": [],
   "source": [
    "import sys  \n",
    "sys.path.insert(0, '/Users/navinlr/Desktop/Thesis/code_base/conversation_quality')"
   ]
  },
  {
   "cell_type": "code",
   "execution_count": 3,
   "metadata": {},
   "outputs": [
    {
     "name": "stdout",
     "output_type": "stream",
     "text": [
      "Total Groups = 115\n"
     ]
    },
    {
     "name": "stderr",
     "output_type": "stream",
     "text": [
      "/Users/navinlr/opt/anaconda3/envs/conversation_quality/lib/python3.7/site-packages/outdated/utils.py:18: OutdatedPackageWarning: The package pingouin is out of date. Your version is 0.3.4, the latest is 0.3.5.\n",
      "Set the environment variable OUTDATED_IGNORE=1 to disable these warnings.\n",
      "  **kwargs\n",
      "/Users/navinlr/opt/anaconda3/envs/conversation_quality/lib/python3.7/site-packages/lightgbm/__init__.py:48: UserWarning: Starting from version 2.2.1, the library file in distribution wheels for macOS is built by the Apple Clang (Xcode_8.3.3) compiler.\n",
      "This means that in case of installing LightGBM from PyPI via the ``pip install lightgbm`` command, you don't need to install the gcc compiler anymore.\n",
      "Instead of that, you need to install the OpenMP library, which is required for running LightGBM on the system with the Apple Clang compiler.\n",
      "You can install the OpenMP library by the following command: ``brew install libomp``.\n",
      "  \"You can install the OpenMP library by the following command: ``brew install libomp``.\", UserWarning)\n",
      "Using TensorFlow backend.\n"
     ]
    }
   ],
   "source": [
    "from modeling import dataset_provider as data_gen\n",
    "from feature_extract import turntake_extractor as tt_extractor\n",
    "import feature_namer_script as feat_namers\n",
    "import constants\n",
    "\n",
    "from sklearn.linear_model import LogisticRegression, LinearRegression, ElasticNet, SGDClassifier\n",
    "from sklearn.ensemble import AdaBoostClassifier, RandomForestClassifier, GradientBoostingRegressor\n",
    "from sklearn.model_selection import train_test_split\n",
    "from sklearn.metrics import confusion_matrix, roc_curve, accuracy_score, mean_squared_error, roc_auc_score, r2_score, explained_variance_score\n",
    "from sklearn.decomposition import PCA\n",
    "from sklearn.feature_selection import f_classif\n",
    "from sklearn.preprocessing import StandardScaler, MinMaxScaler\n",
    "from sklearn.model_selection import StratifiedKFold\n",
    "from sklearn.metrics import plot_roc_curve\n",
    "from sklearn.feature_selection import SelectKBest, SelectFromModel, RFE, chi2\n",
    "from lightgbm import LGBMClassifier\n",
    "from imblearn import under_sampling \n",
    "from imblearn import over_sampling\n",
    "from sklearn.metrics import auc\n",
    "from imblearn.over_sampling import SMOTE, ADASYN\n",
    "import matplotlib.pyplot as plt\n",
    "from sklearn.manifold import TSNE\n",
    "from sklearn.tree import DecisionTreeClassifier\n",
    "from sklearn.svm import SVC\n",
    "from scipy import stats\n",
    "import seaborn as sns; sns.set()\n",
    "\n",
    "import numpy as np\n",
    "import pandas as pd\n",
    "sns.set(rc={'figure.figsize':(11.7,8.27)})"
   ]
  },
  {
   "cell_type": "code",
   "execution_count": 4,
   "metadata": {},
   "outputs": [],
   "source": [
    "# Variables for baseline\n",
    "random_seed=44\n",
    "manifest=\"group\"\n",
    "data_split_per=.40\n",
    "missing_data_thresh=50.0 #(in percent)\n",
    "convq_thresh=3.0\n",
    "agreeability_thresh=.2\n",
    "annotators=[\"Divya\", \"Nakul\"]#, \"Swathi\"]\n",
    "only_involved_pairs=True\n",
    "use_tt_features=False\n",
    "splits = 5\n",
    "store_file=constants.indiv_tt_X_path\n",
    "if manifest==\"group\":\n",
    "    smote_nn = 2\n",
    "    tt_features = [\"var_#turn\", \"var_dturn\", \"conv_eq\", \"mean_silence\", \"%silence\", \"#bc\", \"%overlap\", \"#suc_interupt\", \"#un_interupt\"]\n",
    "else:\n",
    "    smote_nn = 6\n",
    "    tt_features = [\"conv_eq\", \"#turns\", \"%talk\", \"mean_turn\", \"mean_silence\", \"%silence\", \"#bc\", \"%overlap\", \"#suc_interupt\", \"#un_interupt\"]\n",
    "\n",
    "\n",
    "label_type = \"hard\"\n",
    "model_type = \"log-elastic\"\n",
    "feat_sel = \"anova\"\n",
    "zero_mean  = False\n",
    "\n",
    "datasets=[constants.features_dataset_path_v7,\n",
    "          constants.features_dataset_path_v13,\n",
    "          \"tt-manifest\"]\n",
    "dataset_feat=[feat_namers.get_feature_names_for_dataset_7,\n",
    "              feat_namers.get_feature_names_for_dataset_13,\n",
    "              feat_namers.get_feature_names_for_tt]"
   ]
  },
  {
   "cell_type": "code",
   "execution_count": 5,
   "metadata": {},
   "outputs": [],
   "source": [
    "# Functions \n",
    "def over_sample_data(temp_X, temp_y, method=\"SMOTE\", k_neighbors=6):\n",
    "    if method == \"SMOTE\":\n",
    "        temp_X, temp_y = SMOTE(k_neighbors=k_neighbors-1, random_state=random_seed).fit_resample(temp_X, temp_y)\n",
    "    return temp_X, temp_y\n",
    "\n",
    "def feature_normalize(temp_X, method=\"min-max\"):\n",
    "    # Fit on training set only.\n",
    "    if method == \"min-max\":\n",
    "        normaliser = MinMaxScaler().fit(temp_X)\n",
    "    elif method == \"mean-var\":\n",
    "        normaliser = StandardScaler().fit(temp_X)\n",
    "    return normaliser\n",
    "    \n",
    "def feature_selection(temp_X, temp_y, method=\"anova\", num_feats=None):\n",
    "    top_features = []\n",
    "    if method == \"anova\":\n",
    "        f_values, p_values = f_classif(temp_X, temp_y)\n",
    "        threshold=np.median(np.absolute(np.array(f_values)))*num_feats\n",
    "        top_features=np.where(np.absolute(np.array(f_values)) >= threshold)[0]\n",
    "#         top_features=np.where(np.absolute(np.array(p_values)) <= 0.5)[0]\n",
    "    elif method == \"tree-based\":\n",
    "        sel_model = SelectFromModel(RandomForestClassifier(n_estimators=100, class_weight='balanced'),\n",
    "                                    max_features=num_feats, threshold=-np.inf).fit(temp_X, temp_y)\n",
    "        top_features = sel_model.get_support(True)\n",
    "    elif method == \"rec-elim\":\n",
    "        sel_model = RFE(estimator=LogisticRegression(solver='lbfgs', max_iter=1000, class_weight='balanced'),\n",
    "                        n_features_to_select=num_feats, step=10000).fit(temp_X, temp_y)\n",
    "        top_features = sel_model.get_support(True)\n",
    "    elif method == \"lgbc\":\n",
    "        lgbc = LGBMClassifier(n_estimators=1000, learning_rate=0.05)\n",
    "        sel_model = SelectFromModel(lgbc, max_features=num_feats, threshold=-np.inf).fit(temp_X, temp_y)\n",
    "        top_features = sel_model.get_support(True)\n",
    "\n",
    "    return top_features\n",
    "\n",
    "def select_required_features(temp_X, required_feats, method=\"anova\"):\n",
    "    if method == \"anova\":\n",
    "        temp_X=temp_X[:,required_feats]\n",
    "#     elif method\n",
    "    return temp_X\n",
    "\n",
    "def dimension_reduction(temp_X, method=\"pca\", threshold_var=0.95):\n",
    "    dim_red_model = None\n",
    "    if method==\"pca\":\n",
    "        dim_red_model = PCA(threshold_var).fit(temp_X)\n",
    "    elif method==\"tsne\":\n",
    "        dim_red_model = TSNE(n_components=2).fit(temp_X)\n",
    "    return dim_red_model\n",
    "    \n",
    "def process_convq_labels(y, label_type=\"soft\"):\n",
    "    print(\"Data-type of labels - \" + str(type(y)))\n",
    "    if label_type==\"soft\":\n",
    "        y=list(np.around(np.array(y),2))\n",
    "    else:\n",
    "        y=list(np.where(np.array(y) <= convq_thresh, 0, 1))\n",
    "        print(\"ConvQ Classes Distribution : (Total = \"+ str(len(y)) +\")\")\n",
    "        print(\"High Quality Conv = \" + str(sum(y)))\n",
    "        print(\"Low Quality Conv = \" + str(len(y)-sum(y)))\n",
    "    return y\n",
    "\n",
    "def model_convq_manifestation(temp_X, temp_y, model=\"log-reg\", fit=True):\n",
    "    \n",
    "    if fit:\n",
    "        if model == \"log-reg\":\n",
    "            model = LogisticRegression(solver='lbfgs', max_iter=1000, class_weight='balanced').fit(temp_X, temp_y)\n",
    "        elif model == \"lin-reg\":\n",
    "            model = LinearRegression().fit(temp_X, temp_y)\n",
    "        elif model == \"adaboost\":\n",
    "            model = AdaBoostClassifier(n_estimators=500).fit(temp_X, temp_y)\n",
    "        elif model == \"dec-tree\":\n",
    "            model = DecisionTreeClassifier(class_weight='balanced').fit(temp_X, temp_y)\n",
    "        elif model == \"rand-for\":\n",
    "            model = RandomForestClassifier(n_estimators=1000, class_weight='balanced').fit(temp_X, temp_y)\n",
    "        elif model == \"svm\":\n",
    "            model = SVC(kernel='poly').fit(temp_X, temp_y)\n",
    "        elif model == \"log-elastic\":\n",
    "            model = SGDClassifier(loss=\"log\", class_weight=\"balanced\", penalty=\"elasticnet\",\n",
    "                                  learning_rate='adaptive', eta0=0.001,\n",
    "                                  max_iter=10000).fit(temp_X, temp_y)\n",
    "        elif model == \"grad-boost-quant\":\n",
    "            model = GradientBoostingRegressor(loss='quantile',n_estimators=1000).fit(temp_X, temp_y)\n",
    "    else:\n",
    "        if model == \"log-reg\":\n",
    "            model = LogisticRegression(solver='lbfgs', max_iter=1000, class_weight='balanced')\n",
    "        elif model == \"lin-reg\":\n",
    "            model = LinearRegression()\n",
    "        elif model == \"adaboost\":\n",
    "            model = AdaBoostClassifier(n_estimators=500)\n",
    "        elif model == \"dec-tree\":\n",
    "            model = DecisionTreeClassifier(class_weight='balanced')\n",
    "        elif model == \"rand-for\":\n",
    "            model = RandomForestClassifier(n_estimators=1000, class_weight='balanced')\n",
    "        elif model == \"svm\":\n",
    "            model = SVC(kernel='poly')\n",
    "        elif model == \"log-elastic\":\n",
    "            model = SGDClassifier(loss=\"log\", max_iter=10000, class_weight='balanced')\n",
    "        elif model == \"grad-boost-quant\":\n",
    "            model = GradientBoostingRegressor(loss='quantile',n_estimators=1000)\n",
    "    return model\n",
    "\n",
    "def get_model_predict_proba(temp_X, model):\n",
    "    return model.predict_proba(temp_X)[::,1]\n",
    "\n",
    "def analyse_model_params(model):\n",
    "    return True\n",
    "\n",
    "def test_model(temp_X, model):\n",
    "    return model.predict(temp_X)\n",
    "\n",
    "def evaluate_predict(test_temp_y, predict_temp_y, method=accuracy_score):\n",
    "    score = method(test_temp_y, predict_temp_y)\n",
    "    return score"
   ]
  },
  {
   "cell_type": "code",
   "execution_count": 6,
   "metadata": {},
   "outputs": [],
   "source": [
    "# Experiment List\n",
    "experiments=[\"Turn-Taking \\n Features\", \"Synchrony \\n Features\",\n",
    "             \"Convergence \\n Features\", \n",
    "             \"Synchrony + \\n Convergence\",\n",
    "             \"Causality \\n Features\",\n",
    "             \"Synchrony + \\n Convergence \\n + Causality \\n (Body Coordination)\",\n",
    "             \"Turn-Taking + \\n Body Coordination\", \n",
    "             \"Turn-Taking + \\n Synchrony + \\n Convergence\"]"
   ]
  },
  {
   "cell_type": "code",
   "execution_count": 7,
   "metadata": {},
   "outputs": [
    {
     "name": "stdout",
     "output_type": "stream",
     "text": [
      "Generating Dataset for modeling - group ConvQ, ...........\n",
      "Number of Groups (After removing missing data) - 85\n",
      "ZERO-MEAN Technique ? - False\n",
      "ZERO-MEAN Technique ? - False\n"
     ]
    },
    {
     "name": "stderr",
     "output_type": "stream",
     "text": [
      "21it [00:00, 206.78it/s]"
     ]
    },
    {
     "name": "stdout",
     "output_type": "stream",
     "text": [
      "Number of Final Data-points (After removing unreliable annotation data) - 58\n",
      "Dataset for modeling ConvQ Generated !!!!!!\n"
     ]
    },
    {
     "name": "stderr",
     "output_type": "stream",
     "text": [
      "58it [00:00, 206.19it/s]\n"
     ]
    },
    {
     "name": "stdout",
     "output_type": "stream",
     "text": [
      "Total #Features = 756\n",
      "Current Feature Set - (58, 756)\n",
      "Generating Dataset for modeling - group ConvQ, ...........\n",
      "Number of Groups (After removing missing data) - 85\n",
      "ZERO-MEAN Technique ? - False\n",
      "ZERO-MEAN Technique ? - False\n"
     ]
    },
    {
     "name": "stderr",
     "output_type": "stream",
     "text": [
      "58it [00:00, 853.67it/s]\n",
      "  0%|          | 0/58 [00:00<?, ?it/s]"
     ]
    },
    {
     "name": "stdout",
     "output_type": "stream",
     "text": [
      "Number of Final Data-points (After removing unreliable annotation data) - 58\n",
      "Dataset for modeling ConvQ Generated !!!!!!\n",
      "Total #Features = 126\n",
      "Current Feature Set - (58, 882)\n",
      "For Sample ->>>> 1_005\n"
     ]
    },
    {
     "name": "stderr",
     "output_type": "stream",
     "text": [
      "\r",
      "  2%|▏         | 1/58 [00:01<01:52,  1.98s/it]"
     ]
    },
    {
     "name": "stdout",
     "output_type": "stream",
     "text": [
      "For Sample ->>>> 1_018\n"
     ]
    },
    {
     "name": "stderr",
     "output_type": "stream",
     "text": [
      "\r",
      "  3%|▎         | 2/58 [00:03<01:34,  1.69s/it]"
     ]
    },
    {
     "name": "stdout",
     "output_type": "stream",
     "text": [
      "For Sample ->>>> 1_030\n"
     ]
    },
    {
     "name": "stderr",
     "output_type": "stream",
     "text": [
      "\r",
      "  5%|▌         | 3/58 [00:04<01:21,  1.49s/it]"
     ]
    },
    {
     "name": "stdout",
     "output_type": "stream",
     "text": [
      "For Sample ->>>> 1_033\n"
     ]
    },
    {
     "name": "stderr",
     "output_type": "stream",
     "text": [
      "\r",
      "  7%|▋         | 4/58 [00:05<01:12,  1.34s/it]"
     ]
    },
    {
     "name": "stdout",
     "output_type": "stream",
     "text": [
      "For Sample ->>>> 1_034\n"
     ]
    },
    {
     "name": "stderr",
     "output_type": "stream",
     "text": [
      "\r",
      "  9%|▊         | 5/58 [00:06<01:11,  1.35s/it]"
     ]
    },
    {
     "name": "stdout",
     "output_type": "stream",
     "text": [
      "For Sample ->>>> 1_035\n"
     ]
    },
    {
     "name": "stderr",
     "output_type": "stream",
     "text": [
      "\r",
      " 10%|█         | 6/58 [00:07<01:11,  1.37s/it]"
     ]
    },
    {
     "name": "stdout",
     "output_type": "stream",
     "text": [
      "For Sample ->>>> 1_047\n"
     ]
    },
    {
     "name": "stderr",
     "output_type": "stream",
     "text": [
      "\r",
      " 12%|█▏        | 7/58 [00:08<01:04,  1.26s/it]"
     ]
    },
    {
     "name": "stdout",
     "output_type": "stream",
     "text": [
      "For Sample ->>>> 1_060\n"
     ]
    },
    {
     "name": "stderr",
     "output_type": "stream",
     "text": [
      "\r",
      " 14%|█▍        | 8/58 [00:10<01:05,  1.31s/it]"
     ]
    },
    {
     "name": "stdout",
     "output_type": "stream",
     "text": [
      "For Sample ->>>> 1_061\n"
     ]
    },
    {
     "name": "stderr",
     "output_type": "stream",
     "text": [
      "\r",
      " 16%|█▌        | 9/58 [00:11<01:00,  1.23s/it]"
     ]
    },
    {
     "name": "stdout",
     "output_type": "stream",
     "text": [
      "For Sample ->>>> 1_062\n"
     ]
    },
    {
     "name": "stderr",
     "output_type": "stream",
     "text": [
      "\r",
      " 17%|█▋        | 10/58 [00:13<01:19,  1.66s/it]"
     ]
    },
    {
     "name": "stdout",
     "output_type": "stream",
     "text": [
      "For Sample ->>>> 1_066\n"
     ]
    },
    {
     "name": "stderr",
     "output_type": "stream",
     "text": [
      "\r",
      " 19%|█▉        | 11/58 [00:15<01:13,  1.57s/it]"
     ]
    },
    {
     "name": "stdout",
     "output_type": "stream",
     "text": [
      "For Sample ->>>> 1_067\n"
     ]
    },
    {
     "name": "stderr",
     "output_type": "stream",
     "text": [
      "\r",
      " 21%|██        | 12/58 [00:18<01:34,  2.05s/it]"
     ]
    },
    {
     "name": "stdout",
     "output_type": "stream",
     "text": [
      "For Sample ->>>> 1_068\n"
     ]
    },
    {
     "name": "stderr",
     "output_type": "stream",
     "text": [
      "\r",
      " 22%|██▏       | 13/58 [00:20<01:38,  2.19s/it]"
     ]
    },
    {
     "name": "stdout",
     "output_type": "stream",
     "text": [
      "For Sample ->>>> 1_069\n"
     ]
    },
    {
     "name": "stderr",
     "output_type": "stream",
     "text": [
      "\r",
      " 24%|██▍       | 14/58 [00:22<01:23,  1.91s/it]"
     ]
    },
    {
     "name": "stdout",
     "output_type": "stream",
     "text": [
      "For Sample ->>>> 1_071\n"
     ]
    },
    {
     "name": "stderr",
     "output_type": "stream",
     "text": [
      "\r",
      " 26%|██▌       | 15/58 [00:24<01:26,  2.00s/it]"
     ]
    },
    {
     "name": "stdout",
     "output_type": "stream",
     "text": [
      "For Sample ->>>> 1_073\n"
     ]
    },
    {
     "name": "stderr",
     "output_type": "stream",
     "text": [
      "\r",
      " 28%|██▊       | 16/58 [00:25<01:09,  1.64s/it]"
     ]
    },
    {
     "name": "stdout",
     "output_type": "stream",
     "text": [
      "For Sample ->>>> 1_075\n"
     ]
    },
    {
     "name": "stderr",
     "output_type": "stream",
     "text": [
      "\r",
      " 29%|██▉       | 17/58 [00:26<00:59,  1.44s/it]"
     ]
    },
    {
     "name": "stdout",
     "output_type": "stream",
     "text": [
      "For Sample ->>>> 1_076\n"
     ]
    },
    {
     "name": "stderr",
     "output_type": "stream",
     "text": [
      "\r",
      " 31%|███       | 18/58 [00:27<00:54,  1.35s/it]"
     ]
    },
    {
     "name": "stdout",
     "output_type": "stream",
     "text": [
      "For Sample ->>>> 1_077\n"
     ]
    },
    {
     "name": "stderr",
     "output_type": "stream",
     "text": [
      "\r",
      " 33%|███▎      | 19/58 [00:28<00:52,  1.34s/it]"
     ]
    },
    {
     "name": "stdout",
     "output_type": "stream",
     "text": [
      "For Sample ->>>> 1_079\n"
     ]
    },
    {
     "name": "stderr",
     "output_type": "stream",
     "text": [
      "\r",
      " 34%|███▍      | 20/58 [00:29<00:45,  1.19s/it]"
     ]
    },
    {
     "name": "stdout",
     "output_type": "stream",
     "text": [
      "For Sample ->>>> 1_080\n"
     ]
    },
    {
     "name": "stderr",
     "output_type": "stream",
     "text": [
      "\r",
      " 36%|███▌      | 21/58 [00:30<00:41,  1.13s/it]"
     ]
    },
    {
     "name": "stdout",
     "output_type": "stream",
     "text": [
      "For Sample ->>>> 1_081\n"
     ]
    },
    {
     "name": "stderr",
     "output_type": "stream",
     "text": [
      "\r",
      " 38%|███▊      | 22/58 [00:31<00:38,  1.07s/it]"
     ]
    },
    {
     "name": "stdout",
     "output_type": "stream",
     "text": [
      "For Sample ->>>> 1_082\n"
     ]
    },
    {
     "name": "stderr",
     "output_type": "stream",
     "text": [
      "\r",
      " 40%|███▉      | 23/58 [00:32<00:38,  1.09s/it]"
     ]
    },
    {
     "name": "stdout",
     "output_type": "stream",
     "text": [
      "For Sample ->>>> 1_083\n"
     ]
    },
    {
     "name": "stderr",
     "output_type": "stream",
     "text": [
      "\r",
      " 41%|████▏     | 24/58 [00:33<00:36,  1.07s/it]"
     ]
    },
    {
     "name": "stdout",
     "output_type": "stream",
     "text": [
      "For Sample ->>>> 1_084\n"
     ]
    },
    {
     "name": "stderr",
     "output_type": "stream",
     "text": [
      "\r",
      " 43%|████▎     | 25/58 [00:34<00:34,  1.04s/it]"
     ]
    },
    {
     "name": "stdout",
     "output_type": "stream",
     "text": [
      "For Sample ->>>> 1_085\n"
     ]
    },
    {
     "name": "stderr",
     "output_type": "stream",
     "text": [
      "\r",
      " 45%|████▍     | 26/58 [00:35<00:31,  1.03it/s]"
     ]
    },
    {
     "name": "stdout",
     "output_type": "stream",
     "text": [
      "For Sample ->>>> 1_086\n"
     ]
    },
    {
     "name": "stderr",
     "output_type": "stream",
     "text": [
      "\r",
      " 47%|████▋     | 27/58 [00:37<00:36,  1.18s/it]"
     ]
    },
    {
     "name": "stdout",
     "output_type": "stream",
     "text": [
      "For Sample ->>>> 1_087\n"
     ]
    },
    {
     "name": "stderr",
     "output_type": "stream",
     "text": [
      "\r",
      " 48%|████▊     | 28/58 [00:41<01:00,  2.02s/it]"
     ]
    },
    {
     "name": "stdout",
     "output_type": "stream",
     "text": [
      "For Sample ->>>> 1_088\n"
     ]
    },
    {
     "name": "stderr",
     "output_type": "stream",
     "text": [
      "\r",
      " 50%|█████     | 29/58 [00:42<00:50,  1.73s/it]"
     ]
    },
    {
     "name": "stdout",
     "output_type": "stream",
     "text": [
      "For Sample ->>>> 1_089\n"
     ]
    },
    {
     "name": "stderr",
     "output_type": "stream",
     "text": [
      "\r",
      " 52%|█████▏    | 30/58 [00:43<00:47,  1.68s/it]"
     ]
    },
    {
     "name": "stdout",
     "output_type": "stream",
     "text": [
      "For Sample ->>>> 1_090\n"
     ]
    },
    {
     "name": "stderr",
     "output_type": "stream",
     "text": [
      "\r",
      " 53%|█████▎    | 31/58 [00:44<00:40,  1.51s/it]"
     ]
    },
    {
     "name": "stdout",
     "output_type": "stream",
     "text": [
      "For Sample ->>>> 2_006\n"
     ]
    },
    {
     "name": "stderr",
     "output_type": "stream",
     "text": [
      "\r",
      " 55%|█████▌    | 32/58 [00:47<00:47,  1.83s/it]"
     ]
    },
    {
     "name": "stdout",
     "output_type": "stream",
     "text": [
      "For Sample ->>>> 2_009\n"
     ]
    },
    {
     "name": "stderr",
     "output_type": "stream",
     "text": [
      "\r",
      " 57%|█████▋    | 33/58 [00:48<00:38,  1.55s/it]"
     ]
    },
    {
     "name": "stdout",
     "output_type": "stream",
     "text": [
      "For Sample ->>>> 2_022\n"
     ]
    },
    {
     "name": "stderr",
     "output_type": "stream",
     "text": [
      "\r",
      " 59%|█████▊    | 34/58 [00:49<00:33,  1.40s/it]"
     ]
    },
    {
     "name": "stdout",
     "output_type": "stream",
     "text": [
      "For Sample ->>>> 2_036\n"
     ]
    },
    {
     "name": "stderr",
     "output_type": "stream",
     "text": [
      "\r",
      " 60%|██████    | 35/58 [00:51<00:37,  1.62s/it]"
     ]
    },
    {
     "name": "stdout",
     "output_type": "stream",
     "text": [
      "For Sample ->>>> 2_038\n"
     ]
    },
    {
     "name": "stderr",
     "output_type": "stream",
     "text": [
      "\r",
      " 62%|██████▏   | 36/58 [00:52<00:34,  1.56s/it]"
     ]
    },
    {
     "name": "stdout",
     "output_type": "stream",
     "text": [
      "For Sample ->>>> 2_056\n"
     ]
    },
    {
     "name": "stderr",
     "output_type": "stream",
     "text": [
      "\r",
      " 64%|██████▍   | 37/58 [00:54<00:30,  1.47s/it]"
     ]
    },
    {
     "name": "stdout",
     "output_type": "stream",
     "text": [
      "For Sample ->>>> 2_057\n"
     ]
    },
    {
     "name": "stderr",
     "output_type": "stream",
     "text": [
      "\r",
      " 66%|██████▌   | 38/58 [00:55<00:28,  1.41s/it]"
     ]
    },
    {
     "name": "stdout",
     "output_type": "stream",
     "text": [
      "For Sample ->>>> 2_060\n"
     ]
    },
    {
     "name": "stderr",
     "output_type": "stream",
     "text": [
      "\r",
      " 67%|██████▋   | 39/58 [00:57<00:32,  1.72s/it]"
     ]
    },
    {
     "name": "stdout",
     "output_type": "stream",
     "text": [
      "For Sample ->>>> 2_064\n"
     ]
    },
    {
     "name": "stderr",
     "output_type": "stream",
     "text": [
      "\r",
      " 69%|██████▉   | 40/58 [00:59<00:30,  1.70s/it]"
     ]
    },
    {
     "name": "stdout",
     "output_type": "stream",
     "text": [
      "For Sample ->>>> 2_066\n"
     ]
    },
    {
     "name": "stderr",
     "output_type": "stream",
     "text": [
      "\r",
      " 71%|███████   | 41/58 [01:00<00:25,  1.49s/it]"
     ]
    },
    {
     "name": "stdout",
     "output_type": "stream",
     "text": [
      "For Sample ->>>> 2_067\n"
     ]
    },
    {
     "name": "stderr",
     "output_type": "stream",
     "text": [
      "\r",
      " 72%|███████▏  | 42/58 [01:01<00:21,  1.37s/it]"
     ]
    },
    {
     "name": "stdout",
     "output_type": "stream",
     "text": [
      "For Sample ->>>> 2_069\n"
     ]
    },
    {
     "name": "stderr",
     "output_type": "stream",
     "text": [
      "\r",
      " 74%|███████▍  | 43/58 [01:02<00:18,  1.21s/it]"
     ]
    },
    {
     "name": "stdout",
     "output_type": "stream",
     "text": [
      "For Sample ->>>> 3_006\n"
     ]
    },
    {
     "name": "stderr",
     "output_type": "stream",
     "text": [
      "\r",
      " 76%|███████▌  | 44/58 [01:03<00:17,  1.25s/it]"
     ]
    },
    {
     "name": "stdout",
     "output_type": "stream",
     "text": [
      "For Sample ->>>> 3_007\n"
     ]
    },
    {
     "name": "stderr",
     "output_type": "stream",
     "text": [
      "\r",
      " 78%|███████▊  | 45/58 [01:04<00:15,  1.18s/it]"
     ]
    },
    {
     "name": "stdout",
     "output_type": "stream",
     "text": [
      "For Sample ->>>> 3_021\n"
     ]
    },
    {
     "name": "stderr",
     "output_type": "stream",
     "text": [
      "\r",
      " 79%|███████▉  | 46/58 [01:05<00:13,  1.14s/it]"
     ]
    },
    {
     "name": "stdout",
     "output_type": "stream",
     "text": [
      "For Sample ->>>> 3_029\n"
     ]
    },
    {
     "name": "stderr",
     "output_type": "stream",
     "text": [
      "\r",
      " 81%|████████  | 47/58 [01:07<00:14,  1.29s/it]"
     ]
    },
    {
     "name": "stdout",
     "output_type": "stream",
     "text": [
      "For Sample ->>>> 3_031\n"
     ]
    },
    {
     "name": "stderr",
     "output_type": "stream",
     "text": [
      "\r",
      " 83%|████████▎ | 48/58 [01:08<00:12,  1.25s/it]"
     ]
    },
    {
     "name": "stdout",
     "output_type": "stream",
     "text": [
      "For Sample ->>>> 3_033\n"
     ]
    },
    {
     "name": "stderr",
     "output_type": "stream",
     "text": [
      "\r",
      " 84%|████████▍ | 49/58 [01:09<00:10,  1.21s/it]"
     ]
    },
    {
     "name": "stdout",
     "output_type": "stream",
     "text": [
      "For Sample ->>>> 3_035\n"
     ]
    },
    {
     "name": "stderr",
     "output_type": "stream",
     "text": [
      "\r",
      " 86%|████████▌ | 50/58 [01:11<00:10,  1.28s/it]"
     ]
    },
    {
     "name": "stdout",
     "output_type": "stream",
     "text": [
      "For Sample ->>>> 3_041\n"
     ]
    },
    {
     "name": "stderr",
     "output_type": "stream",
     "text": [
      "\r",
      " 88%|████████▊ | 51/58 [01:12<00:09,  1.34s/it]"
     ]
    },
    {
     "name": "stdout",
     "output_type": "stream",
     "text": [
      "For Sample ->>>> 3_048\n"
     ]
    },
    {
     "name": "stderr",
     "output_type": "stream",
     "text": [
      "\r",
      " 90%|████████▉ | 52/58 [01:13<00:07,  1.20s/it]"
     ]
    },
    {
     "name": "stdout",
     "output_type": "stream",
     "text": [
      "For Sample ->>>> 3_050\n"
     ]
    },
    {
     "name": "stderr",
     "output_type": "stream",
     "text": [
      "\r",
      " 91%|█████████▏| 53/58 [01:14<00:05,  1.05s/it]"
     ]
    },
    {
     "name": "stdout",
     "output_type": "stream",
     "text": [
      "For Sample ->>>> 3_051\n"
     ]
    },
    {
     "name": "stderr",
     "output_type": "stream",
     "text": [
      "\r",
      " 93%|█████████▎| 54/58 [01:14<00:03,  1.07it/s]"
     ]
    },
    {
     "name": "stdout",
     "output_type": "stream",
     "text": [
      "For Sample ->>>> 3_058\n"
     ]
    },
    {
     "name": "stderr",
     "output_type": "stream",
     "text": [
      "\r",
      " 95%|█████████▍| 55/58 [01:15<00:02,  1.17it/s]"
     ]
    },
    {
     "name": "stdout",
     "output_type": "stream",
     "text": [
      "For Sample ->>>> 3_064\n"
     ]
    },
    {
     "name": "stderr",
     "output_type": "stream",
     "text": [
      "\r",
      " 97%|█████████▋| 56/58 [01:16<00:01,  1.25it/s]"
     ]
    },
    {
     "name": "stdout",
     "output_type": "stream",
     "text": [
      "For Sample ->>>> 3_065\n"
     ]
    },
    {
     "name": "stderr",
     "output_type": "stream",
     "text": [
      "\r",
      " 98%|█████████▊| 57/58 [01:16<00:00,  1.31it/s]"
     ]
    },
    {
     "name": "stdout",
     "output_type": "stream",
     "text": [
      "For Sample ->>>> 3_066\n"
     ]
    },
    {
     "name": "stderr",
     "output_type": "stream",
     "text": [
      "100%|██████████| 58/58 [01:17<00:00,  1.34s/it]"
     ]
    },
    {
     "name": "stdout",
     "output_type": "stream",
     "text": [
      "Current Feature Set - (58, 889)\n",
      "Data-type of labels - <class 'numpy.ndarray'>\n",
      "ConvQ Classes Distribution : (Total = 58)\n",
      "High Quality Conv = 55\n",
      "Low Quality Conv = 3\n"
     ]
    },
    {
     "name": "stderr",
     "output_type": "stream",
     "text": [
      "\n"
     ]
    }
   ],
   "source": [
    "# Data Read\n",
    "auc_experiment_dict={}\n",
    "X=[]\n",
    "feat_namer=[]\n",
    "for w, curr_dataset in enumerate(datasets):\n",
    "    \n",
    "    if \"tt\" in curr_dataset:\n",
    "        curr_X = tt_extractor.get_tt_dataset_feats_for(ids, tt_features, manifest)\n",
    "    else:\n",
    "        curr_X, y, ids = data_gen.get_dataset_for_experiment(dataset=curr_dataset,\n",
    "                                                            manifest=manifest,\n",
    "                                                            missing_data_thresh=missing_data_thresh,\n",
    "                                                            agreeability_thresh=agreeability_thresh,\n",
    "                                                            annotators=annotators,\n",
    "                                                            only_involved_pairs=only_involved_pairs,\n",
    "                                                            zero_mean=zero_mean)\n",
    "    \n",
    "    if len(X) == 0:\n",
    "        X=curr_X\n",
    "        feat_namer=dataset_feat[w](manifest)\n",
    "    else:\n",
    "        X=np.concatenate((X, curr_X), axis=1) \n",
    "        feat_namer.extend(dataset_feat[w](manifest))\n",
    "        \n",
    "    print(\"Current Feature Set - \" + str(X.shape))\n",
    "# Label Prep\n",
    "# Hard/Soft Labels\n",
    "y = process_convq_labels(y, label_type)"
   ]
  },
  {
   "cell_type": "code",
   "execution_count": 9,
   "metadata": {},
   "outputs": [
    {
     "name": "stdout",
     "output_type": "stream",
     "text": [
      "(58, 889)\n",
      "['conv_eq', '#turns', '%talk', 'mean_turn', 'mean_silence', '%silence', '#bc', '%overlap', '#suc_interupt', '#un_interupt']\n",
      "891\n"
     ]
    },
    {
     "ename": "ValueError",
     "evalue": "Shape of passed values is (58, 889), indices imply (58, 891)",
     "output_type": "error",
     "traceback": [
      "\u001b[0;31m---------------------------------------------------------------------------\u001b[0m",
      "\u001b[0;31mValueError\u001b[0m                                Traceback (most recent call last)",
      "\u001b[0;32m~/opt/anaconda3/envs/conversation_quality/lib/python3.7/site-packages/pandas/core/internals/managers.py\u001b[0m in \u001b[0;36mcreate_block_manager_from_blocks\u001b[0;34m(blocks, axes)\u001b[0m\n\u001b[1;32m   1653\u001b[0m                 blocks = [\n\u001b[0;32m-> 1654\u001b[0;31m                     \u001b[0mmake_block\u001b[0m\u001b[0;34m(\u001b[0m\u001b[0mvalues\u001b[0m\u001b[0;34m=\u001b[0m\u001b[0mblocks\u001b[0m\u001b[0;34m[\u001b[0m\u001b[0;36m0\u001b[0m\u001b[0;34m]\u001b[0m\u001b[0;34m,\u001b[0m \u001b[0mplacement\u001b[0m\u001b[0;34m=\u001b[0m\u001b[0mslice\u001b[0m\u001b[0;34m(\u001b[0m\u001b[0;36m0\u001b[0m\u001b[0;34m,\u001b[0m \u001b[0mlen\u001b[0m\u001b[0;34m(\u001b[0m\u001b[0maxes\u001b[0m\u001b[0;34m[\u001b[0m\u001b[0;36m0\u001b[0m\u001b[0;34m]\u001b[0m\u001b[0;34m)\u001b[0m\u001b[0;34m)\u001b[0m\u001b[0;34m)\u001b[0m\u001b[0;34m\u001b[0m\u001b[0;34m\u001b[0m\u001b[0m\n\u001b[0m\u001b[1;32m   1655\u001b[0m                 ]\n",
      "\u001b[0;32m~/opt/anaconda3/envs/conversation_quality/lib/python3.7/site-packages/pandas/core/internals/blocks.py\u001b[0m in \u001b[0;36mmake_block\u001b[0;34m(values, placement, klass, ndim, dtype)\u001b[0m\n\u001b[1;32m   3040\u001b[0m \u001b[0;34m\u001b[0m\u001b[0m\n\u001b[0;32m-> 3041\u001b[0;31m     \u001b[0;32mreturn\u001b[0m \u001b[0mklass\u001b[0m\u001b[0;34m(\u001b[0m\u001b[0mvalues\u001b[0m\u001b[0;34m,\u001b[0m \u001b[0mndim\u001b[0m\u001b[0;34m=\u001b[0m\u001b[0mndim\u001b[0m\u001b[0;34m,\u001b[0m \u001b[0mplacement\u001b[0m\u001b[0;34m=\u001b[0m\u001b[0mplacement\u001b[0m\u001b[0;34m)\u001b[0m\u001b[0;34m\u001b[0m\u001b[0;34m\u001b[0m\u001b[0m\n\u001b[0m\u001b[1;32m   3042\u001b[0m \u001b[0;34m\u001b[0m\u001b[0m\n",
      "\u001b[0;32m~/opt/anaconda3/envs/conversation_quality/lib/python3.7/site-packages/pandas/core/internals/blocks.py\u001b[0m in \u001b[0;36m__init__\u001b[0;34m(self, values, placement, ndim)\u001b[0m\n\u001b[1;32m    124\u001b[0m             raise ValueError(\n\u001b[0;32m--> 125\u001b[0;31m                 \u001b[0;34mf\"Wrong number of items passed {len(self.values)}, \"\u001b[0m\u001b[0;34m\u001b[0m\u001b[0;34m\u001b[0m\u001b[0m\n\u001b[0m\u001b[1;32m    126\u001b[0m                 \u001b[0;34mf\"placement implies {len(self.mgr_locs)}\"\u001b[0m\u001b[0;34m\u001b[0m\u001b[0;34m\u001b[0m\u001b[0m\n",
      "\u001b[0;31mValueError\u001b[0m: Wrong number of items passed 889, placement implies 891",
      "\nDuring handling of the above exception, another exception occurred:\n",
      "\u001b[0;31mValueError\u001b[0m                                Traceback (most recent call last)",
      "\u001b[0;32m<ipython-input-9-95c9eae8d2b6>\u001b[0m in \u001b[0;36m<module>\u001b[0;34m\u001b[0m\n\u001b[1;32m      2\u001b[0m \u001b[0mprint\u001b[0m\u001b[0;34m(\u001b[0m\u001b[0mtt_features\u001b[0m\u001b[0;34m)\u001b[0m\u001b[0;34m\u001b[0m\u001b[0;34m\u001b[0m\u001b[0m\n\u001b[1;32m      3\u001b[0m \u001b[0mprint\u001b[0m\u001b[0;34m(\u001b[0m\u001b[0mlen\u001b[0m\u001b[0;34m(\u001b[0m\u001b[0mfeat_namer\u001b[0m\u001b[0;34m)\u001b[0m\u001b[0;34m)\u001b[0m\u001b[0;34m\u001b[0m\u001b[0;34m\u001b[0m\u001b[0m\n\u001b[0;32m----> 4\u001b[0;31m \u001b[0mfeatures_df\u001b[0m\u001b[0;34m=\u001b[0m\u001b[0mpd\u001b[0m\u001b[0;34m.\u001b[0m\u001b[0mDataFrame\u001b[0m\u001b[0;34m(\u001b[0m\u001b[0mnp\u001b[0m\u001b[0;34m.\u001b[0m\u001b[0marray\u001b[0m\u001b[0;34m(\u001b[0m\u001b[0mX\u001b[0m\u001b[0;34m)\u001b[0m\u001b[0;34m,\u001b[0m \u001b[0mcolumns\u001b[0m\u001b[0;34m=\u001b[0m\u001b[0mfeat_namer\u001b[0m\u001b[0;34m)\u001b[0m\u001b[0;34m\u001b[0m\u001b[0;34m\u001b[0m\u001b[0m\n\u001b[0m",
      "\u001b[0;32m~/opt/anaconda3/envs/conversation_quality/lib/python3.7/site-packages/pandas/core/frame.py\u001b[0m in \u001b[0;36m__init__\u001b[0;34m(self, data, index, columns, dtype, copy)\u001b[0m\n\u001b[1;32m    462\u001b[0m                 \u001b[0mmgr\u001b[0m \u001b[0;34m=\u001b[0m \u001b[0minit_dict\u001b[0m\u001b[0;34m(\u001b[0m\u001b[0;34m{\u001b[0m\u001b[0mdata\u001b[0m\u001b[0;34m.\u001b[0m\u001b[0mname\u001b[0m\u001b[0;34m:\u001b[0m \u001b[0mdata\u001b[0m\u001b[0;34m}\u001b[0m\u001b[0;34m,\u001b[0m \u001b[0mindex\u001b[0m\u001b[0;34m,\u001b[0m \u001b[0mcolumns\u001b[0m\u001b[0;34m,\u001b[0m \u001b[0mdtype\u001b[0m\u001b[0;34m=\u001b[0m\u001b[0mdtype\u001b[0m\u001b[0;34m)\u001b[0m\u001b[0;34m\u001b[0m\u001b[0;34m\u001b[0m\u001b[0m\n\u001b[1;32m    463\u001b[0m             \u001b[0;32melse\u001b[0m\u001b[0;34m:\u001b[0m\u001b[0;34m\u001b[0m\u001b[0;34m\u001b[0m\u001b[0m\n\u001b[0;32m--> 464\u001b[0;31m                 \u001b[0mmgr\u001b[0m \u001b[0;34m=\u001b[0m \u001b[0minit_ndarray\u001b[0m\u001b[0;34m(\u001b[0m\u001b[0mdata\u001b[0m\u001b[0;34m,\u001b[0m \u001b[0mindex\u001b[0m\u001b[0;34m,\u001b[0m \u001b[0mcolumns\u001b[0m\u001b[0;34m,\u001b[0m \u001b[0mdtype\u001b[0m\u001b[0;34m=\u001b[0m\u001b[0mdtype\u001b[0m\u001b[0;34m,\u001b[0m \u001b[0mcopy\u001b[0m\u001b[0;34m=\u001b[0m\u001b[0mcopy\u001b[0m\u001b[0;34m)\u001b[0m\u001b[0;34m\u001b[0m\u001b[0;34m\u001b[0m\u001b[0m\n\u001b[0m\u001b[1;32m    465\u001b[0m \u001b[0;34m\u001b[0m\u001b[0m\n\u001b[1;32m    466\u001b[0m         \u001b[0;31m# For data is list-like, or Iterable (will consume into list)\u001b[0m\u001b[0;34m\u001b[0m\u001b[0;34m\u001b[0m\u001b[0;34m\u001b[0m\u001b[0m\n",
      "\u001b[0;32m~/opt/anaconda3/envs/conversation_quality/lib/python3.7/site-packages/pandas/core/internals/construction.py\u001b[0m in \u001b[0;36minit_ndarray\u001b[0;34m(values, index, columns, dtype, copy)\u001b[0m\n\u001b[1;32m    208\u001b[0m         \u001b[0mblock_values\u001b[0m \u001b[0;34m=\u001b[0m \u001b[0;34m[\u001b[0m\u001b[0mvalues\u001b[0m\u001b[0;34m]\u001b[0m\u001b[0;34m\u001b[0m\u001b[0;34m\u001b[0m\u001b[0m\n\u001b[1;32m    209\u001b[0m \u001b[0;34m\u001b[0m\u001b[0m\n\u001b[0;32m--> 210\u001b[0;31m     \u001b[0;32mreturn\u001b[0m \u001b[0mcreate_block_manager_from_blocks\u001b[0m\u001b[0;34m(\u001b[0m\u001b[0mblock_values\u001b[0m\u001b[0;34m,\u001b[0m \u001b[0;34m[\u001b[0m\u001b[0mcolumns\u001b[0m\u001b[0;34m,\u001b[0m \u001b[0mindex\u001b[0m\u001b[0;34m]\u001b[0m\u001b[0;34m)\u001b[0m\u001b[0;34m\u001b[0m\u001b[0;34m\u001b[0m\u001b[0m\n\u001b[0m\u001b[1;32m    211\u001b[0m \u001b[0;34m\u001b[0m\u001b[0m\n\u001b[1;32m    212\u001b[0m \u001b[0;34m\u001b[0m\u001b[0m\n",
      "\u001b[0;32m~/opt/anaconda3/envs/conversation_quality/lib/python3.7/site-packages/pandas/core/internals/managers.py\u001b[0m in \u001b[0;36mcreate_block_manager_from_blocks\u001b[0;34m(blocks, axes)\u001b[0m\n\u001b[1;32m   1662\u001b[0m         \u001b[0mblocks\u001b[0m \u001b[0;34m=\u001b[0m \u001b[0;34m[\u001b[0m\u001b[0mgetattr\u001b[0m\u001b[0;34m(\u001b[0m\u001b[0mb\u001b[0m\u001b[0;34m,\u001b[0m \u001b[0;34m\"values\"\u001b[0m\u001b[0;34m,\u001b[0m \u001b[0mb\u001b[0m\u001b[0;34m)\u001b[0m \u001b[0;32mfor\u001b[0m \u001b[0mb\u001b[0m \u001b[0;32min\u001b[0m \u001b[0mblocks\u001b[0m\u001b[0;34m]\u001b[0m\u001b[0;34m\u001b[0m\u001b[0;34m\u001b[0m\u001b[0m\n\u001b[1;32m   1663\u001b[0m         \u001b[0mtot_items\u001b[0m \u001b[0;34m=\u001b[0m \u001b[0msum\u001b[0m\u001b[0;34m(\u001b[0m\u001b[0mb\u001b[0m\u001b[0;34m.\u001b[0m\u001b[0mshape\u001b[0m\u001b[0;34m[\u001b[0m\u001b[0;36m0\u001b[0m\u001b[0;34m]\u001b[0m \u001b[0;32mfor\u001b[0m \u001b[0mb\u001b[0m \u001b[0;32min\u001b[0m \u001b[0mblocks\u001b[0m\u001b[0;34m)\u001b[0m\u001b[0;34m\u001b[0m\u001b[0;34m\u001b[0m\u001b[0m\n\u001b[0;32m-> 1664\u001b[0;31m         \u001b[0mconstruction_error\u001b[0m\u001b[0;34m(\u001b[0m\u001b[0mtot_items\u001b[0m\u001b[0;34m,\u001b[0m \u001b[0mblocks\u001b[0m\u001b[0;34m[\u001b[0m\u001b[0;36m0\u001b[0m\u001b[0;34m]\u001b[0m\u001b[0;34m.\u001b[0m\u001b[0mshape\u001b[0m\u001b[0;34m[\u001b[0m\u001b[0;36m1\u001b[0m\u001b[0;34m:\u001b[0m\u001b[0;34m]\u001b[0m\u001b[0;34m,\u001b[0m \u001b[0maxes\u001b[0m\u001b[0;34m,\u001b[0m \u001b[0me\u001b[0m\u001b[0;34m)\u001b[0m\u001b[0;34m\u001b[0m\u001b[0;34m\u001b[0m\u001b[0m\n\u001b[0m\u001b[1;32m   1665\u001b[0m \u001b[0;34m\u001b[0m\u001b[0m\n\u001b[1;32m   1666\u001b[0m \u001b[0;34m\u001b[0m\u001b[0m\n",
      "\u001b[0;32m~/opt/anaconda3/envs/conversation_quality/lib/python3.7/site-packages/pandas/core/internals/managers.py\u001b[0m in \u001b[0;36mconstruction_error\u001b[0;34m(tot_items, block_shape, axes, e)\u001b[0m\n\u001b[1;32m   1692\u001b[0m     \u001b[0;32mif\u001b[0m \u001b[0mblock_shape\u001b[0m\u001b[0;34m[\u001b[0m\u001b[0;36m0\u001b[0m\u001b[0;34m]\u001b[0m \u001b[0;34m==\u001b[0m \u001b[0;36m0\u001b[0m\u001b[0;34m:\u001b[0m\u001b[0;34m\u001b[0m\u001b[0;34m\u001b[0m\u001b[0m\n\u001b[1;32m   1693\u001b[0m         \u001b[0;32mraise\u001b[0m \u001b[0mValueError\u001b[0m\u001b[0;34m(\u001b[0m\u001b[0;34m\"Empty data passed with indices specified.\"\u001b[0m\u001b[0;34m)\u001b[0m\u001b[0;34m\u001b[0m\u001b[0;34m\u001b[0m\u001b[0m\n\u001b[0;32m-> 1694\u001b[0;31m     \u001b[0;32mraise\u001b[0m \u001b[0mValueError\u001b[0m\u001b[0;34m(\u001b[0m\u001b[0;34mf\"Shape of passed values is {passed}, indices imply {implied}\"\u001b[0m\u001b[0;34m)\u001b[0m\u001b[0;34m\u001b[0m\u001b[0;34m\u001b[0m\u001b[0m\n\u001b[0m\u001b[1;32m   1695\u001b[0m \u001b[0;34m\u001b[0m\u001b[0m\n\u001b[1;32m   1696\u001b[0m \u001b[0;34m\u001b[0m\u001b[0m\n",
      "\u001b[0;31mValueError\u001b[0m: Shape of passed values is (58, 889), indices imply (58, 891)"
     ]
    }
   ],
   "source": [
    "print(X.shape)\n",
    "print(tt_features)\n",
    "print(len(feat_namer))\n",
    "features_df=pd.DataFrame(np.array(X), columns=feat_namer)"
   ]
  },
  {
   "cell_type": "code",
   "execution_count": null,
   "metadata": {},
   "outputs": [],
   "source": [
    "# TT Gather\n",
    "tt_feats=[]\n",
    "for f in feat_namer:\n",
    "    if \"tt-\" in f or \"#un_interupt\" in f:\n",
    "        tt_feats.extend([f])\n",
    "\n",
    "# Sync Gather\n",
    "sync_feats=[]\n",
    "for f in feat_namer:\n",
    "    if \"corr-\" in f or \"mi-\" in f or \"mimicry-\" in f:\n",
    "        sync_feats.extend([f])\n",
    "\n",
    "# Conv Gather\n",
    "conv_feats=[]\n",
    "for f in feat_namer:\n",
    "    if \"conv-\" in f:\n",
    "        conv_feats.extend([f])\n",
    "\n",
    "#Sync + Conv\n",
    "sync_conv_feats=list(sync_feats)\n",
    "sync_conv_feats.extend(conv_feats)\n",
    "        \n",
    "# Caus Gather\n",
    "caus_feats=[]\n",
    "for f in feat_namer:\n",
    "    if \"granger-\" in f or \"coherence-\" in f:\n",
    "        caus_feats.extend([f])\n",
    "        \n",
    "# ALL-Sync Gather\n",
    "all_sync_feats=list(sync_feats)\n",
    "all_sync_feats.extend(conv_feats)\n",
    "all_sync_feats.extend(caus_feats)\n",
    "\n",
    "# Fuse Gather\n",
    "fused_feats=list(all_sync_feats)\n",
    "fused_feats.extend(tt_feats)\n",
    "\n",
    "# TT + Sync + Conv Gather\n",
    "b3_feats=list(sync_feats)\n",
    "b3_feats.extend(conv_feats)\n",
    "b3_feats.extend(tt_feats)\n",
    " \n",
    "print(\"Number of Turn-Taking Features = \" + str(len(tt_feats)))\n",
    "print(\"Number of Synchrony Features = \" + str(len(sync_feats)))\n",
    "print(\"Number of Convergence Features = \" + str(len(conv_feats)))\n",
    "print(\"Number of Synchrony + Convergence Features = \" + str(len(sync_conv_feats)))\n",
    "\n",
    "print(\"Number of Causality Features = \" + str(len(caus_feats)))\n",
    "\n",
    "print(\"Number of Coordination Features = \" + str(len(all_sync_feats)))\n",
    "\n",
    "print(\"Number of Fused Features = \" + str(len(fused_feats)))\n",
    "print(\"Number of Best 3 = \" + str(len(b3_feats)))\n",
    "\n",
    "\n",
    "feat_stack=[tt_feats,\n",
    "            sync_feats,\n",
    "            conv_feats,\n",
    "            sync_conv_feats,\n",
    "            caus_feats,\n",
    "            all_sync_feats,\n",
    "            fused_feats,\n",
    "            b3_feats]\n",
    "\n",
    "print(len(feat_stack))\n",
    "print(len(experiments))"
   ]
  },
  {
   "cell_type": "code",
   "execution_count": null,
   "metadata": {
    "scrolled": false
   },
   "outputs": [],
   "source": [
    "feat_sel_threshold=[0.5, 3, 3, 0.5, 3, 3, 3, 3]\n",
    "auc_experiment_dict={}\n",
    "\n",
    "for f, curr_stack in enumerate(feat_stack):\n",
    "#     print(features_df)\n",
    "    experiment_feats=curr_stack\n",
    "    \n",
    "    print()\n",
    "    print()\n",
    "    print(\"~~ !! @@ @@ @@ @@ Current Feature-Set = \" + str(experiments[f]) + \" ~~ !! @@ @@ @@ @@\")\n",
    "\n",
    "    final_conf_matrix = [[0,0],[0,0]]\n",
    "    final_auc_score = 0.0\n",
    "    final_r_squared = 0.0\n",
    "    final_expl_vari = 0.0\n",
    "    iterative_auc = 0.0\n",
    "    final_predict = []\n",
    "    final_pred_prob = []\n",
    "    final_label = []\n",
    "    cv_auc_scores = []\n",
    "\n",
    "\n",
    "    tprs = []\n",
    "    aucs = []\n",
    "    mean_fpr = np.linspace(0, 1, 100)\n",
    "\n",
    "    fig, ax = plt.subplots()\n",
    "\n",
    "    # Setup Features \n",
    "    X=features_df.loc[:,experiment_feats].values\n",
    "    \n",
    "    skf = StratifiedKFold(n_splits=5)\n",
    "    for i, (train_index, test_index) in enumerate(skf.split(X, y)):\n",
    "\n",
    "        # Data Prep\n",
    "        train_X, test_X  = X[train_index], X[test_index]\n",
    "        train_y, test_y  = [y[i] for i in train_index], [y[i] for i in test_index]\n",
    "\n",
    "        # Transform Features\n",
    "        normaliser = feature_normalize(train_X, method=\"mean-var\")\n",
    "        # Apply transform to both the training set and the test set.\n",
    "        train_X = normaliser.transform(train_X)\n",
    "        test_X  = normaliser.transform(test_X)\n",
    "\n",
    "        # Dimensionality Reduction\n",
    "        dimension_model = dimension_reduction(train_X, method=\"pca\")\n",
    "        train_X = dimension_model.transform(train_X)\n",
    "        test_X  = dimension_model.transform(test_X)\n",
    "\n",
    "        print(\"After \" + \"PCA\" + \" Feature Set - \" + str(train_X.shape))\n",
    "\n",
    "        # Feature Selection\n",
    "        top_features = feature_selection(train_X, train_y, method=feat_sel, num_feats=feat_sel_threshold[f])\n",
    "        train_X = select_required_features(train_X, top_features) \n",
    "        test_X  = select_required_features(test_X, top_features) \n",
    "\n",
    "        print(\"After \" + feat_sel + \" Feature Set - \" + str(train_X.shape))\n",
    "\n",
    "\n",
    "        # SAMPLING\n",
    "        train_X, train_y = over_sample_data(train_X, train_y, method=\"SMOTE\", k_neighbors=smote_nn)\n",
    "\n",
    "        print(\"Train Data -> Features - \" + str(train_X.shape) + \" and Labels - \" + str(len(train_y)))\n",
    "        print(\"Test  Data -> Features - \" + str(test_X.shape) + \" and Labels - \" + str(len(test_y)))\n",
    "        print(str(sum(train_y))) \n",
    "\n",
    "        # Modelling\n",
    "        classifier         = model_convq_manifestation(train_X, train_y, model_type, fit=True)        \n",
    "        predict_y          = test_model(test_X, classifier) \n",
    "\n",
    "\n",
    "        final_conf_matrix = final_conf_matrix + evaluate_predict(test_y, predict_y, confusion_matrix)\n",
    "\n",
    "        # CV ROC Plot\n",
    "        viz = plot_roc_curve(classifier, test_X, test_y,\n",
    "                         name='ROC fold {}'.format(i+1),\n",
    "                         alpha=0.3, lw=2, linestyle='--', color='b', ax=ax)\n",
    "        interp_tpr = np.interp(mean_fpr, viz.fpr, viz.tpr)\n",
    "        interp_tpr[0] = 0.0\n",
    "        tprs.append(interp_tpr)\n",
    "        aucs.append(viz.roc_auc)\n",
    "\n",
    "    ax.plot([0, 1], [0, 1], linestyle='--', lw=2, color='r',\n",
    "            label='Chance', alpha=.8)\n",
    "\n",
    "    mean_tpr = np.mean(tprs, axis=0)\n",
    "    mean_tpr[-1] = 1.0\n",
    "    mean_auc = auc(mean_fpr, mean_tpr)\n",
    "    std_auc = np.std(aucs)\n",
    "    ax.plot(mean_fpr, mean_tpr, color='cornflowerblue',\n",
    "            label=r'Mean ROC (AUC = %0.2f $\\pm$ %0.2f)' % (mean_auc, std_auc),\n",
    "            lw=4, alpha=1.0)\n",
    "\n",
    "    std_tpr = np.std(tprs, axis=0)\n",
    "    tprs_upper = np.minimum(mean_tpr + std_tpr, 1)\n",
    "    tprs_lower = np.maximum(mean_tpr - std_tpr, 0)\n",
    "    ax.fill_between(mean_fpr, tprs_lower, tprs_upper, color='grey', alpha=.1,\n",
    "                    label=r'$\\pm$ 1 std. dev.')\n",
    "\n",
    "    ax.set(xlim=[-0.05, 1.05], ylim=[-0.05, 1.05],\n",
    "           title=\"Receiver Operating Characteristic\")\n",
    "    ax.legend(loc=\"lower right\")\n",
    "    \n",
    "    plt.ylabel('True Positive Rate', fontsize=20)\n",
    "    plt.xlabel('False Positive Rate', fontsize=20)\n",
    "    plt.tick_params(labelsize=15)\n",
    "    \n",
    "    plt.show()\n",
    "\n",
    "    print(aucs)\n",
    "    auc_experiment_dict[experiments[f]]=aucs\n",
    "    print(\"~~~~~~~~~~~ Confusion Matrix ~~~~~~~~~~~\")\n",
    "    print(final_conf_matrix)"
   ]
  },
  {
   "cell_type": "code",
   "execution_count": null,
   "metadata": {},
   "outputs": [],
   "source": [
    "all_values=[]\n",
    "all_keys=[]\n",
    "print(len(auc_experiment_dict.keys()))\n",
    "print(len(experiments))\n",
    "for i, k in enumerate(auc_experiment_dict.keys()):\n",
    "    val=auc_experiment_dict[k]\n",
    "#     if i !=0:\n",
    "#         val=[x+.1 for x in val]\n",
    "    all_values.extend(val)\n",
    "    text=experiments[i]\n",
    "\n",
    "    all_keys.extend([text] * 5)\n",
    "\n",
    "experiment_results=pd.DataFrame(\n",
    "    {'values': all_values,\n",
    "     'type': all_keys\n",
    "    })"
   ]
  },
  {
   "cell_type": "code",
   "execution_count": null,
   "metadata": {},
   "outputs": [],
   "source": [
    "ax = sns.boxplot(x=\"type\", y=\"values\", data=experiment_results, palette=sns.light_palette(\"cornflowerblue\", reverse=True, n_colors=12))\n",
    "\n",
    "plt.ylabel('AUC Distrbution \\n (5 Fold Cross-Validation)', fontsize=20)\n",
    "plt.xlabel('Feature Set Type', fontsize=20)\n",
    "plt.tick_params(labelsize=12)\n",
    "\n",
    "# ax.plot(y=0.5, linestyle='--', lw=2, color='r', label='Chance', alpha=.8)\n",
    "\n",
    "plt.axhline(0.5, linestyle='--', lw=2, color='r', label='Chance', alpha=.8)\n",
    "\n",
    "# Might need to loop through the list if there are multiple lines on the plot\n",
    "# ax.lines[0].set_linestyle(\"--\")\n",
    "# plt.plot(0.5)\n",
    "plt.legend(loc=\"lower right\")\n",
    "\n",
    "\n",
    "plt.show()"
   ]
  },
  {
   "cell_type": "code",
   "execution_count": null,
   "metadata": {},
   "outputs": [],
   "source": []
  },
  {
   "cell_type": "code",
   "execution_count": null,
   "metadata": {},
   "outputs": [],
   "source": []
  }
 ],
 "metadata": {
  "kernelspec": {
   "display_name": "Python 3",
   "language": "python",
   "name": "python3"
  },
  "language_info": {
   "codemirror_mode": {
    "name": "ipython",
    "version": 3
   },
   "file_extension": ".py",
   "mimetype": "text/x-python",
   "name": "python",
   "nbconvert_exporter": "python",
   "pygments_lexer": "ipython3",
   "version": "3.7.5"
  }
 },
 "nbformat": 4,
 "nbformat_minor": 2
}
