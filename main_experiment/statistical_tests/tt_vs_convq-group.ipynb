{
 "cells": [
  {
   "cell_type": "code",
   "execution_count": 1,
   "metadata": {},
   "outputs": [],
   "source": [
    "import sys  \n",
    "sys.path.insert(0, '/Users/navinlr/Desktop/Thesis/code_base/conversation_quality')"
   ]
  },
  {
   "cell_type": "code",
   "execution_count": 2,
   "metadata": {},
   "outputs": [
    {
     "name": "stdout",
     "output_type": "stream",
     "text": [
      "Total Groups = 115\n"
     ]
    }
   ],
   "source": [
    "from dataset_creation import dataset_creator as data_generator\n",
    "from feature_extract import turntake_extractor as feat_extractor\n",
    "import constants\n",
    "\n",
    "import seaborn as sns\n",
    "import matplotlib.pyplot as plt\n",
    "import numpy as np\n",
    "import pandas as pd\n",
    "\n",
    "sns.set(rc={'figure.figsize':(11.7,8.27)})"
   ]
  },
  {
   "cell_type": "code",
   "execution_count": 3,
   "metadata": {},
   "outputs": [],
   "source": [
    "# TEST Variables\n",
    "agreeability_thresh=.2\n",
    "annotators=[\"Divya\", \"Nakul\"]#, \"Swathi\"]\n",
    "zero_mean = False\n",
    "from_store= True\n",
    "filter_missing_data=True\n",
    "transform_features=False\n",
    "indiv_missing_data=['1_018_35', '2_006_15', '2_006_33', '2_011_29', '2_036_35', '2_044_8', '2_044_30', '3_004_37', '3_007_11', '3_052_27', '3_052_28', '3_058_25', '3_060_1', '3_068_15']\n",
    "group_missing_data=['1_018', '2_006', '2_006', '2_011', '2_036', '2_044', '2_044', '3_004', '3_007', '3_052', '3_052', '3_058', '3_060', '3_068']\n",
    "\n",
    "manifest=\"group\"\n",
    "if manifest == \"indiv\":\n",
    "    features = [\"#turns\", \"%talk\", \"mean_turn\", \"mean_silence\", \"%silence\", \"#bc\", \"%overlap\", \"#suc_interupt\", \"#un_interupt\"]\n",
    "    store_file=constants.indiv_tt_X_path\n",
    "    missing_data=indiv_missing_data\n",
    "else:\n",
    "    features = [\"var_#turn\", \"var_dturn\", \"conv_eq\", \"mean_silence\", \"%silence\", \"#bc\", \"%overlap\", \"#suc_interupt\", \"#un_interupt\"]\n",
    "    store_file=constants.group_tt_X_path\n",
    "    missing_data=group_missing_data"
   ]
  },
  {
   "cell_type": "code",
   "execution_count": 4,
   "metadata": {},
   "outputs": [
    {
     "name": "stdout",
     "output_type": "stream",
     "text": [
      "ZERO-MEAN Technique ? - False\n",
      "ZERO-MEAN Technique ? - False\n",
      "Total Groups in Analysis - 81\n"
     ]
    }
   ],
   "source": [
    "# Annotation Reader\n",
    "reliable_ids, reliable_convqs, reliable_kappas = data_generator.get_annotation_realiable_labels(agreeability_thresh, manifest, annotators, zero_mean)\n",
    "print(\"Total Groups in Analysis - \" + str(len(reliable_ids)))"
   ]
  },
  {
   "cell_type": "code",
   "execution_count": 5,
   "metadata": {},
   "outputs": [],
   "source": [
    "# Get Turn-Taking feaures for IDs (group/ indiv)\n",
    "if from_store:\n",
    "    tt_X = pd.read_csv(store_file, sep=',', header=None).values\n",
    "#     tt_X.columns = features\n",
    "#     tt_X.set_index(reliable_ids)\n",
    "else:\n",
    "    tt_X = feat_extractor.get_tt_dataset_feats_for(reliable_ids, features, manifest)"
   ]
  },
  {
   "cell_type": "code",
   "execution_count": 6,
   "metadata": {},
   "outputs": [],
   "source": [
    "if not from_store:\n",
    "    # Save Dataset -- tt_X\n",
    "    np.savetxt(store_file, tt_X, delimiter=\",\")"
   ]
  },
  {
   "cell_type": "code",
   "execution_count": 7,
   "metadata": {},
   "outputs": [],
   "source": [
    "# Transform Features\n",
    "if transform_features:\n",
    "    from sklearn.preprocessing import StandardScaler\n",
    "    tt_X = StandardScaler().fit_transform(tt_X)\n",
    "    reliable_convqs = StandardScaler().fit_transform(np.array(reliable_convqs).reshape(-1, 1))"
   ]
  },
  {
   "cell_type": "code",
   "execution_count": 8,
   "metadata": {},
   "outputs": [],
   "source": [
    "# Get groups sizes (for indiv and group)\n",
    "group_sizes = data_generator.get_group_sizes_for_ids(reliable_ids, manifest)"
   ]
  },
  {
   "cell_type": "code",
   "execution_count": 9,
   "metadata": {},
   "outputs": [],
   "source": [
    "tt_X = pd.DataFrame(data=tt_X, index=reliable_ids, columns=features) \n",
    "tt_X[\"convq\"] = reliable_convqs\n",
    "tt_X[\"group_sizes\"] = group_sizes"
   ]
  },
  {
   "cell_type": "code",
   "execution_count": 10,
   "metadata": {
    "scrolled": true
   },
   "outputs": [
    {
     "name": "stdout",
     "output_type": "stream",
     "text": [
      "Before Filter: Feature Set -> (81, 11)\n",
      "After Filter: Feature Set -> (74, 11)\n"
     ]
    }
   ],
   "source": [
    "#Filter Dataset - Remove Incompelete Data\n",
    "print(\"Before Filter: Feature Set -> \" + str(tt_X.shape))\n",
    "if filter_missing_data:\n",
    "    final_reliable_ids = [x for x in reliable_ids if x not in missing_data]\n",
    "    tt_X = tt_X[tt_X.index.isin(final_reliable_ids)]\n",
    "print(\"After Filter: Feature Set -> \" + str(tt_X.shape))"
   ]
  },
  {
   "cell_type": "code",
   "execution_count": 11,
   "metadata": {},
   "outputs": [
    {
     "data": {
      "image/png": "[encoded data removed]",
      "text/plain": [
       "<Figure size 842.4x595.44 with 1 Axes>"
      ]
     },
     "metadata": {},
     "output_type": "display_data"
    }
   ],
   "source": [
    "# Plots - Qualitative Analysis\n",
    "sns.distplot(reliable_convqs, kde=True, rug=True)\n",
    "plt.show()"
   ]
  },
  {
   "cell_type": "code",
   "execution_count": 12,
   "metadata": {},
   "outputs": [],
   "source": [
    "# Statistical Tests:(Main Question)\n",
    "# Do Turn-Taking features have a significant effect on the Percieved Conversation Quality of the Group?\n",
    "# TT Features can be categorised into three categories -> Equality, Fluency and Synchronisation\n",
    "#\n",
    "# (Sub Question)\n",
    "# Does Conversation Equality have a significant effect on the Percieved Conversation Quality of the Group?\n",
    "#  1. Use Features \"var_#turn\", \"var_dturn\", \"conv_eq\". \n",
    "#\n",
    "# (Sub Question)\n",
    "# Does Conversation Fluency have a significant effect on the Percieved Conversation Quality of the Group?\n",
    "# 1. Use Features \"mean_silence\", \"%silence\", \"#bc\". \n",
    "# \n",
    "# (Sub Question)\n",
    "# Does Conversation Synchronisation have a significant effect on the Percieved Conversation Quality of the Group?\n",
    "# 1. Use Features \"%overlap\", \"#suc_interupt\", \"#un_interupt\". \n",
    "# \n",
    "# For all above questions, after (1), perform below steps,\n",
    "#  2. Fit a Quantile Least Square Regression model on the features vs the convq score.\n",
    "#  3. Analyse p-value significance @ p<0.05\n",
    "#  4. Check the co-efficients for informations."
   ]
  },
  {
   "cell_type": "code",
   "execution_count": 15,
   "metadata": {},
   "outputs": [],
   "source": [
    "test_feats=[\"const\", \"var_#turn\", \"var_dturn\", \"conv_eq\", \"mean_silence\", \"%silence\", \"#bc\", \"%overlap\", \"#suc_interupt\", \"#un_interupt\"]\n",
    "\n",
    "conv_eq_feats=[\"const\", \"group_sizes\", \"conv_eq\"]\n",
    "conv_fl_feats=[\"const\", \"group_sizes\", \"%silence\", \"#bc\"]\n",
    "conv_sy_feats=[\"const\", \"group_sizes\", \"%overlap\", \"#suc_interupt\", \"#un_interupt\"]\n",
    "\n",
    "full_test_feats=[\"const\", \"group_sizes\", \"conv_eq\", \"%silence\", \"#bc\", \"%overlap\", \"#suc_interupt\", \"#un_interupt\"]\n",
    "\n",
    "test_feats=conv_sy_feats"
   ]
  },
  {
   "cell_type": "code",
   "execution_count": 16,
   "metadata": {},
   "outputs": [
    {
     "name": "stdout",
     "output_type": "stream",
     "text": [
      "significance @ 0.05/3 = 0.02 after Bonferroni correction for 3 tests (eq, fluency, sync)\n",
      "\n",
      "\n",
      "~~~~~~~~~~~~~~~~~~~~~~~ Conversation Equality Test ~~~~~~~~~~~~~~~~~~~~~~~\n",
      "                            OLS Regression Results                            \n",
      "==============================================================================\n",
      "Dep. Variable:                  convq   R-squared:                       0.031\n",
      "Model:                            OLS   Adj. R-squared:                  0.004\n",
      "Method:                 Least Squares   F-statistic:                     1.133\n",
      "Date:                Wed, 20 May 2020   Prob (F-statistic):              0.328\n",
      "Time:                        17:33:43   Log-Likelihood:                -76.910\n",
      "No. Observations:                  74   AIC:                             159.8\n",
      "Df Residuals:                      71   BIC:                             166.7\n",
      "Df Model:                           2                                         \n",
      "Covariance Type:            nonrobust                                         \n",
      "===============================================================================\n",
      "                  coef    std err          t      P>|t|      [0.025      0.975]\n",
      "-------------------------------------------------------------------------------\n",
      "const           4.3377      0.252     17.244      0.000       3.836       4.839\n",
      "group_sizes    -0.1140      0.079     -1.447      0.152      -0.271       0.043\n",
      "conv_eq        -0.2051      0.438     -0.469      0.641      -1.078       0.668\n",
      "==============================================================================\n",
      "Omnibus:                       45.263   Durbin-Watson:                   1.741\n",
      "Prob(Omnibus):                  0.000   Jarque-Bera (JB):              128.405\n",
      "Skew:                          -2.037   Prob(JB):                     1.31e-28\n",
      "Kurtosis:                       8.005   Cond. No.                         17.5\n",
      "==============================================================================\n",
      "\n",
      "Warnings:\n",
      "[1] Standard Errors assume that the covariance matrix of the errors is correctly specified.\n",
      "\n",
      "\n",
      "~~~~~~~~~~~~~~~~~~~~~~~ Conversation Fluency Test ~~~~~~~~~~~~~~~~~~~~~~~\n",
      "                            OLS Regression Results                            \n",
      "==============================================================================\n",
      "Dep. Variable:                  convq   R-squared:                       0.052\n",
      "Model:                            OLS   Adj. R-squared:                  0.011\n",
      "Method:                 Least Squares   F-statistic:                     1.280\n",
      "Date:                Wed, 20 May 2020   Prob (F-statistic):              0.288\n",
      "Time:                        17:33:43   Log-Likelihood:                -76.097\n",
      "No. Observations:                  74   AIC:                             160.2\n",
      "Df Residuals:                      70   BIC:                             169.4\n",
      "Df Model:                           3                                         \n",
      "Covariance Type:            nonrobust                                         \n",
      "===============================================================================\n",
      "                  coef    std err          t      P>|t|      [0.025      0.975]\n",
      "-------------------------------------------------------------------------------\n",
      "const           4.3851      0.246     17.803      0.000       3.894       4.876\n",
      "group_sizes    -0.1554      0.085     -1.829      0.072      -0.325       0.014\n",
      "%silence    -3.253e-05   3.71e-05     -0.876      0.384      -0.000    4.16e-05\n",
      "#bc             0.0302      0.027      1.134      0.261      -0.023       0.083\n",
      "==============================================================================\n",
      "Omnibus:                       45.769   Durbin-Watson:                   1.759\n",
      "Prob(Omnibus):                  0.000   Jarque-Bera (JB):              132.600\n",
      "Skew:                          -2.050   Prob(JB):                     1.61e-29\n",
      "Kurtosis:                       8.118   Cond. No.                     7.49e+03\n",
      "==============================================================================\n",
      "\n",
      "Warnings:\n",
      "[1] Standard Errors assume that the covariance matrix of the errors is correctly specified.\n",
      "[2] The condition number is large, 7.49e+03. This might indicate that there are\n",
      "strong multicollinearity or other numerical problems.\n",
      "\n",
      "\n",
      "~~~~~~~~~~~~~~~~~~~~~~~ Conversation Synchronisation Test ~~~~~~~~~~~~~~~~~~~~~~~\n",
      "                            OLS Regression Results                            \n",
      "==============================================================================\n",
      "Dep. Variable:                  convq   R-squared:                       0.050\n",
      "Model:                            OLS   Adj. R-squared:                 -0.005\n",
      "Method:                 Least Squares   F-statistic:                    0.9088\n",
      "Date:                Wed, 20 May 2020   Prob (F-statistic):              0.464\n",
      "Time:                        17:33:43   Log-Likelihood:                -76.173\n",
      "No. Observations:                  74   AIC:                             162.3\n",
      "Df Residuals:                      69   BIC:                             173.9\n",
      "Df Model:                           4                                         \n",
      "Covariance Type:            nonrobust                                         \n",
      "=================================================================================\n",
      "                    coef    std err          t      P>|t|      [0.025      0.975]\n",
      "---------------------------------------------------------------------------------\n",
      "const             4.3848      0.272     16.092      0.000       3.841       4.928\n",
      "group_sizes      -0.1808      0.101     -1.790      0.078      -0.382       0.021\n",
      "%overlap          0.0484      0.754      0.064      0.949      -1.455       1.552\n",
      "#suc_interupt     0.0292      0.048      0.613      0.542      -0.066       0.124\n",
      "#un_interupt     -0.0217      0.052     -0.420      0.675      -0.125       0.081\n",
      "==============================================================================\n",
      "Omnibus:                       44.470   Durbin-Watson:                   1.706\n",
      "Prob(Omnibus):                  0.000   Jarque-Bera (JB):              123.141\n",
      "Skew:                          -2.009   Prob(JB):                     1.82e-27\n",
      "Kurtosis:                       7.877   Cond. No.                         157.\n",
      "==============================================================================\n",
      "\n",
      "Warnings:\n",
      "[1] Standard Errors assume that the covariance matrix of the errors is correctly specified.\n"
     ]
    }
   ],
   "source": [
    "# Experiment Below\n",
    "\n",
    "# Ordinary Regression\n",
    "import statsmodels.api as sm\n",
    "import statsmodels.formula.api as smf\n",
    "\n",
    "print(\"significance @ 0.05/3 = 0.02 after Bonferroni correction for 3 tests (eq, fluency, sync)\")\n",
    "print()\n",
    "print()\n",
    "print(\"~~~~~~~~~~~~~~~~~~~~~~~ Conversation Equality Test ~~~~~~~~~~~~~~~~~~~~~~~\")\n",
    "X = sm.add_constant(tt_X)\n",
    "model = sm.OLS(X[\"convq\"], X.loc[:,conv_eq_feats])\n",
    "results = model.fit()\n",
    "print(results.summary())\n",
    "print()\n",
    "print()\n",
    "\n",
    "print(\"~~~~~~~~~~~~~~~~~~~~~~~ Conversation Fluency Test ~~~~~~~~~~~~~~~~~~~~~~~\")\n",
    "model = sm.OLS(X[\"convq\"], X.loc[:,conv_fl_feats])\n",
    "results = model.fit()\n",
    "print(results.summary())\n",
    "print()\n",
    "print()\n",
    "\n",
    "print(\"~~~~~~~~~~~~~~~~~~~~~~~ Conversation Synchronisation Test ~~~~~~~~~~~~~~~~~~~~~~~\")\n",
    "model = sm.OLS(X[\"convq\"], X.loc[:,conv_sy_feats])\n",
    "results = model.fit()\n",
    "print(results.summary())"
   ]
  },
  {
   "cell_type": "code",
   "execution_count": null,
   "metadata": {},
   "outputs": [],
   "source": [
    "# Quantile Regression\n",
    "X = sm.add_constant(tt_X)\n",
    "\n",
    "model = sm.regression.quantile_regression.QuantReg(X[\"convq\"], X.loc[:,conv_eq_feats])\n",
    "results = model.fit(q=.4)\n",
    "print(results.summary())"
   ]
  },
  {
   "cell_type": "code",
   "execution_count": null,
   "metadata": {},
   "outputs": [],
   "source": [
    "# Generalised Linear Regression\n",
    "X = sm.add_constant(tt_X)\n",
    "\n",
    "model = sm.GLM(X[\"convq\"], X.loc[:,full_test_feats])\n",
    "results = model.fit()\n",
    "print(results.summary())"
   ]
  },
  {
   "cell_type": "code",
   "execution_count": null,
   "metadata": {},
   "outputs": [],
   "source": [
    "for curr_feat in full_test_feats:\n",
    "    if curr_feat not in [\"convq\", \"const\"]:\n",
    "        \n",
    "        model_ols = sm.OLS(X[\"convq\"], sm.add_constant(X[curr_feat])).fit().params\n",
    "        model_qnt = sm.regression.quantile_regression.QuantReg(X[\"convq\"], sm.add_constant(X[curr_feat])).fit(q=0.4).params\n",
    "\n",
    "        # scatter-plot data\n",
    "        ax = X.plot(x='convq', y=curr_feat, kind='scatter', c=\"black\")\n",
    "\n",
    "        # plot regression line on the same axes, set x-axis limits\n",
    "        ax.plot(X[\"convq\"].values, model_ols[\"const\"] + model_ols[curr_feat] * X[\"convq\"].values)\n",
    "        ax.plot(X[\"convq\"].values, model_qnt[\"const\"] + model_qnt[curr_feat] * X[\"convq\"].values)\n",
    "        ax.legend(['OLS', 'QUANTILE'])\n",
    "        ax.set_xlim([1, 5])"
   ]
  },
  {
   "cell_type": "code",
   "execution_count": null,
   "metadata": {},
   "outputs": [],
   "source": []
  }
 ],
 "metadata": {
  "kernelspec": {
   "display_name": "Python 3",
   "language": "python",
   "name": "python3"
  },
  "language_info": {
   "codemirror_mode": {
    "name": "ipython",
    "version": 3
   },
   "file_extension": ".py",
   "mimetype": "text/x-python",
   "name": "python",
   "nbconvert_exporter": "python",
   "pygments_lexer": "ipython3",
   "version": "3.7.5"
  }
 },
 "nbformat": 4,
 "nbformat_minor": 4
}
